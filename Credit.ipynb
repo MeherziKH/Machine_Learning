{
  "nbformat": 4,
  "nbformat_minor": 0,
  "metadata": {
    "colab": {
      "provenance": [],
      "collapsed_sections": [
        "riFhzI56XNVj",
        "AJZxAIpFYJ5K",
        "cctxNUSSYqKK",
        "F6T1J_6AZc3N"
      ]
    },
    "kernelspec": {
      "name": "python3",
      "display_name": "Python 3"
    },
    "language_info": {
      "name": "python"
    }
  },
  "cells": [
    {
      "cell_type": "markdown",
      "source": [
        "## 🏦 **CreditBanK**\n",
        "\n",
        "---\n",
        "\n",
        "\n",
        "\n",
        "---\n"
      ],
      "metadata": {
        "id": "BCy7PiT1W83b"
      }
    },
    {
      "cell_type": "markdown",
      "source": [
        "### **Libraries and dependencies**"
      ],
      "metadata": {
        "id": "riFhzI56XNVj"
      }
    },
    {
      "cell_type": "code",
      "source": [
        "#warnings\n",
        "from IPython.display import clear_output\n",
        "import warnings\n",
        "warnings.filterwarnings('ignore')"
      ],
      "metadata": {
        "id": "Sk4R-U3nXrYU"
      },
      "execution_count": null,
      "outputs": []
    },
    {
      "cell_type": "code",
      "source": [
        "import numpy as np # Permet d’effectuer des calculs numériques avec Python\n",
        "import pandas as pd # Pour l'analyse de données. Il propose un certain nombre d'opérations d'exploration, de nettoyage et de transformation des données.\n",
        "import matplotlib.pyplot as plt # Une bibliothèque du langage de programmation Python destinée à tracer et visualiser des données sous formes de graphiques\n",
        "from importlib import reload\n",
        "import seaborn as sns\n",
        "from pandas import read_csv # Pour lire un fichier excel\n",
        "from google.colab import drive # Pour accéder à drive \n",
        "from IPython.display import Image"
      ],
      "metadata": {
        "id": "mAE5_vxnXeR7"
      },
      "execution_count": null,
      "outputs": []
    },
    {
      "cell_type": "code",
      "source": [
        "#Feature selection\n",
        "from sklearn.feature_selection import VarianceThreshold"
      ],
      "metadata": {
        "id": "cB7_6VQtXPtf"
      },
      "execution_count": null,
      "outputs": []
    },
    {
      "cell_type": "code",
      "source": [
        "#Encodage\n",
        "from sklearn.preprocessing import OneHotEncoder\n",
        "onehot = OneHotEncoder(dtype=np.int, sparse=True)"
      ],
      "metadata": {
        "id": "OHrvkpbFXmr4"
      },
      "execution_count": null,
      "outputs": []
    },
    {
      "cell_type": "code",
      "source": [
        "#Normalisation\n",
        "from sklearn.preprocessing import StandardScaler\n",
        "from sklearn.preprocessing import MinMaxScaler"
      ],
      "metadata": {
        "id": "WDvhG8Y8XpF-"
      },
      "execution_count": null,
      "outputs": []
    },
    {
      "cell_type": "code",
      "source": [
        "#PCA\n",
        "from sklearn.decomposition import PCA"
      ],
      "metadata": {
        "id": "KKC9YYNqX0sa"
      },
      "execution_count": null,
      "outputs": []
    },
    {
      "cell_type": "code",
      "source": [
        "#KNN\n",
        "from sklearn.neighbors import KNeighborsClassifier\n",
        "from sklearn.metrics import confusion_matrix\n",
        "from sklearn.metrics import classification_report\n",
        "from sklearn.metrics import roc_curve, auc\n",
        "from sklearn.metrics import plot_confusion_matrix"
      ],
      "metadata": {
        "id": "wnMlqvWYXy4X"
      },
      "execution_count": null,
      "outputs": []
    },
    {
      "cell_type": "code",
      "source": [
        "#SVM\n",
        "from sklearn.svm import SVC\n",
        "from sklearn.metrics import accuracy_score"
      ],
      "metadata": {
        "id": "INgFP6TiX6J4"
      },
      "execution_count": null,
      "outputs": []
    },
    {
      "cell_type": "code",
      "source": [
        "# Agglomerative Hierarchical Clustering (AHC)\n",
        "from sklearn.cluster import AgglomerativeClustering"
      ],
      "metadata": {
        "id": "kIpxCvOZX7_R"
      },
      "execution_count": null,
      "outputs": []
    },
    {
      "cell_type": "code",
      "source": [
        "#KMeans\n",
        "from yellowbrick.cluster import KElbowVisualizer\n",
        "from sklearn.cluster import KMeans"
      ],
      "metadata": {
        "id": "9dGFrHhEX9w-"
      },
      "execution_count": null,
      "outputs": []
    },
    {
      "cell_type": "code",
      "source": [
        "#Decision Tree\n",
        "from sklearn.tree import  DecisionTreeClassifier\n",
        "from sklearn.model_selection import GridSearchCV\n",
        "from sklearn.tree import plot_tree"
      ],
      "metadata": {
        "id": "-5WzPgAdugOR"
      },
      "execution_count": null,
      "outputs": []
    },
    {
      "cell_type": "code",
      "source": [
        "# Chargement de GaussianNB\n",
        "from sklearn.naive_bayes import GaussianNB\n",
        "from sklearn.naive_bayes import MultinomialNB, GaussianNB, BernoulliNB\n",
        "from sklearn.model_selection import cross_val_score"
      ],
      "metadata": {
        "id": "VQZ-LW1tvSHk"
      },
      "execution_count": null,
      "outputs": []
    },
    {
      "cell_type": "code",
      "source": [
        "#Import Random Forest Model \n",
        "from sklearn.ensemble import RandomForestClassifier\n",
        "#Import scikit-learn metrics module for accuracy calculation \n",
        "from sklearn import metrics"
      ],
      "metadata": {
        "id": "Ju2WT5EuyUMj"
      },
      "execution_count": null,
      "outputs": []
    },
    {
      "cell_type": "code",
      "source": [
        "#XGBoost\n",
        "from xgboost import XGBClassifier\n",
        "from sklearn.metrics import plot_confusion_matrix, classification_report"
      ],
      "metadata": {
        "id": "3z-SuHBy2GMG"
      },
      "execution_count": null,
      "outputs": []
    },
    {
      "cell_type": "code",
      "source": [
        "#CAH\n",
        "from scipy.cluster.hierarchy import dendrogram, linkage, fcluster"
      ],
      "metadata": {
        "id": "CkYvdBH2KPsO"
      },
      "execution_count": null,
      "outputs": []
    },
    {
      "cell_type": "markdown",
      "source": [
        "### **Load Dataset from Drive**"
      ],
      "metadata": {
        "id": "AJZxAIpFYJ5K"
      }
    },
    {
      "cell_type": "code",
      "source": [
        "drive.mount('/content/drive')"
      ],
      "metadata": {
        "colab": {
          "base_uri": "https://localhost:8080/"
        },
        "id": "rkjC-SyEYKrp",
        "outputId": "ffd138d7-f9af-48c3-ff9c-4ffeb69d81ca"
      },
      "execution_count": null,
      "outputs": [
        {
          "output_type": "stream",
          "name": "stdout",
          "text": [
            "Drive already mounted at /content/drive; to attempt to forcibly remount, call drive.mount(\"/content/drive\", force_remount=True).\n"
          ]
        }
      ]
    },
    {
      "cell_type": "code",
      "source": [
        "# Importer l'entrepôt de données\n",
        "credits = pd.read_excel('/content/drive/MyDrive/Machine_learning/Projet/CreditBankCS.xlsx')\n",
        "credits"
      ],
      "metadata": {
        "colab": {
          "base_uri": "https://localhost:8080/"
        },
        "id": "BEvRYePzYSBu",
        "outputId": "ea959762-fc48-4c1d-e526-e158578caa60"
      },
      "execution_count": null,
      "outputs": [
        {
          "output_type": "execute_result",
          "data": {
            "text/plain": [
              "     revenuAnnuel  autreRevenu      salaire  age  anneeTravaillee  \\\n",
              "0         29921.0            0  2493.416667   51               10   \n",
              "1         22912.0          530  1379.333333   32                5   \n",
              "2         15780.0            0  1315.000000   30                5   \n",
              "3         31293.0          848  1759.750000   29                5   \n",
              "4         14312.0            0  1192.666667   36               10   \n",
              "..            ...          ...          ...  ...              ...   \n",
              "144       25264.0            0  2105.333333   20                5   \n",
              "145        9251.0            0   770.916667   68               20   \n",
              "146       16901.0            0  1408.416667   50                2   \n",
              "147       28862.0            0  2405.166667   33                5   \n",
              "148       13560.0            0  1130.000000   23               10   \n",
              "\n",
              "     nbDernierCreditRefuse  nbDernierCreditQccepte  PersonnesEnCharge  \\\n",
              "0                        0                       1                  1   \n",
              "1                        3                       2                  1   \n",
              "2                        3                       0                  2   \n",
              "3                        2                       2                  0   \n",
              "4                        2                       2                  2   \n",
              "..                     ...                     ...                ...   \n",
              "144                      4                       0                  0   \n",
              "145                      2                       1                  1   \n",
              "146                      3                       0                  3   \n",
              "147                      2                       1                  1   \n",
              "148                      3                       1                  2   \n",
              "\n",
              "     RevenuNetMoyen  nbVoitures catgSocialePro statutSocial  \\\n",
              "0        831.138889           2        Titular       Single   \n",
              "1        636.444444           1        Titular       Single   \n",
              "2        438.333333           0        Titular       Single   \n",
              "3        869.250000           1    Contractual       Single   \n",
              "4        397.555556           1        Titular       Single   \n",
              "..              ...         ...            ...          ...   \n",
              "144      701.777778           2        Titular       Single   \n",
              "145      256.972222           1        Retired      Married   \n",
              "146      469.472222           0    Contractual       Single   \n",
              "147      801.722222           0    Contractual       Single   \n",
              "148      376.666667           1        Titular      Married   \n",
              "\n",
              "               Residence     secteurTravail   Decision  \n",
              "0            House Owner             Others   Accepted  \n",
              "1    Living with parents      Developpement   Accepted  \n",
              "2    Living with parents        Agriculture    Refused  \n",
              "3    Living with parents             Others   Accepted  \n",
              "4            House Owner           Handwork  Tolerated  \n",
              "..                   ...                ...        ...  \n",
              "144          House Owner          Education  Tolerated  \n",
              "145          House Owner             Others    Refused  \n",
              "146          Float Owner      Manufacturing    Refused  \n",
              "147  Living with parents    Public Services   Accepted  \n",
              "148          Float Owner  Telecommunication  Tolerated  \n",
              "\n",
              "[149 rows x 15 columns]"
            ],
            "text/html": [
              "\n",
              "  <div id=\"df-43f60044-55dc-4fb8-964a-5082f1d5a162\">\n",
              "    <div class=\"colab-df-container\">\n",
              "      <div>\n",
              "<style scoped>\n",
              "    .dataframe tbody tr th:only-of-type {\n",
              "        vertical-align: middle;\n",
              "    }\n",
              "\n",
              "    .dataframe tbody tr th {\n",
              "        vertical-align: top;\n",
              "    }\n",
              "\n",
              "    .dataframe thead th {\n",
              "        text-align: right;\n",
              "    }\n",
              "</style>\n",
              "<table border=\"1\" class=\"dataframe\">\n",
              "  <thead>\n",
              "    <tr style=\"text-align: right;\">\n",
              "      <th></th>\n",
              "      <th>revenuAnnuel</th>\n",
              "      <th>autreRevenu</th>\n",
              "      <th>salaire</th>\n",
              "      <th>age</th>\n",
              "      <th>anneeTravaillee</th>\n",
              "      <th>nbDernierCreditRefuse</th>\n",
              "      <th>nbDernierCreditQccepte</th>\n",
              "      <th>PersonnesEnCharge</th>\n",
              "      <th>RevenuNetMoyen</th>\n",
              "      <th>nbVoitures</th>\n",
              "      <th>catgSocialePro</th>\n",
              "      <th>statutSocial</th>\n",
              "      <th>Residence</th>\n",
              "      <th>secteurTravail</th>\n",
              "      <th>Decision</th>\n",
              "    </tr>\n",
              "  </thead>\n",
              "  <tbody>\n",
              "    <tr>\n",
              "      <th>0</th>\n",
              "      <td>29921.0</td>\n",
              "      <td>0</td>\n",
              "      <td>2493.416667</td>\n",
              "      <td>51</td>\n",
              "      <td>10</td>\n",
              "      <td>0</td>\n",
              "      <td>1</td>\n",
              "      <td>1</td>\n",
              "      <td>831.138889</td>\n",
              "      <td>2</td>\n",
              "      <td>Titular</td>\n",
              "      <td>Single</td>\n",
              "      <td>House Owner</td>\n",
              "      <td>Others</td>\n",
              "      <td>Accepted</td>\n",
              "    </tr>\n",
              "    <tr>\n",
              "      <th>1</th>\n",
              "      <td>22912.0</td>\n",
              "      <td>530</td>\n",
              "      <td>1379.333333</td>\n",
              "      <td>32</td>\n",
              "      <td>5</td>\n",
              "      <td>3</td>\n",
              "      <td>2</td>\n",
              "      <td>1</td>\n",
              "      <td>636.444444</td>\n",
              "      <td>1</td>\n",
              "      <td>Titular</td>\n",
              "      <td>Single</td>\n",
              "      <td>Living with parents</td>\n",
              "      <td>Developpement</td>\n",
              "      <td>Accepted</td>\n",
              "    </tr>\n",
              "    <tr>\n",
              "      <th>2</th>\n",
              "      <td>15780.0</td>\n",
              "      <td>0</td>\n",
              "      <td>1315.000000</td>\n",
              "      <td>30</td>\n",
              "      <td>5</td>\n",
              "      <td>3</td>\n",
              "      <td>0</td>\n",
              "      <td>2</td>\n",
              "      <td>438.333333</td>\n",
              "      <td>0</td>\n",
              "      <td>Titular</td>\n",
              "      <td>Single</td>\n",
              "      <td>Living with parents</td>\n",
              "      <td>Agriculture</td>\n",
              "      <td>Refused</td>\n",
              "    </tr>\n",
              "    <tr>\n",
              "      <th>3</th>\n",
              "      <td>31293.0</td>\n",
              "      <td>848</td>\n",
              "      <td>1759.750000</td>\n",
              "      <td>29</td>\n",
              "      <td>5</td>\n",
              "      <td>2</td>\n",
              "      <td>2</td>\n",
              "      <td>0</td>\n",
              "      <td>869.250000</td>\n",
              "      <td>1</td>\n",
              "      <td>Contractual</td>\n",
              "      <td>Single</td>\n",
              "      <td>Living with parents</td>\n",
              "      <td>Others</td>\n",
              "      <td>Accepted</td>\n",
              "    </tr>\n",
              "    <tr>\n",
              "      <th>4</th>\n",
              "      <td>14312.0</td>\n",
              "      <td>0</td>\n",
              "      <td>1192.666667</td>\n",
              "      <td>36</td>\n",
              "      <td>10</td>\n",
              "      <td>2</td>\n",
              "      <td>2</td>\n",
              "      <td>2</td>\n",
              "      <td>397.555556</td>\n",
              "      <td>1</td>\n",
              "      <td>Titular</td>\n",
              "      <td>Single</td>\n",
              "      <td>House Owner</td>\n",
              "      <td>Handwork</td>\n",
              "      <td>Tolerated</td>\n",
              "    </tr>\n",
              "    <tr>\n",
              "      <th>...</th>\n",
              "      <td>...</td>\n",
              "      <td>...</td>\n",
              "      <td>...</td>\n",
              "      <td>...</td>\n",
              "      <td>...</td>\n",
              "      <td>...</td>\n",
              "      <td>...</td>\n",
              "      <td>...</td>\n",
              "      <td>...</td>\n",
              "      <td>...</td>\n",
              "      <td>...</td>\n",
              "      <td>...</td>\n",
              "      <td>...</td>\n",
              "      <td>...</td>\n",
              "      <td>...</td>\n",
              "    </tr>\n",
              "    <tr>\n",
              "      <th>144</th>\n",
              "      <td>25264.0</td>\n",
              "      <td>0</td>\n",
              "      <td>2105.333333</td>\n",
              "      <td>20</td>\n",
              "      <td>5</td>\n",
              "      <td>4</td>\n",
              "      <td>0</td>\n",
              "      <td>0</td>\n",
              "      <td>701.777778</td>\n",
              "      <td>2</td>\n",
              "      <td>Titular</td>\n",
              "      <td>Single</td>\n",
              "      <td>House Owner</td>\n",
              "      <td>Education</td>\n",
              "      <td>Tolerated</td>\n",
              "    </tr>\n",
              "    <tr>\n",
              "      <th>145</th>\n",
              "      <td>9251.0</td>\n",
              "      <td>0</td>\n",
              "      <td>770.916667</td>\n",
              "      <td>68</td>\n",
              "      <td>20</td>\n",
              "      <td>2</td>\n",
              "      <td>1</td>\n",
              "      <td>1</td>\n",
              "      <td>256.972222</td>\n",
              "      <td>1</td>\n",
              "      <td>Retired</td>\n",
              "      <td>Married</td>\n",
              "      <td>House Owner</td>\n",
              "      <td>Others</td>\n",
              "      <td>Refused</td>\n",
              "    </tr>\n",
              "    <tr>\n",
              "      <th>146</th>\n",
              "      <td>16901.0</td>\n",
              "      <td>0</td>\n",
              "      <td>1408.416667</td>\n",
              "      <td>50</td>\n",
              "      <td>2</td>\n",
              "      <td>3</td>\n",
              "      <td>0</td>\n",
              "      <td>3</td>\n",
              "      <td>469.472222</td>\n",
              "      <td>0</td>\n",
              "      <td>Contractual</td>\n",
              "      <td>Single</td>\n",
              "      <td>Float Owner</td>\n",
              "      <td>Manufacturing</td>\n",
              "      <td>Refused</td>\n",
              "    </tr>\n",
              "    <tr>\n",
              "      <th>147</th>\n",
              "      <td>28862.0</td>\n",
              "      <td>0</td>\n",
              "      <td>2405.166667</td>\n",
              "      <td>33</td>\n",
              "      <td>5</td>\n",
              "      <td>2</td>\n",
              "      <td>1</td>\n",
              "      <td>1</td>\n",
              "      <td>801.722222</td>\n",
              "      <td>0</td>\n",
              "      <td>Contractual</td>\n",
              "      <td>Single</td>\n",
              "      <td>Living with parents</td>\n",
              "      <td>Public Services</td>\n",
              "      <td>Accepted</td>\n",
              "    </tr>\n",
              "    <tr>\n",
              "      <th>148</th>\n",
              "      <td>13560.0</td>\n",
              "      <td>0</td>\n",
              "      <td>1130.000000</td>\n",
              "      <td>23</td>\n",
              "      <td>10</td>\n",
              "      <td>3</td>\n",
              "      <td>1</td>\n",
              "      <td>2</td>\n",
              "      <td>376.666667</td>\n",
              "      <td>1</td>\n",
              "      <td>Titular</td>\n",
              "      <td>Married</td>\n",
              "      <td>Float Owner</td>\n",
              "      <td>Telecommunication</td>\n",
              "      <td>Tolerated</td>\n",
              "    </tr>\n",
              "  </tbody>\n",
              "</table>\n",
              "<p>149 rows × 15 columns</p>\n",
              "</div>\n",
              "      <button class=\"colab-df-convert\" onclick=\"convertToInteractive('df-43f60044-55dc-4fb8-964a-5082f1d5a162')\"\n",
              "              title=\"Convert this dataframe to an interactive table.\"\n",
              "              style=\"display:none;\">\n",
              "        \n",
              "  <svg xmlns=\"http://www.w3.org/2000/svg\" height=\"24px\"viewBox=\"0 0 24 24\"\n",
              "       width=\"24px\">\n",
              "    <path d=\"M0 0h24v24H0V0z\" fill=\"none\"/>\n",
              "    <path d=\"M18.56 5.44l.94 2.06.94-2.06 2.06-.94-2.06-.94-.94-2.06-.94 2.06-2.06.94zm-11 1L8.5 8.5l.94-2.06 2.06-.94-2.06-.94L8.5 2.5l-.94 2.06-2.06.94zm10 10l.94 2.06.94-2.06 2.06-.94-2.06-.94-.94-2.06-.94 2.06-2.06.94z\"/><path d=\"M17.41 7.96l-1.37-1.37c-.4-.4-.92-.59-1.43-.59-.52 0-1.04.2-1.43.59L10.3 9.45l-7.72 7.72c-.78.78-.78 2.05 0 2.83L4 21.41c.39.39.9.59 1.41.59.51 0 1.02-.2 1.41-.59l7.78-7.78 2.81-2.81c.8-.78.8-2.07 0-2.86zM5.41 20L4 18.59l7.72-7.72 1.47 1.35L5.41 20z\"/>\n",
              "  </svg>\n",
              "      </button>\n",
              "      \n",
              "  <style>\n",
              "    .colab-df-container {\n",
              "      display:flex;\n",
              "      flex-wrap:wrap;\n",
              "      gap: 12px;\n",
              "    }\n",
              "\n",
              "    .colab-df-convert {\n",
              "      background-color: #E8F0FE;\n",
              "      border: none;\n",
              "      border-radius: 50%;\n",
              "      cursor: pointer;\n",
              "      display: none;\n",
              "      fill: #1967D2;\n",
              "      height: 32px;\n",
              "      padding: 0 0 0 0;\n",
              "      width: 32px;\n",
              "    }\n",
              "\n",
              "    .colab-df-convert:hover {\n",
              "      background-color: #E2EBFA;\n",
              "      box-shadow: 0px 1px 2px rgba(60, 64, 67, 0.3), 0px 1px 3px 1px rgba(60, 64, 67, 0.15);\n",
              "      fill: #174EA6;\n",
              "    }\n",
              "\n",
              "    [theme=dark] .colab-df-convert {\n",
              "      background-color: #3B4455;\n",
              "      fill: #D2E3FC;\n",
              "    }\n",
              "\n",
              "    [theme=dark] .colab-df-convert:hover {\n",
              "      background-color: #434B5C;\n",
              "      box-shadow: 0px 1px 3px 1px rgba(0, 0, 0, 0.15);\n",
              "      filter: drop-shadow(0px 1px 2px rgba(0, 0, 0, 0.3));\n",
              "      fill: #FFFFFF;\n",
              "    }\n",
              "  </style>\n",
              "\n",
              "      <script>\n",
              "        const buttonEl =\n",
              "          document.querySelector('#df-43f60044-55dc-4fb8-964a-5082f1d5a162 button.colab-df-convert');\n",
              "        buttonEl.style.display =\n",
              "          google.colab.kernel.accessAllowed ? 'block' : 'none';\n",
              "\n",
              "        async function convertToInteractive(key) {\n",
              "          const element = document.querySelector('#df-43f60044-55dc-4fb8-964a-5082f1d5a162');\n",
              "          const dataTable =\n",
              "            await google.colab.kernel.invokeFunction('convertToInteractive',\n",
              "                                                     [key], {});\n",
              "          if (!dataTable) return;\n",
              "\n",
              "          const docLinkHtml = 'Like what you see? Visit the ' +\n",
              "            '<a target=\"_blank\" href=https://colab.research.google.com/notebooks/data_table.ipynb>data table notebook</a>'\n",
              "            + ' to learn more about interactive tables.';\n",
              "          element.innerHTML = '';\n",
              "          dataTable['output_type'] = 'display_data';\n",
              "          await google.colab.output.renderOutput(dataTable, element);\n",
              "          const docLink = document.createElement('div');\n",
              "          docLink.innerHTML = docLinkHtml;\n",
              "          element.appendChild(docLink);\n",
              "        }\n",
              "      </script>\n",
              "    </div>\n",
              "  </div>\n",
              "  "
            ]
          },
          "metadata": {},
          "execution_count": 123
        }
      ]
    },
    {
      "cell_type": "code",
      "source": [
        "# Importer l'entrepôt de données Test\n",
        "creditsT = pd.read_excel(r'/content/drive/MyDrive/Machine_learning/Projet/CreditBankCS.xlsx', sheet_name='DataTest')\n",
        "creditsT"
      ],
      "metadata": {
        "colab": {
          "base_uri": "https://localhost:8080/"
        },
        "id": "Qs554y1rYgHb",
        "outputId": "3d8ce882-90cc-487c-ddd3-f4c9bd970453"
      },
      "execution_count": null,
      "outputs": [
        {
          "output_type": "execute_result",
          "data": {
            "text/plain": [
              "    annual revenue  autre revenue      Salaire  age  Time with employer  \\\n",
              "0          11181.0              0   931.750000   45                   2   \n",
              "1          27475.0              0  2289.583333   34                   5   \n",
              "2          21947.0              0  1828.916667   27                  10   \n",
              "3          28378.0            687  1677.833333   38                   5   \n",
              "4          12007.0              0  1000.583333   24                   2   \n",
              "5          28085.0              0  2340.416667   50                   5   \n",
              "6          21409.0              0  1784.083333   24                   5   \n",
              "7          22858.0              0  1904.833333   45                   5   \n",
              "8          22509.0              0  1875.750000   32                   5   \n",
              "9          26410.0              0  2200.833333   22                  10   \n",
              "10         23656.0              0  1971.333333   32                   2   \n",
              "11          9315.0              0   776.250000   27                   2   \n",
              "12         24413.0              0  2034.416667   39                   2   \n",
              "13         14082.0              0  1173.500000   66                   2   \n",
              "14         28486.0              0  2373.833333   49                   5   \n",
              "15         21221.0              0  1768.416667   27                   5   \n",
              "16         28477.0              0  2373.083333   31                  10   \n",
              "17         26100.0              0  2175.000000   60                  10   \n",
              "18         28139.0            277  2067.916667   32                  20   \n",
              "19         26689.0              0  2224.083333   22                   5   \n",
              "20         23512.0              0  1959.333333   32                  10   \n",
              "21         21251.0            733  1037.916667   57                   5   \n",
              "22         24852.0            415  1656.000000   27                   5   \n",
              "23         22279.0              0  1856.583333   24                   2   \n",
              "24         21591.0              0  1799.250000   25                   2   \n",
              "25         29242.0              0  2436.833333   45                   5   \n",
              "26         26238.0            495  1691.500000   54                   2   \n",
              "27         23384.0              0  1948.666667   40                   2   \n",
              "28         19417.0              0  1618.083333   43                  10   \n",
              "29         16064.0              0  1338.666667   42                   2   \n",
              "30          8562.0              0   713.500000   65                   2   \n",
              "31         27214.0              0  2267.833333   43                   5   \n",
              "32         31151.0            769  1826.916667   51                   5   \n",
              "33         20433.0            898   804.750000   70                  20   \n",
              "34         26282.0              0  2190.166667   61                   2   \n",
              "35         10002.0              0   833.500000   34                   1   \n",
              "36         29487.0            844  1613.250000   22                   5   \n",
              "37         13042.0              0  1086.833333   52                   1   \n",
              "38         25067.0              0  2088.916667   39                  10   \n",
              "39         13895.0              0  1157.916667   28                  10   \n",
              "40         31087.0            318  2272.583333   37                   5   \n",
              "41         25239.0              0  2103.250000   69                   1   \n",
              "42         15760.0              0  1313.333333   20                   5   \n",
              "43         37347.0            714  2398.250000   34                   2   \n",
              "44         11682.0              0   973.500000   22                   5   \n",
              "45         23710.0              0  1975.833333   48                   5   \n",
              "46         14450.0              0  1204.166667   24                   2   \n",
              "47         28607.0              0  2383.916667   21                   5   \n",
              "48         20195.0            856   826.916667   56                   2   \n",
              "\n",
              "    nb last crédit refused  nb last crédit accepted  Persons in charge  \\\n",
              "0                        4                        2                  4   \n",
              "1                        0                        1                  2   \n",
              "2                        0                        2                  4   \n",
              "3                        0                        2                  1   \n",
              "4                        0                        2                  1   \n",
              "5                        4                        0                  2   \n",
              "6                        3                        0                  2   \n",
              "7                        2                        0                  3   \n",
              "8                        2                        1                  0   \n",
              "9                        2                        1                  2   \n",
              "10                       0                        1                  4   \n",
              "11                       3                        1                  0   \n",
              "12                       3                        0                  3   \n",
              "13                       1                        1                  4   \n",
              "14                       0                        1                  0   \n",
              "15                       2                        1                  4   \n",
              "16                       1                        1                  3   \n",
              "17                       1                        2                  2   \n",
              "18                       0                        1                  3   \n",
              "19                       1                        0                  3   \n",
              "20                       0                        1                  3   \n",
              "21                       1                        0                  4   \n",
              "22                       3                        2                  0   \n",
              "23                       4                        1                  3   \n",
              "24                       1                        2                  4   \n",
              "25                       3                        0                  4   \n",
              "26                       3                        0                  3   \n",
              "27                       4                        0                  1   \n",
              "28                       4                        0                  3   \n",
              "29                       1                        0                  1   \n",
              "30                       0                        1                  3   \n",
              "31                       0                        2                  1   \n",
              "32                       4                        0                  2   \n",
              "33                       1                        2                  3   \n",
              "34                       4                        2                  2   \n",
              "35                       3                        1                  0   \n",
              "36                       4                        0                  0   \n",
              "37                       3                        0                  1   \n",
              "38                       2                        2                  2   \n",
              "39                       1                        0                  1   \n",
              "40                       4                        2                  1   \n",
              "41                       4                        2                  1   \n",
              "42                       2                        2                  2   \n",
              "43                       4                        2                  4   \n",
              "44                       3                        0                  4   \n",
              "45                       3                        2                  4   \n",
              "46                       0                        0                  0   \n",
              "47                       2                        1                  3   \n",
              "48                       1                        1                  0   \n",
              "\n",
              "    Revenu net moyen  nb cars cat soci pro social state(matrial)  \\\n",
              "0         310.583333        1  Contractual               Married   \n",
              "1         763.194444        0  Contractual                Single   \n",
              "2         609.638889        2      Titular                Single   \n",
              "3         788.277778        1  Contractual                Single   \n",
              "4         333.527778        1      Titular               Married   \n",
              "5         780.138889        1      Titular               Married   \n",
              "6         594.694444        0      Titular                Single   \n",
              "7         634.944444        1  Contractual                Single   \n",
              "8         625.250000        1      Titular               Married   \n",
              "9         733.611111        1  Contractual                Single   \n",
              "10        657.111111        1      Titular               Married   \n",
              "11        258.750000        1      Titular                Single   \n",
              "12        678.138889        1      Titular                Single   \n",
              "13        391.166667        1  Contractual                Single   \n",
              "14        791.277778        1  Contractual                Single   \n",
              "15        589.472222        0  Contractual               Married   \n",
              "16        791.027778        2      Titular                Single   \n",
              "17        725.000000        1      Titular                Single   \n",
              "18        781.638889        0      Titular                Single   \n",
              "19        741.361111        1      Titular               Married   \n",
              "20        653.111111        1      Titular                Single   \n",
              "21        590.305556        2  Contractual                Single   \n",
              "22        690.333333        0  Contractual                Single   \n",
              "23        618.861111        1  Contractual                Single   \n",
              "24        599.750000        1      Titular                Single   \n",
              "25        812.277778        0      Titular                Single   \n",
              "26        728.833333        2      Titular                Single   \n",
              "27        649.555556        1  Contractual                Single   \n",
              "28        539.361111        0  Contractual               Married   \n",
              "29        446.222222        1      Titular               Married   \n",
              "30        237.833333        1      Titular               Married   \n",
              "31        755.944444        0      Titular                Single   \n",
              "32        865.305556        2      Titular                Single   \n",
              "33        567.583333        0      Retired               Married   \n",
              "34        730.055556        1  Contractual                Single   \n",
              "35        277.833333        1  Contractual                Single   \n",
              "36        819.083333        1      Titular               Married   \n",
              "37        362.277778        0  Contractual               Married   \n",
              "38        696.305556        1      Titular               Married   \n",
              "39        385.972222        1      Titular                Single   \n",
              "40        863.527778        1      Titular               Married   \n",
              "41        701.083333        1  Contractual                Single   \n",
              "42        437.777778        1      Titular                Single   \n",
              "43       1037.416667        1  Contractual               Married   \n",
              "44        324.500000        0      Titular               Married   \n",
              "45        658.611111        1      Titular                Single   \n",
              "46        401.388889        1      Titular                Single   \n",
              "47        794.638889        1  Contractual                Single   \n",
              "48        560.972222        1  Contractual               Married   \n",
              "\n",
              "       Residental Staut secteur de travail   Decision  \n",
              "0           House Owner    Public Services    Refused  \n",
              "1           House Owner    Public Services   Accepted  \n",
              "2           House Owner          Education   Accepted  \n",
              "3   Living with parents             Others   Accepted  \n",
              "4           House Owner      Manufacturing    Refused  \n",
              "5           Float Owner    Public Services  Tolerated  \n",
              "6   Living with parents  Telecommunication    Refused  \n",
              "7           Float Owner           Commerce  Tolerated  \n",
              "8           Float Owner  Telecommunication   Accepted  \n",
              "9   Living with parents      Developpement   Accepted  \n",
              "10          Float Owner          Education   Accepted  \n",
              "11  Living with parents           Commerce    Refused  \n",
              "12          House Owner           Commerce  Tolerated  \n",
              "13          House Owner  Telecommunication  Tolerated  \n",
              "14          Float Owner      Developpement   Accepted  \n",
              "15          House Owner          Education    Refused  \n",
              "16          House Owner           Commerce   Accepted  \n",
              "17          House Owner        Agriculture   Accepted  \n",
              "18  Living with parents      Manufacturing   Accepted  \n",
              "19          Float Owner        Agriculture   Accepted  \n",
              "20  Living with parents      Developpement   Accepted  \n",
              "21          House Owner    Public Services  Tolerated  \n",
              "22          House Owner  Telecommunication   Accepted  \n",
              "23          Float Owner             Others  Tolerated  \n",
              "24  Living with parents           Handwork  Tolerated  \n",
              "25          House Owner          Education  Tolerated  \n",
              "26          House Owner  Telecommunication    Refused  \n",
              "27          Float Owner           Commerce    Refused  \n",
              "28          House Owner        Agriculture  Tolerated  \n",
              "29          Float Owner      Developpement    Refused  \n",
              "30          House Owner          Education    Refused  \n",
              "31          House Owner           Commerce   Accepted  \n",
              "32          House Owner        Agriculture  Tolerated  \n",
              "33          House Owner           Commerce  Tolerated  \n",
              "34          Float Owner  Telecommunication  Tolerated  \n",
              "35  Living with parents           Handwork  Tolerated  \n",
              "36          House Owner          Education  Tolerated  \n",
              "37          House Owner  Telecommunication    Refused  \n",
              "38          Float Owner           Commerce   Accepted  \n",
              "39  Living with parents        Agriculture    Refused  \n",
              "40          House Owner      Developpement   Accepted  \n",
              "41          House Owner          Education  Tolerated  \n",
              "42          Float Owner           Commerce    Refused  \n",
              "43          House Owner        Agriculture   Accepted  \n",
              "44          Float Owner           Commerce    Refused  \n",
              "45          House Owner  Telecommunication   Accepted  \n",
              "46  Living with parents             Others    Refused  \n",
              "47          Float Owner      Manufacturing   Accepted  \n",
              "48          House Owner    Public Services    Refused  "
            ],
            "text/html": [
              "\n",
              "  <div id=\"df-a61e0ae2-8737-4b63-8d0d-9104e6c8f0a2\">\n",
              "    <div class=\"colab-df-container\">\n",
              "      <div>\n",
              "<style scoped>\n",
              "    .dataframe tbody tr th:only-of-type {\n",
              "        vertical-align: middle;\n",
              "    }\n",
              "\n",
              "    .dataframe tbody tr th {\n",
              "        vertical-align: top;\n",
              "    }\n",
              "\n",
              "    .dataframe thead th {\n",
              "        text-align: right;\n",
              "    }\n",
              "</style>\n",
              "<table border=\"1\" class=\"dataframe\">\n",
              "  <thead>\n",
              "    <tr style=\"text-align: right;\">\n",
              "      <th></th>\n",
              "      <th>annual revenue</th>\n",
              "      <th>autre revenue</th>\n",
              "      <th>Salaire</th>\n",
              "      <th>age</th>\n",
              "      <th>Time with employer</th>\n",
              "      <th>nb last crédit refused</th>\n",
              "      <th>nb last crédit accepted</th>\n",
              "      <th>Persons in charge</th>\n",
              "      <th>Revenu net moyen</th>\n",
              "      <th>nb cars</th>\n",
              "      <th>cat soci pro</th>\n",
              "      <th>social state(matrial)</th>\n",
              "      <th>Residental Staut</th>\n",
              "      <th>secteur de travail</th>\n",
              "      <th>Decision</th>\n",
              "    </tr>\n",
              "  </thead>\n",
              "  <tbody>\n",
              "    <tr>\n",
              "      <th>0</th>\n",
              "      <td>11181.0</td>\n",
              "      <td>0</td>\n",
              "      <td>931.750000</td>\n",
              "      <td>45</td>\n",
              "      <td>2</td>\n",
              "      <td>4</td>\n",
              "      <td>2</td>\n",
              "      <td>4</td>\n",
              "      <td>310.583333</td>\n",
              "      <td>1</td>\n",
              "      <td>Contractual</td>\n",
              "      <td>Married</td>\n",
              "      <td>House Owner</td>\n",
              "      <td>Public Services</td>\n",
              "      <td>Refused</td>\n",
              "    </tr>\n",
              "    <tr>\n",
              "      <th>1</th>\n",
              "      <td>27475.0</td>\n",
              "      <td>0</td>\n",
              "      <td>2289.583333</td>\n",
              "      <td>34</td>\n",
              "      <td>5</td>\n",
              "      <td>0</td>\n",
              "      <td>1</td>\n",
              "      <td>2</td>\n",
              "      <td>763.194444</td>\n",
              "      <td>0</td>\n",
              "      <td>Contractual</td>\n",
              "      <td>Single</td>\n",
              "      <td>House Owner</td>\n",
              "      <td>Public Services</td>\n",
              "      <td>Accepted</td>\n",
              "    </tr>\n",
              "    <tr>\n",
              "      <th>2</th>\n",
              "      <td>21947.0</td>\n",
              "      <td>0</td>\n",
              "      <td>1828.916667</td>\n",
              "      <td>27</td>\n",
              "      <td>10</td>\n",
              "      <td>0</td>\n",
              "      <td>2</td>\n",
              "      <td>4</td>\n",
              "      <td>609.638889</td>\n",
              "      <td>2</td>\n",
              "      <td>Titular</td>\n",
              "      <td>Single</td>\n",
              "      <td>House Owner</td>\n",
              "      <td>Education</td>\n",
              "      <td>Accepted</td>\n",
              "    </tr>\n",
              "    <tr>\n",
              "      <th>3</th>\n",
              "      <td>28378.0</td>\n",
              "      <td>687</td>\n",
              "      <td>1677.833333</td>\n",
              "      <td>38</td>\n",
              "      <td>5</td>\n",
              "      <td>0</td>\n",
              "      <td>2</td>\n",
              "      <td>1</td>\n",
              "      <td>788.277778</td>\n",
              "      <td>1</td>\n",
              "      <td>Contractual</td>\n",
              "      <td>Single</td>\n",
              "      <td>Living with parents</td>\n",
              "      <td>Others</td>\n",
              "      <td>Accepted</td>\n",
              "    </tr>\n",
              "    <tr>\n",
              "      <th>4</th>\n",
              "      <td>12007.0</td>\n",
              "      <td>0</td>\n",
              "      <td>1000.583333</td>\n",
              "      <td>24</td>\n",
              "      <td>2</td>\n",
              "      <td>0</td>\n",
              "      <td>2</td>\n",
              "      <td>1</td>\n",
              "      <td>333.527778</td>\n",
              "      <td>1</td>\n",
              "      <td>Titular</td>\n",
              "      <td>Married</td>\n",
              "      <td>House Owner</td>\n",
              "      <td>Manufacturing</td>\n",
              "      <td>Refused</td>\n",
              "    </tr>\n",
              "    <tr>\n",
              "      <th>5</th>\n",
              "      <td>28085.0</td>\n",
              "      <td>0</td>\n",
              "      <td>2340.416667</td>\n",
              "      <td>50</td>\n",
              "      <td>5</td>\n",
              "      <td>4</td>\n",
              "      <td>0</td>\n",
              "      <td>2</td>\n",
              "      <td>780.138889</td>\n",
              "      <td>1</td>\n",
              "      <td>Titular</td>\n",
              "      <td>Married</td>\n",
              "      <td>Float Owner</td>\n",
              "      <td>Public Services</td>\n",
              "      <td>Tolerated</td>\n",
              "    </tr>\n",
              "    <tr>\n",
              "      <th>6</th>\n",
              "      <td>21409.0</td>\n",
              "      <td>0</td>\n",
              "      <td>1784.083333</td>\n",
              "      <td>24</td>\n",
              "      <td>5</td>\n",
              "      <td>3</td>\n",
              "      <td>0</td>\n",
              "      <td>2</td>\n",
              "      <td>594.694444</td>\n",
              "      <td>0</td>\n",
              "      <td>Titular</td>\n",
              "      <td>Single</td>\n",
              "      <td>Living with parents</td>\n",
              "      <td>Telecommunication</td>\n",
              "      <td>Refused</td>\n",
              "    </tr>\n",
              "    <tr>\n",
              "      <th>7</th>\n",
              "      <td>22858.0</td>\n",
              "      <td>0</td>\n",
              "      <td>1904.833333</td>\n",
              "      <td>45</td>\n",
              "      <td>5</td>\n",
              "      <td>2</td>\n",
              "      <td>0</td>\n",
              "      <td>3</td>\n",
              "      <td>634.944444</td>\n",
              "      <td>1</td>\n",
              "      <td>Contractual</td>\n",
              "      <td>Single</td>\n",
              "      <td>Float Owner</td>\n",
              "      <td>Commerce</td>\n",
              "      <td>Tolerated</td>\n",
              "    </tr>\n",
              "    <tr>\n",
              "      <th>8</th>\n",
              "      <td>22509.0</td>\n",
              "      <td>0</td>\n",
              "      <td>1875.750000</td>\n",
              "      <td>32</td>\n",
              "      <td>5</td>\n",
              "      <td>2</td>\n",
              "      <td>1</td>\n",
              "      <td>0</td>\n",
              "      <td>625.250000</td>\n",
              "      <td>1</td>\n",
              "      <td>Titular</td>\n",
              "      <td>Married</td>\n",
              "      <td>Float Owner</td>\n",
              "      <td>Telecommunication</td>\n",
              "      <td>Accepted</td>\n",
              "    </tr>\n",
              "    <tr>\n",
              "      <th>9</th>\n",
              "      <td>26410.0</td>\n",
              "      <td>0</td>\n",
              "      <td>2200.833333</td>\n",
              "      <td>22</td>\n",
              "      <td>10</td>\n",
              "      <td>2</td>\n",
              "      <td>1</td>\n",
              "      <td>2</td>\n",
              "      <td>733.611111</td>\n",
              "      <td>1</td>\n",
              "      <td>Contractual</td>\n",
              "      <td>Single</td>\n",
              "      <td>Living with parents</td>\n",
              "      <td>Developpement</td>\n",
              "      <td>Accepted</td>\n",
              "    </tr>\n",
              "    <tr>\n",
              "      <th>10</th>\n",
              "      <td>23656.0</td>\n",
              "      <td>0</td>\n",
              "      <td>1971.333333</td>\n",
              "      <td>32</td>\n",
              "      <td>2</td>\n",
              "      <td>0</td>\n",
              "      <td>1</td>\n",
              "      <td>4</td>\n",
              "      <td>657.111111</td>\n",
              "      <td>1</td>\n",
              "      <td>Titular</td>\n",
              "      <td>Married</td>\n",
              "      <td>Float Owner</td>\n",
              "      <td>Education</td>\n",
              "      <td>Accepted</td>\n",
              "    </tr>\n",
              "    <tr>\n",
              "      <th>11</th>\n",
              "      <td>9315.0</td>\n",
              "      <td>0</td>\n",
              "      <td>776.250000</td>\n",
              "      <td>27</td>\n",
              "      <td>2</td>\n",
              "      <td>3</td>\n",
              "      <td>1</td>\n",
              "      <td>0</td>\n",
              "      <td>258.750000</td>\n",
              "      <td>1</td>\n",
              "      <td>Titular</td>\n",
              "      <td>Single</td>\n",
              "      <td>Living with parents</td>\n",
              "      <td>Commerce</td>\n",
              "      <td>Refused</td>\n",
              "    </tr>\n",
              "    <tr>\n",
              "      <th>12</th>\n",
              "      <td>24413.0</td>\n",
              "      <td>0</td>\n",
              "      <td>2034.416667</td>\n",
              "      <td>39</td>\n",
              "      <td>2</td>\n",
              "      <td>3</td>\n",
              "      <td>0</td>\n",
              "      <td>3</td>\n",
              "      <td>678.138889</td>\n",
              "      <td>1</td>\n",
              "      <td>Titular</td>\n",
              "      <td>Single</td>\n",
              "      <td>House Owner</td>\n",
              "      <td>Commerce</td>\n",
              "      <td>Tolerated</td>\n",
              "    </tr>\n",
              "    <tr>\n",
              "      <th>13</th>\n",
              "      <td>14082.0</td>\n",
              "      <td>0</td>\n",
              "      <td>1173.500000</td>\n",
              "      <td>66</td>\n",
              "      <td>2</td>\n",
              "      <td>1</td>\n",
              "      <td>1</td>\n",
              "      <td>4</td>\n",
              "      <td>391.166667</td>\n",
              "      <td>1</td>\n",
              "      <td>Contractual</td>\n",
              "      <td>Single</td>\n",
              "      <td>House Owner</td>\n",
              "      <td>Telecommunication</td>\n",
              "      <td>Tolerated</td>\n",
              "    </tr>\n",
              "    <tr>\n",
              "      <th>14</th>\n",
              "      <td>28486.0</td>\n",
              "      <td>0</td>\n",
              "      <td>2373.833333</td>\n",
              "      <td>49</td>\n",
              "      <td>5</td>\n",
              "      <td>0</td>\n",
              "      <td>1</td>\n",
              "      <td>0</td>\n",
              "      <td>791.277778</td>\n",
              "      <td>1</td>\n",
              "      <td>Contractual</td>\n",
              "      <td>Single</td>\n",
              "      <td>Float Owner</td>\n",
              "      <td>Developpement</td>\n",
              "      <td>Accepted</td>\n",
              "    </tr>\n",
              "    <tr>\n",
              "      <th>15</th>\n",
              "      <td>21221.0</td>\n",
              "      <td>0</td>\n",
              "      <td>1768.416667</td>\n",
              "      <td>27</td>\n",
              "      <td>5</td>\n",
              "      <td>2</td>\n",
              "      <td>1</td>\n",
              "      <td>4</td>\n",
              "      <td>589.472222</td>\n",
              "      <td>0</td>\n",
              "      <td>Contractual</td>\n",
              "      <td>Married</td>\n",
              "      <td>House Owner</td>\n",
              "      <td>Education</td>\n",
              "      <td>Refused</td>\n",
              "    </tr>\n",
              "    <tr>\n",
              "      <th>16</th>\n",
              "      <td>28477.0</td>\n",
              "      <td>0</td>\n",
              "      <td>2373.083333</td>\n",
              "      <td>31</td>\n",
              "      <td>10</td>\n",
              "      <td>1</td>\n",
              "      <td>1</td>\n",
              "      <td>3</td>\n",
              "      <td>791.027778</td>\n",
              "      <td>2</td>\n",
              "      <td>Titular</td>\n",
              "      <td>Single</td>\n",
              "      <td>House Owner</td>\n",
              "      <td>Commerce</td>\n",
              "      <td>Accepted</td>\n",
              "    </tr>\n",
              "    <tr>\n",
              "      <th>17</th>\n",
              "      <td>26100.0</td>\n",
              "      <td>0</td>\n",
              "      <td>2175.000000</td>\n",
              "      <td>60</td>\n",
              "      <td>10</td>\n",
              "      <td>1</td>\n",
              "      <td>2</td>\n",
              "      <td>2</td>\n",
              "      <td>725.000000</td>\n",
              "      <td>1</td>\n",
              "      <td>Titular</td>\n",
              "      <td>Single</td>\n",
              "      <td>House Owner</td>\n",
              "      <td>Agriculture</td>\n",
              "      <td>Accepted</td>\n",
              "    </tr>\n",
              "    <tr>\n",
              "      <th>18</th>\n",
              "      <td>28139.0</td>\n",
              "      <td>277</td>\n",
              "      <td>2067.916667</td>\n",
              "      <td>32</td>\n",
              "      <td>20</td>\n",
              "      <td>0</td>\n",
              "      <td>1</td>\n",
              "      <td>3</td>\n",
              "      <td>781.638889</td>\n",
              "      <td>0</td>\n",
              "      <td>Titular</td>\n",
              "      <td>Single</td>\n",
              "      <td>Living with parents</td>\n",
              "      <td>Manufacturing</td>\n",
              "      <td>Accepted</td>\n",
              "    </tr>\n",
              "    <tr>\n",
              "      <th>19</th>\n",
              "      <td>26689.0</td>\n",
              "      <td>0</td>\n",
              "      <td>2224.083333</td>\n",
              "      <td>22</td>\n",
              "      <td>5</td>\n",
              "      <td>1</td>\n",
              "      <td>0</td>\n",
              "      <td>3</td>\n",
              "      <td>741.361111</td>\n",
              "      <td>1</td>\n",
              "      <td>Titular</td>\n",
              "      <td>Married</td>\n",
              "      <td>Float Owner</td>\n",
              "      <td>Agriculture</td>\n",
              "      <td>Accepted</td>\n",
              "    </tr>\n",
              "    <tr>\n",
              "      <th>20</th>\n",
              "      <td>23512.0</td>\n",
              "      <td>0</td>\n",
              "      <td>1959.333333</td>\n",
              "      <td>32</td>\n",
              "      <td>10</td>\n",
              "      <td>0</td>\n",
              "      <td>1</td>\n",
              "      <td>3</td>\n",
              "      <td>653.111111</td>\n",
              "      <td>1</td>\n",
              "      <td>Titular</td>\n",
              "      <td>Single</td>\n",
              "      <td>Living with parents</td>\n",
              "      <td>Developpement</td>\n",
              "      <td>Accepted</td>\n",
              "    </tr>\n",
              "    <tr>\n",
              "      <th>21</th>\n",
              "      <td>21251.0</td>\n",
              "      <td>733</td>\n",
              "      <td>1037.916667</td>\n",
              "      <td>57</td>\n",
              "      <td>5</td>\n",
              "      <td>1</td>\n",
              "      <td>0</td>\n",
              "      <td>4</td>\n",
              "      <td>590.305556</td>\n",
              "      <td>2</td>\n",
              "      <td>Contractual</td>\n",
              "      <td>Single</td>\n",
              "      <td>House Owner</td>\n",
              "      <td>Public Services</td>\n",
              "      <td>Tolerated</td>\n",
              "    </tr>\n",
              "    <tr>\n",
              "      <th>22</th>\n",
              "      <td>24852.0</td>\n",
              "      <td>415</td>\n",
              "      <td>1656.000000</td>\n",
              "      <td>27</td>\n",
              "      <td>5</td>\n",
              "      <td>3</td>\n",
              "      <td>2</td>\n",
              "      <td>0</td>\n",
              "      <td>690.333333</td>\n",
              "      <td>0</td>\n",
              "      <td>Contractual</td>\n",
              "      <td>Single</td>\n",
              "      <td>House Owner</td>\n",
              "      <td>Telecommunication</td>\n",
              "      <td>Accepted</td>\n",
              "    </tr>\n",
              "    <tr>\n",
              "      <th>23</th>\n",
              "      <td>22279.0</td>\n",
              "      <td>0</td>\n",
              "      <td>1856.583333</td>\n",
              "      <td>24</td>\n",
              "      <td>2</td>\n",
              "      <td>4</td>\n",
              "      <td>1</td>\n",
              "      <td>3</td>\n",
              "      <td>618.861111</td>\n",
              "      <td>1</td>\n",
              "      <td>Contractual</td>\n",
              "      <td>Single</td>\n",
              "      <td>Float Owner</td>\n",
              "      <td>Others</td>\n",
              "      <td>Tolerated</td>\n",
              "    </tr>\n",
              "    <tr>\n",
              "      <th>24</th>\n",
              "      <td>21591.0</td>\n",
              "      <td>0</td>\n",
              "      <td>1799.250000</td>\n",
              "      <td>25</td>\n",
              "      <td>2</td>\n",
              "      <td>1</td>\n",
              "      <td>2</td>\n",
              "      <td>4</td>\n",
              "      <td>599.750000</td>\n",
              "      <td>1</td>\n",
              "      <td>Titular</td>\n",
              "      <td>Single</td>\n",
              "      <td>Living with parents</td>\n",
              "      <td>Handwork</td>\n",
              "      <td>Tolerated</td>\n",
              "    </tr>\n",
              "    <tr>\n",
              "      <th>25</th>\n",
              "      <td>29242.0</td>\n",
              "      <td>0</td>\n",
              "      <td>2436.833333</td>\n",
              "      <td>45</td>\n",
              "      <td>5</td>\n",
              "      <td>3</td>\n",
              "      <td>0</td>\n",
              "      <td>4</td>\n",
              "      <td>812.277778</td>\n",
              "      <td>0</td>\n",
              "      <td>Titular</td>\n",
              "      <td>Single</td>\n",
              "      <td>House Owner</td>\n",
              "      <td>Education</td>\n",
              "      <td>Tolerated</td>\n",
              "    </tr>\n",
              "    <tr>\n",
              "      <th>26</th>\n",
              "      <td>26238.0</td>\n",
              "      <td>495</td>\n",
              "      <td>1691.500000</td>\n",
              "      <td>54</td>\n",
              "      <td>2</td>\n",
              "      <td>3</td>\n",
              "      <td>0</td>\n",
              "      <td>3</td>\n",
              "      <td>728.833333</td>\n",
              "      <td>2</td>\n",
              "      <td>Titular</td>\n",
              "      <td>Single</td>\n",
              "      <td>House Owner</td>\n",
              "      <td>Telecommunication</td>\n",
              "      <td>Refused</td>\n",
              "    </tr>\n",
              "    <tr>\n",
              "      <th>27</th>\n",
              "      <td>23384.0</td>\n",
              "      <td>0</td>\n",
              "      <td>1948.666667</td>\n",
              "      <td>40</td>\n",
              "      <td>2</td>\n",
              "      <td>4</td>\n",
              "      <td>0</td>\n",
              "      <td>1</td>\n",
              "      <td>649.555556</td>\n",
              "      <td>1</td>\n",
              "      <td>Contractual</td>\n",
              "      <td>Single</td>\n",
              "      <td>Float Owner</td>\n",
              "      <td>Commerce</td>\n",
              "      <td>Refused</td>\n",
              "    </tr>\n",
              "    <tr>\n",
              "      <th>28</th>\n",
              "      <td>19417.0</td>\n",
              "      <td>0</td>\n",
              "      <td>1618.083333</td>\n",
              "      <td>43</td>\n",
              "      <td>10</td>\n",
              "      <td>4</td>\n",
              "      <td>0</td>\n",
              "      <td>3</td>\n",
              "      <td>539.361111</td>\n",
              "      <td>0</td>\n",
              "      <td>Contractual</td>\n",
              "      <td>Married</td>\n",
              "      <td>House Owner</td>\n",
              "      <td>Agriculture</td>\n",
              "      <td>Tolerated</td>\n",
              "    </tr>\n",
              "    <tr>\n",
              "      <th>29</th>\n",
              "      <td>16064.0</td>\n",
              "      <td>0</td>\n",
              "      <td>1338.666667</td>\n",
              "      <td>42</td>\n",
              "      <td>2</td>\n",
              "      <td>1</td>\n",
              "      <td>0</td>\n",
              "      <td>1</td>\n",
              "      <td>446.222222</td>\n",
              "      <td>1</td>\n",
              "      <td>Titular</td>\n",
              "      <td>Married</td>\n",
              "      <td>Float Owner</td>\n",
              "      <td>Developpement</td>\n",
              "      <td>Refused</td>\n",
              "    </tr>\n",
              "    <tr>\n",
              "      <th>30</th>\n",
              "      <td>8562.0</td>\n",
              "      <td>0</td>\n",
              "      <td>713.500000</td>\n",
              "      <td>65</td>\n",
              "      <td>2</td>\n",
              "      <td>0</td>\n",
              "      <td>1</td>\n",
              "      <td>3</td>\n",
              "      <td>237.833333</td>\n",
              "      <td>1</td>\n",
              "      <td>Titular</td>\n",
              "      <td>Married</td>\n",
              "      <td>House Owner</td>\n",
              "      <td>Education</td>\n",
              "      <td>Refused</td>\n",
              "    </tr>\n",
              "    <tr>\n",
              "      <th>31</th>\n",
              "      <td>27214.0</td>\n",
              "      <td>0</td>\n",
              "      <td>2267.833333</td>\n",
              "      <td>43</td>\n",
              "      <td>5</td>\n",
              "      <td>0</td>\n",
              "      <td>2</td>\n",
              "      <td>1</td>\n",
              "      <td>755.944444</td>\n",
              "      <td>0</td>\n",
              "      <td>Titular</td>\n",
              "      <td>Single</td>\n",
              "      <td>House Owner</td>\n",
              "      <td>Commerce</td>\n",
              "      <td>Accepted</td>\n",
              "    </tr>\n",
              "    <tr>\n",
              "      <th>32</th>\n",
              "      <td>31151.0</td>\n",
              "      <td>769</td>\n",
              "      <td>1826.916667</td>\n",
              "      <td>51</td>\n",
              "      <td>5</td>\n",
              "      <td>4</td>\n",
              "      <td>0</td>\n",
              "      <td>2</td>\n",
              "      <td>865.305556</td>\n",
              "      <td>2</td>\n",
              "      <td>Titular</td>\n",
              "      <td>Single</td>\n",
              "      <td>House Owner</td>\n",
              "      <td>Agriculture</td>\n",
              "      <td>Tolerated</td>\n",
              "    </tr>\n",
              "    <tr>\n",
              "      <th>33</th>\n",
              "      <td>20433.0</td>\n",
              "      <td>898</td>\n",
              "      <td>804.750000</td>\n",
              "      <td>70</td>\n",
              "      <td>20</td>\n",
              "      <td>1</td>\n",
              "      <td>2</td>\n",
              "      <td>3</td>\n",
              "      <td>567.583333</td>\n",
              "      <td>0</td>\n",
              "      <td>Retired</td>\n",
              "      <td>Married</td>\n",
              "      <td>House Owner</td>\n",
              "      <td>Commerce</td>\n",
              "      <td>Tolerated</td>\n",
              "    </tr>\n",
              "    <tr>\n",
              "      <th>34</th>\n",
              "      <td>26282.0</td>\n",
              "      <td>0</td>\n",
              "      <td>2190.166667</td>\n",
              "      <td>61</td>\n",
              "      <td>2</td>\n",
              "      <td>4</td>\n",
              "      <td>2</td>\n",
              "      <td>2</td>\n",
              "      <td>730.055556</td>\n",
              "      <td>1</td>\n",
              "      <td>Contractual</td>\n",
              "      <td>Single</td>\n",
              "      <td>Float Owner</td>\n",
              "      <td>Telecommunication</td>\n",
              "      <td>Tolerated</td>\n",
              "    </tr>\n",
              "    <tr>\n",
              "      <th>35</th>\n",
              "      <td>10002.0</td>\n",
              "      <td>0</td>\n",
              "      <td>833.500000</td>\n",
              "      <td>34</td>\n",
              "      <td>1</td>\n",
              "      <td>3</td>\n",
              "      <td>1</td>\n",
              "      <td>0</td>\n",
              "      <td>277.833333</td>\n",
              "      <td>1</td>\n",
              "      <td>Contractual</td>\n",
              "      <td>Single</td>\n",
              "      <td>Living with parents</td>\n",
              "      <td>Handwork</td>\n",
              "      <td>Tolerated</td>\n",
              "    </tr>\n",
              "    <tr>\n",
              "      <th>36</th>\n",
              "      <td>29487.0</td>\n",
              "      <td>844</td>\n",
              "      <td>1613.250000</td>\n",
              "      <td>22</td>\n",
              "      <td>5</td>\n",
              "      <td>4</td>\n",
              "      <td>0</td>\n",
              "      <td>0</td>\n",
              "      <td>819.083333</td>\n",
              "      <td>1</td>\n",
              "      <td>Titular</td>\n",
              "      <td>Married</td>\n",
              "      <td>House Owner</td>\n",
              "      <td>Education</td>\n",
              "      <td>Tolerated</td>\n",
              "    </tr>\n",
              "    <tr>\n",
              "      <th>37</th>\n",
              "      <td>13042.0</td>\n",
              "      <td>0</td>\n",
              "      <td>1086.833333</td>\n",
              "      <td>52</td>\n",
              "      <td>1</td>\n",
              "      <td>3</td>\n",
              "      <td>0</td>\n",
              "      <td>1</td>\n",
              "      <td>362.277778</td>\n",
              "      <td>0</td>\n",
              "      <td>Contractual</td>\n",
              "      <td>Married</td>\n",
              "      <td>House Owner</td>\n",
              "      <td>Telecommunication</td>\n",
              "      <td>Refused</td>\n",
              "    </tr>\n",
              "    <tr>\n",
              "      <th>38</th>\n",
              "      <td>25067.0</td>\n",
              "      <td>0</td>\n",
              "      <td>2088.916667</td>\n",
              "      <td>39</td>\n",
              "      <td>10</td>\n",
              "      <td>2</td>\n",
              "      <td>2</td>\n",
              "      <td>2</td>\n",
              "      <td>696.305556</td>\n",
              "      <td>1</td>\n",
              "      <td>Titular</td>\n",
              "      <td>Married</td>\n",
              "      <td>Float Owner</td>\n",
              "      <td>Commerce</td>\n",
              "      <td>Accepted</td>\n",
              "    </tr>\n",
              "    <tr>\n",
              "      <th>39</th>\n",
              "      <td>13895.0</td>\n",
              "      <td>0</td>\n",
              "      <td>1157.916667</td>\n",
              "      <td>28</td>\n",
              "      <td>10</td>\n",
              "      <td>1</td>\n",
              "      <td>0</td>\n",
              "      <td>1</td>\n",
              "      <td>385.972222</td>\n",
              "      <td>1</td>\n",
              "      <td>Titular</td>\n",
              "      <td>Single</td>\n",
              "      <td>Living with parents</td>\n",
              "      <td>Agriculture</td>\n",
              "      <td>Refused</td>\n",
              "    </tr>\n",
              "    <tr>\n",
              "      <th>40</th>\n",
              "      <td>31087.0</td>\n",
              "      <td>318</td>\n",
              "      <td>2272.583333</td>\n",
              "      <td>37</td>\n",
              "      <td>5</td>\n",
              "      <td>4</td>\n",
              "      <td>2</td>\n",
              "      <td>1</td>\n",
              "      <td>863.527778</td>\n",
              "      <td>1</td>\n",
              "      <td>Titular</td>\n",
              "      <td>Married</td>\n",
              "      <td>House Owner</td>\n",
              "      <td>Developpement</td>\n",
              "      <td>Accepted</td>\n",
              "    </tr>\n",
              "    <tr>\n",
              "      <th>41</th>\n",
              "      <td>25239.0</td>\n",
              "      <td>0</td>\n",
              "      <td>2103.250000</td>\n",
              "      <td>69</td>\n",
              "      <td>1</td>\n",
              "      <td>4</td>\n",
              "      <td>2</td>\n",
              "      <td>1</td>\n",
              "      <td>701.083333</td>\n",
              "      <td>1</td>\n",
              "      <td>Contractual</td>\n",
              "      <td>Single</td>\n",
              "      <td>House Owner</td>\n",
              "      <td>Education</td>\n",
              "      <td>Tolerated</td>\n",
              "    </tr>\n",
              "    <tr>\n",
              "      <th>42</th>\n",
              "      <td>15760.0</td>\n",
              "      <td>0</td>\n",
              "      <td>1313.333333</td>\n",
              "      <td>20</td>\n",
              "      <td>5</td>\n",
              "      <td>2</td>\n",
              "      <td>2</td>\n",
              "      <td>2</td>\n",
              "      <td>437.777778</td>\n",
              "      <td>1</td>\n",
              "      <td>Titular</td>\n",
              "      <td>Single</td>\n",
              "      <td>Float Owner</td>\n",
              "      <td>Commerce</td>\n",
              "      <td>Refused</td>\n",
              "    </tr>\n",
              "    <tr>\n",
              "      <th>43</th>\n",
              "      <td>37347.0</td>\n",
              "      <td>714</td>\n",
              "      <td>2398.250000</td>\n",
              "      <td>34</td>\n",
              "      <td>2</td>\n",
              "      <td>4</td>\n",
              "      <td>2</td>\n",
              "      <td>4</td>\n",
              "      <td>1037.416667</td>\n",
              "      <td>1</td>\n",
              "      <td>Contractual</td>\n",
              "      <td>Married</td>\n",
              "      <td>House Owner</td>\n",
              "      <td>Agriculture</td>\n",
              "      <td>Accepted</td>\n",
              "    </tr>\n",
              "    <tr>\n",
              "      <th>44</th>\n",
              "      <td>11682.0</td>\n",
              "      <td>0</td>\n",
              "      <td>973.500000</td>\n",
              "      <td>22</td>\n",
              "      <td>5</td>\n",
              "      <td>3</td>\n",
              "      <td>0</td>\n",
              "      <td>4</td>\n",
              "      <td>324.500000</td>\n",
              "      <td>0</td>\n",
              "      <td>Titular</td>\n",
              "      <td>Married</td>\n",
              "      <td>Float Owner</td>\n",
              "      <td>Commerce</td>\n",
              "      <td>Refused</td>\n",
              "    </tr>\n",
              "    <tr>\n",
              "      <th>45</th>\n",
              "      <td>23710.0</td>\n",
              "      <td>0</td>\n",
              "      <td>1975.833333</td>\n",
              "      <td>48</td>\n",
              "      <td>5</td>\n",
              "      <td>3</td>\n",
              "      <td>2</td>\n",
              "      <td>4</td>\n",
              "      <td>658.611111</td>\n",
              "      <td>1</td>\n",
              "      <td>Titular</td>\n",
              "      <td>Single</td>\n",
              "      <td>House Owner</td>\n",
              "      <td>Telecommunication</td>\n",
              "      <td>Accepted</td>\n",
              "    </tr>\n",
              "    <tr>\n",
              "      <th>46</th>\n",
              "      <td>14450.0</td>\n",
              "      <td>0</td>\n",
              "      <td>1204.166667</td>\n",
              "      <td>24</td>\n",
              "      <td>2</td>\n",
              "      <td>0</td>\n",
              "      <td>0</td>\n",
              "      <td>0</td>\n",
              "      <td>401.388889</td>\n",
              "      <td>1</td>\n",
              "      <td>Titular</td>\n",
              "      <td>Single</td>\n",
              "      <td>Living with parents</td>\n",
              "      <td>Others</td>\n",
              "      <td>Refused</td>\n",
              "    </tr>\n",
              "    <tr>\n",
              "      <th>47</th>\n",
              "      <td>28607.0</td>\n",
              "      <td>0</td>\n",
              "      <td>2383.916667</td>\n",
              "      <td>21</td>\n",
              "      <td>5</td>\n",
              "      <td>2</td>\n",
              "      <td>1</td>\n",
              "      <td>3</td>\n",
              "      <td>794.638889</td>\n",
              "      <td>1</td>\n",
              "      <td>Contractual</td>\n",
              "      <td>Single</td>\n",
              "      <td>Float Owner</td>\n",
              "      <td>Manufacturing</td>\n",
              "      <td>Accepted</td>\n",
              "    </tr>\n",
              "    <tr>\n",
              "      <th>48</th>\n",
              "      <td>20195.0</td>\n",
              "      <td>856</td>\n",
              "      <td>826.916667</td>\n",
              "      <td>56</td>\n",
              "      <td>2</td>\n",
              "      <td>1</td>\n",
              "      <td>1</td>\n",
              "      <td>0</td>\n",
              "      <td>560.972222</td>\n",
              "      <td>1</td>\n",
              "      <td>Contractual</td>\n",
              "      <td>Married</td>\n",
              "      <td>House Owner</td>\n",
              "      <td>Public Services</td>\n",
              "      <td>Refused</td>\n",
              "    </tr>\n",
              "  </tbody>\n",
              "</table>\n",
              "</div>\n",
              "      <button class=\"colab-df-convert\" onclick=\"convertToInteractive('df-a61e0ae2-8737-4b63-8d0d-9104e6c8f0a2')\"\n",
              "              title=\"Convert this dataframe to an interactive table.\"\n",
              "              style=\"display:none;\">\n",
              "        \n",
              "  <svg xmlns=\"http://www.w3.org/2000/svg\" height=\"24px\"viewBox=\"0 0 24 24\"\n",
              "       width=\"24px\">\n",
              "    <path d=\"M0 0h24v24H0V0z\" fill=\"none\"/>\n",
              "    <path d=\"M18.56 5.44l.94 2.06.94-2.06 2.06-.94-2.06-.94-.94-2.06-.94 2.06-2.06.94zm-11 1L8.5 8.5l.94-2.06 2.06-.94-2.06-.94L8.5 2.5l-.94 2.06-2.06.94zm10 10l.94 2.06.94-2.06 2.06-.94-2.06-.94-.94-2.06-.94 2.06-2.06.94z\"/><path d=\"M17.41 7.96l-1.37-1.37c-.4-.4-.92-.59-1.43-.59-.52 0-1.04.2-1.43.59L10.3 9.45l-7.72 7.72c-.78.78-.78 2.05 0 2.83L4 21.41c.39.39.9.59 1.41.59.51 0 1.02-.2 1.41-.59l7.78-7.78 2.81-2.81c.8-.78.8-2.07 0-2.86zM5.41 20L4 18.59l7.72-7.72 1.47 1.35L5.41 20z\"/>\n",
              "  </svg>\n",
              "      </button>\n",
              "      \n",
              "  <style>\n",
              "    .colab-df-container {\n",
              "      display:flex;\n",
              "      flex-wrap:wrap;\n",
              "      gap: 12px;\n",
              "    }\n",
              "\n",
              "    .colab-df-convert {\n",
              "      background-color: #E8F0FE;\n",
              "      border: none;\n",
              "      border-radius: 50%;\n",
              "      cursor: pointer;\n",
              "      display: none;\n",
              "      fill: #1967D2;\n",
              "      height: 32px;\n",
              "      padding: 0 0 0 0;\n",
              "      width: 32px;\n",
              "    }\n",
              "\n",
              "    .colab-df-convert:hover {\n",
              "      background-color: #E2EBFA;\n",
              "      box-shadow: 0px 1px 2px rgba(60, 64, 67, 0.3), 0px 1px 3px 1px rgba(60, 64, 67, 0.15);\n",
              "      fill: #174EA6;\n",
              "    }\n",
              "\n",
              "    [theme=dark] .colab-df-convert {\n",
              "      background-color: #3B4455;\n",
              "      fill: #D2E3FC;\n",
              "    }\n",
              "\n",
              "    [theme=dark] .colab-df-convert:hover {\n",
              "      background-color: #434B5C;\n",
              "      box-shadow: 0px 1px 3px 1px rgba(0, 0, 0, 0.15);\n",
              "      filter: drop-shadow(0px 1px 2px rgba(0, 0, 0, 0.3));\n",
              "      fill: #FFFFFF;\n",
              "    }\n",
              "  </style>\n",
              "\n",
              "      <script>\n",
              "        const buttonEl =\n",
              "          document.querySelector('#df-a61e0ae2-8737-4b63-8d0d-9104e6c8f0a2 button.colab-df-convert');\n",
              "        buttonEl.style.display =\n",
              "          google.colab.kernel.accessAllowed ? 'block' : 'none';\n",
              "\n",
              "        async function convertToInteractive(key) {\n",
              "          const element = document.querySelector('#df-a61e0ae2-8737-4b63-8d0d-9104e6c8f0a2');\n",
              "          const dataTable =\n",
              "            await google.colab.kernel.invokeFunction('convertToInteractive',\n",
              "                                                     [key], {});\n",
              "          if (!dataTable) return;\n",
              "\n",
              "          const docLinkHtml = 'Like what you see? Visit the ' +\n",
              "            '<a target=\"_blank\" href=https://colab.research.google.com/notebooks/data_table.ipynb>data table notebook</a>'\n",
              "            + ' to learn more about interactive tables.';\n",
              "          element.innerHTML = '';\n",
              "          dataTable['output_type'] = 'display_data';\n",
              "          await google.colab.output.renderOutput(dataTable, element);\n",
              "          const docLink = document.createElement('div');\n",
              "          docLink.innerHTML = docLinkHtml;\n",
              "          element.appendChild(docLink);\n",
              "        }\n",
              "      </script>\n",
              "    </div>\n",
              "  </div>\n",
              "  "
            ]
          },
          "metadata": {},
          "execution_count": 124
        }
      ]
    },
    {
      "cell_type": "markdown",
      "source": [
        "### **Avoir des informations sur la base de données**"
      ],
      "metadata": {
        "id": "cctxNUSSYqKK"
      }
    },
    {
      "cell_type": "code",
      "source": [
        "credits.info() # Afficher le résumé de l'ensemble de données."
      ],
      "metadata": {
        "colab": {
          "base_uri": "https://localhost:8080/"
        },
        "id": "u4FwMJQEYtpK",
        "outputId": "67b2a0d4-68b9-4955-b2ba-7b82ecc043de"
      },
      "execution_count": null,
      "outputs": [
        {
          "output_type": "stream",
          "name": "stdout",
          "text": [
            "<class 'pandas.core.frame.DataFrame'>\n",
            "RangeIndex: 149 entries, 0 to 148\n",
            "Data columns (total 15 columns):\n",
            " #   Column                  Non-Null Count  Dtype  \n",
            "---  ------                  --------------  -----  \n",
            " 0   revenuAnnuel            149 non-null    float64\n",
            " 1   autreRevenu             149 non-null    int64  \n",
            " 2   salaire                 149 non-null    float64\n",
            " 3   age                     149 non-null    int64  \n",
            " 4   anneeTravaillee         149 non-null    int64  \n",
            " 5   nbDernierCreditRefuse   149 non-null    int64  \n",
            " 6   nbDernierCreditQccepte  149 non-null    int64  \n",
            " 7   PersonnesEnCharge       149 non-null    int64  \n",
            " 8   RevenuNetMoyen          149 non-null    float64\n",
            " 9   nbVoitures              149 non-null    int64  \n",
            " 10  catgSocialePro          149 non-null    object \n",
            " 11  statutSocial            149 non-null    object \n",
            " 12  Residence               149 non-null    object \n",
            " 13  secteurTravail          149 non-null    object \n",
            " 14  Decision                149 non-null    object \n",
            "dtypes: float64(3), int64(7), object(5)\n",
            "memory usage: 17.6+ KB\n"
          ]
        }
      ]
    },
    {
      "cell_type": "code",
      "source": [
        "credits.dtypes # Permet de voir les types de données des colonnes."
      ],
      "metadata": {
        "colab": {
          "base_uri": "https://localhost:8080/"
        },
        "id": "6rSfRgI4Y2B6",
        "outputId": "b6ef5b0c-9ad4-4709-b9ed-8271c89c6742"
      },
      "execution_count": null,
      "outputs": [
        {
          "output_type": "execute_result",
          "data": {
            "text/plain": [
              "revenuAnnuel              float64\n",
              "autreRevenu                 int64\n",
              "salaire                   float64\n",
              "age                         int64\n",
              "anneeTravaillee             int64\n",
              "nbDernierCreditRefuse       int64\n",
              "nbDernierCreditQccepte      int64\n",
              "PersonnesEnCharge           int64\n",
              "RevenuNetMoyen            float64\n",
              "nbVoitures                  int64\n",
              "catgSocialePro             object\n",
              "statutSocial               object\n",
              "Residence                  object\n",
              "secteurTravail             object\n",
              "Decision                   object\n",
              "dtype: object"
            ]
          },
          "metadata": {},
          "execution_count": 126
        }
      ]
    },
    {
      "cell_type": "code",
      "source": [
        "credits.describe() # Permet d'obtenir un résumé des valeurs numériques."
      ],
      "metadata": {
        "colab": {
          "base_uri": "https://localhost:8080/"
        },
        "id": "tuXOXIa6Y4x6",
        "outputId": "285f23c3-b606-4f13-db54-7614b91007d9"
      },
      "execution_count": null,
      "outputs": [
        {
          "output_type": "execute_result",
          "data": {
            "text/plain": [
              "       revenuAnnuel  autreRevenu      salaire         age  anneeTravaillee  \\\n",
              "count    149.000000   149.000000   149.000000  149.000000       149.000000   \n",
              "mean   19472.194631    94.268456  1528.414430   41.973154         6.261745   \n",
              "std     6900.738472   225.918415   519.454614   14.923203         5.320023   \n",
              "min     8418.000000     0.000000   701.500000   20.000000         1.000000   \n",
              "25%    14199.000000     0.000000  1127.583333   29.000000         2.000000   \n",
              "50%    18416.000000     0.000000  1479.333333   39.000000         5.000000   \n",
              "75%    25634.000000     0.000000  1974.666667   53.000000        10.000000   \n",
              "max    37536.000000   871.000000  2493.416667   77.000000        20.000000   \n",
              "\n",
              "       nbDernierCreditRefuse  nbDernierCreditQccepte  PersonnesEnCharge  \\\n",
              "count             149.000000              149.000000         149.000000   \n",
              "mean                2.120805                1.020134           1.852349   \n",
              "std                 1.304425                0.817625           1.362509   \n",
              "min                 0.000000                0.000000           0.000000   \n",
              "25%                 1.000000                0.000000           1.000000   \n",
              "50%                 2.000000                1.000000           2.000000   \n",
              "75%                 3.000000                2.000000           3.000000   \n",
              "max                 4.000000                2.000000           4.000000   \n",
              "\n",
              "       RevenuNetMoyen  nbVoitures  \n",
              "count      149.000000  149.000000  \n",
              "mean       540.894295    1.073826  \n",
              "std        191.687180    0.668742  \n",
              "min        233.833333    0.000000  \n",
              "25%        394.416667    1.000000  \n",
              "50%        511.555556    1.000000  \n",
              "75%        712.055556    1.000000  \n",
              "max       1042.666667    3.000000  "
            ],
            "text/html": [
              "\n",
              "  <div id=\"df-c17a2abb-141d-41b8-9af7-f8258bd76f87\">\n",
              "    <div class=\"colab-df-container\">\n",
              "      <div>\n",
              "<style scoped>\n",
              "    .dataframe tbody tr th:only-of-type {\n",
              "        vertical-align: middle;\n",
              "    }\n",
              "\n",
              "    .dataframe tbody tr th {\n",
              "        vertical-align: top;\n",
              "    }\n",
              "\n",
              "    .dataframe thead th {\n",
              "        text-align: right;\n",
              "    }\n",
              "</style>\n",
              "<table border=\"1\" class=\"dataframe\">\n",
              "  <thead>\n",
              "    <tr style=\"text-align: right;\">\n",
              "      <th></th>\n",
              "      <th>revenuAnnuel</th>\n",
              "      <th>autreRevenu</th>\n",
              "      <th>salaire</th>\n",
              "      <th>age</th>\n",
              "      <th>anneeTravaillee</th>\n",
              "      <th>nbDernierCreditRefuse</th>\n",
              "      <th>nbDernierCreditQccepte</th>\n",
              "      <th>PersonnesEnCharge</th>\n",
              "      <th>RevenuNetMoyen</th>\n",
              "      <th>nbVoitures</th>\n",
              "    </tr>\n",
              "  </thead>\n",
              "  <tbody>\n",
              "    <tr>\n",
              "      <th>count</th>\n",
              "      <td>149.000000</td>\n",
              "      <td>149.000000</td>\n",
              "      <td>149.000000</td>\n",
              "      <td>149.000000</td>\n",
              "      <td>149.000000</td>\n",
              "      <td>149.000000</td>\n",
              "      <td>149.000000</td>\n",
              "      <td>149.000000</td>\n",
              "      <td>149.000000</td>\n",
              "      <td>149.000000</td>\n",
              "    </tr>\n",
              "    <tr>\n",
              "      <th>mean</th>\n",
              "      <td>19472.194631</td>\n",
              "      <td>94.268456</td>\n",
              "      <td>1528.414430</td>\n",
              "      <td>41.973154</td>\n",
              "      <td>6.261745</td>\n",
              "      <td>2.120805</td>\n",
              "      <td>1.020134</td>\n",
              "      <td>1.852349</td>\n",
              "      <td>540.894295</td>\n",
              "      <td>1.073826</td>\n",
              "    </tr>\n",
              "    <tr>\n",
              "      <th>std</th>\n",
              "      <td>6900.738472</td>\n",
              "      <td>225.918415</td>\n",
              "      <td>519.454614</td>\n",
              "      <td>14.923203</td>\n",
              "      <td>5.320023</td>\n",
              "      <td>1.304425</td>\n",
              "      <td>0.817625</td>\n",
              "      <td>1.362509</td>\n",
              "      <td>191.687180</td>\n",
              "      <td>0.668742</td>\n",
              "    </tr>\n",
              "    <tr>\n",
              "      <th>min</th>\n",
              "      <td>8418.000000</td>\n",
              "      <td>0.000000</td>\n",
              "      <td>701.500000</td>\n",
              "      <td>20.000000</td>\n",
              "      <td>1.000000</td>\n",
              "      <td>0.000000</td>\n",
              "      <td>0.000000</td>\n",
              "      <td>0.000000</td>\n",
              "      <td>233.833333</td>\n",
              "      <td>0.000000</td>\n",
              "    </tr>\n",
              "    <tr>\n",
              "      <th>25%</th>\n",
              "      <td>14199.000000</td>\n",
              "      <td>0.000000</td>\n",
              "      <td>1127.583333</td>\n",
              "      <td>29.000000</td>\n",
              "      <td>2.000000</td>\n",
              "      <td>1.000000</td>\n",
              "      <td>0.000000</td>\n",
              "      <td>1.000000</td>\n",
              "      <td>394.416667</td>\n",
              "      <td>1.000000</td>\n",
              "    </tr>\n",
              "    <tr>\n",
              "      <th>50%</th>\n",
              "      <td>18416.000000</td>\n",
              "      <td>0.000000</td>\n",
              "      <td>1479.333333</td>\n",
              "      <td>39.000000</td>\n",
              "      <td>5.000000</td>\n",
              "      <td>2.000000</td>\n",
              "      <td>1.000000</td>\n",
              "      <td>2.000000</td>\n",
              "      <td>511.555556</td>\n",
              "      <td>1.000000</td>\n",
              "    </tr>\n",
              "    <tr>\n",
              "      <th>75%</th>\n",
              "      <td>25634.000000</td>\n",
              "      <td>0.000000</td>\n",
              "      <td>1974.666667</td>\n",
              "      <td>53.000000</td>\n",
              "      <td>10.000000</td>\n",
              "      <td>3.000000</td>\n",
              "      <td>2.000000</td>\n",
              "      <td>3.000000</td>\n",
              "      <td>712.055556</td>\n",
              "      <td>1.000000</td>\n",
              "    </tr>\n",
              "    <tr>\n",
              "      <th>max</th>\n",
              "      <td>37536.000000</td>\n",
              "      <td>871.000000</td>\n",
              "      <td>2493.416667</td>\n",
              "      <td>77.000000</td>\n",
              "      <td>20.000000</td>\n",
              "      <td>4.000000</td>\n",
              "      <td>2.000000</td>\n",
              "      <td>4.000000</td>\n",
              "      <td>1042.666667</td>\n",
              "      <td>3.000000</td>\n",
              "    </tr>\n",
              "  </tbody>\n",
              "</table>\n",
              "</div>\n",
              "      <button class=\"colab-df-convert\" onclick=\"convertToInteractive('df-c17a2abb-141d-41b8-9af7-f8258bd76f87')\"\n",
              "              title=\"Convert this dataframe to an interactive table.\"\n",
              "              style=\"display:none;\">\n",
              "        \n",
              "  <svg xmlns=\"http://www.w3.org/2000/svg\" height=\"24px\"viewBox=\"0 0 24 24\"\n",
              "       width=\"24px\">\n",
              "    <path d=\"M0 0h24v24H0V0z\" fill=\"none\"/>\n",
              "    <path d=\"M18.56 5.44l.94 2.06.94-2.06 2.06-.94-2.06-.94-.94-2.06-.94 2.06-2.06.94zm-11 1L8.5 8.5l.94-2.06 2.06-.94-2.06-.94L8.5 2.5l-.94 2.06-2.06.94zm10 10l.94 2.06.94-2.06 2.06-.94-2.06-.94-.94-2.06-.94 2.06-2.06.94z\"/><path d=\"M17.41 7.96l-1.37-1.37c-.4-.4-.92-.59-1.43-.59-.52 0-1.04.2-1.43.59L10.3 9.45l-7.72 7.72c-.78.78-.78 2.05 0 2.83L4 21.41c.39.39.9.59 1.41.59.51 0 1.02-.2 1.41-.59l7.78-7.78 2.81-2.81c.8-.78.8-2.07 0-2.86zM5.41 20L4 18.59l7.72-7.72 1.47 1.35L5.41 20z\"/>\n",
              "  </svg>\n",
              "      </button>\n",
              "      \n",
              "  <style>\n",
              "    .colab-df-container {\n",
              "      display:flex;\n",
              "      flex-wrap:wrap;\n",
              "      gap: 12px;\n",
              "    }\n",
              "\n",
              "    .colab-df-convert {\n",
              "      background-color: #E8F0FE;\n",
              "      border: none;\n",
              "      border-radius: 50%;\n",
              "      cursor: pointer;\n",
              "      display: none;\n",
              "      fill: #1967D2;\n",
              "      height: 32px;\n",
              "      padding: 0 0 0 0;\n",
              "      width: 32px;\n",
              "    }\n",
              "\n",
              "    .colab-df-convert:hover {\n",
              "      background-color: #E2EBFA;\n",
              "      box-shadow: 0px 1px 2px rgba(60, 64, 67, 0.3), 0px 1px 3px 1px rgba(60, 64, 67, 0.15);\n",
              "      fill: #174EA6;\n",
              "    }\n",
              "\n",
              "    [theme=dark] .colab-df-convert {\n",
              "      background-color: #3B4455;\n",
              "      fill: #D2E3FC;\n",
              "    }\n",
              "\n",
              "    [theme=dark] .colab-df-convert:hover {\n",
              "      background-color: #434B5C;\n",
              "      box-shadow: 0px 1px 3px 1px rgba(0, 0, 0, 0.15);\n",
              "      filter: drop-shadow(0px 1px 2px rgba(0, 0, 0, 0.3));\n",
              "      fill: #FFFFFF;\n",
              "    }\n",
              "  </style>\n",
              "\n",
              "      <script>\n",
              "        const buttonEl =\n",
              "          document.querySelector('#df-c17a2abb-141d-41b8-9af7-f8258bd76f87 button.colab-df-convert');\n",
              "        buttonEl.style.display =\n",
              "          google.colab.kernel.accessAllowed ? 'block' : 'none';\n",
              "\n",
              "        async function convertToInteractive(key) {\n",
              "          const element = document.querySelector('#df-c17a2abb-141d-41b8-9af7-f8258bd76f87');\n",
              "          const dataTable =\n",
              "            await google.colab.kernel.invokeFunction('convertToInteractive',\n",
              "                                                     [key], {});\n",
              "          if (!dataTable) return;\n",
              "\n",
              "          const docLinkHtml = 'Like what you see? Visit the ' +\n",
              "            '<a target=\"_blank\" href=https://colab.research.google.com/notebooks/data_table.ipynb>data table notebook</a>'\n",
              "            + ' to learn more about interactive tables.';\n",
              "          element.innerHTML = '';\n",
              "          dataTable['output_type'] = 'display_data';\n",
              "          await google.colab.output.renderOutput(dataTable, element);\n",
              "          const docLink = document.createElement('div');\n",
              "          docLink.innerHTML = docLinkHtml;\n",
              "          element.appendChild(docLink);\n",
              "        }\n",
              "      </script>\n",
              "    </div>\n",
              "  </div>\n",
              "  "
            ]
          },
          "metadata": {},
          "execution_count": 127
        }
      ]
    },
    {
      "cell_type": "code",
      "source": [
        "credits.describe().T # Transposé"
      ],
      "metadata": {
        "colab": {
          "base_uri": "https://localhost:8080/"
        },
        "id": "B6xlSMxiY7Ma",
        "outputId": "d3ada1f7-4275-4710-86e8-d76094a697b2"
      },
      "execution_count": null,
      "outputs": [
        {
          "output_type": "execute_result",
          "data": {
            "text/plain": [
              "                        count          mean          std          min  \\\n",
              "revenuAnnuel            149.0  19472.194631  6900.738472  8418.000000   \n",
              "autreRevenu             149.0     94.268456   225.918415     0.000000   \n",
              "salaire                 149.0   1528.414430   519.454614   701.500000   \n",
              "age                     149.0     41.973154    14.923203    20.000000   \n",
              "anneeTravaillee         149.0      6.261745     5.320023     1.000000   \n",
              "nbDernierCreditRefuse   149.0      2.120805     1.304425     0.000000   \n",
              "nbDernierCreditQccepte  149.0      1.020134     0.817625     0.000000   \n",
              "PersonnesEnCharge       149.0      1.852349     1.362509     0.000000   \n",
              "RevenuNetMoyen          149.0    540.894295   191.687180   233.833333   \n",
              "nbVoitures              149.0      1.073826     0.668742     0.000000   \n",
              "\n",
              "                                 25%           50%           75%           max  \n",
              "revenuAnnuel            14199.000000  18416.000000  25634.000000  37536.000000  \n",
              "autreRevenu                 0.000000      0.000000      0.000000    871.000000  \n",
              "salaire                  1127.583333   1479.333333   1974.666667   2493.416667  \n",
              "age                        29.000000     39.000000     53.000000     77.000000  \n",
              "anneeTravaillee             2.000000      5.000000     10.000000     20.000000  \n",
              "nbDernierCreditRefuse       1.000000      2.000000      3.000000      4.000000  \n",
              "nbDernierCreditQccepte      0.000000      1.000000      2.000000      2.000000  \n",
              "PersonnesEnCharge           1.000000      2.000000      3.000000      4.000000  \n",
              "RevenuNetMoyen            394.416667    511.555556    712.055556   1042.666667  \n",
              "nbVoitures                  1.000000      1.000000      1.000000      3.000000  "
            ],
            "text/html": [
              "\n",
              "  <div id=\"df-4a532d03-d8db-4cca-923c-88fd75b08485\">\n",
              "    <div class=\"colab-df-container\">\n",
              "      <div>\n",
              "<style scoped>\n",
              "    .dataframe tbody tr th:only-of-type {\n",
              "        vertical-align: middle;\n",
              "    }\n",
              "\n",
              "    .dataframe tbody tr th {\n",
              "        vertical-align: top;\n",
              "    }\n",
              "\n",
              "    .dataframe thead th {\n",
              "        text-align: right;\n",
              "    }\n",
              "</style>\n",
              "<table border=\"1\" class=\"dataframe\">\n",
              "  <thead>\n",
              "    <tr style=\"text-align: right;\">\n",
              "      <th></th>\n",
              "      <th>count</th>\n",
              "      <th>mean</th>\n",
              "      <th>std</th>\n",
              "      <th>min</th>\n",
              "      <th>25%</th>\n",
              "      <th>50%</th>\n",
              "      <th>75%</th>\n",
              "      <th>max</th>\n",
              "    </tr>\n",
              "  </thead>\n",
              "  <tbody>\n",
              "    <tr>\n",
              "      <th>revenuAnnuel</th>\n",
              "      <td>149.0</td>\n",
              "      <td>19472.194631</td>\n",
              "      <td>6900.738472</td>\n",
              "      <td>8418.000000</td>\n",
              "      <td>14199.000000</td>\n",
              "      <td>18416.000000</td>\n",
              "      <td>25634.000000</td>\n",
              "      <td>37536.000000</td>\n",
              "    </tr>\n",
              "    <tr>\n",
              "      <th>autreRevenu</th>\n",
              "      <td>149.0</td>\n",
              "      <td>94.268456</td>\n",
              "      <td>225.918415</td>\n",
              "      <td>0.000000</td>\n",
              "      <td>0.000000</td>\n",
              "      <td>0.000000</td>\n",
              "      <td>0.000000</td>\n",
              "      <td>871.000000</td>\n",
              "    </tr>\n",
              "    <tr>\n",
              "      <th>salaire</th>\n",
              "      <td>149.0</td>\n",
              "      <td>1528.414430</td>\n",
              "      <td>519.454614</td>\n",
              "      <td>701.500000</td>\n",
              "      <td>1127.583333</td>\n",
              "      <td>1479.333333</td>\n",
              "      <td>1974.666667</td>\n",
              "      <td>2493.416667</td>\n",
              "    </tr>\n",
              "    <tr>\n",
              "      <th>age</th>\n",
              "      <td>149.0</td>\n",
              "      <td>41.973154</td>\n",
              "      <td>14.923203</td>\n",
              "      <td>20.000000</td>\n",
              "      <td>29.000000</td>\n",
              "      <td>39.000000</td>\n",
              "      <td>53.000000</td>\n",
              "      <td>77.000000</td>\n",
              "    </tr>\n",
              "    <tr>\n",
              "      <th>anneeTravaillee</th>\n",
              "      <td>149.0</td>\n",
              "      <td>6.261745</td>\n",
              "      <td>5.320023</td>\n",
              "      <td>1.000000</td>\n",
              "      <td>2.000000</td>\n",
              "      <td>5.000000</td>\n",
              "      <td>10.000000</td>\n",
              "      <td>20.000000</td>\n",
              "    </tr>\n",
              "    <tr>\n",
              "      <th>nbDernierCreditRefuse</th>\n",
              "      <td>149.0</td>\n",
              "      <td>2.120805</td>\n",
              "      <td>1.304425</td>\n",
              "      <td>0.000000</td>\n",
              "      <td>1.000000</td>\n",
              "      <td>2.000000</td>\n",
              "      <td>3.000000</td>\n",
              "      <td>4.000000</td>\n",
              "    </tr>\n",
              "    <tr>\n",
              "      <th>nbDernierCreditQccepte</th>\n",
              "      <td>149.0</td>\n",
              "      <td>1.020134</td>\n",
              "      <td>0.817625</td>\n",
              "      <td>0.000000</td>\n",
              "      <td>0.000000</td>\n",
              "      <td>1.000000</td>\n",
              "      <td>2.000000</td>\n",
              "      <td>2.000000</td>\n",
              "    </tr>\n",
              "    <tr>\n",
              "      <th>PersonnesEnCharge</th>\n",
              "      <td>149.0</td>\n",
              "      <td>1.852349</td>\n",
              "      <td>1.362509</td>\n",
              "      <td>0.000000</td>\n",
              "      <td>1.000000</td>\n",
              "      <td>2.000000</td>\n",
              "      <td>3.000000</td>\n",
              "      <td>4.000000</td>\n",
              "    </tr>\n",
              "    <tr>\n",
              "      <th>RevenuNetMoyen</th>\n",
              "      <td>149.0</td>\n",
              "      <td>540.894295</td>\n",
              "      <td>191.687180</td>\n",
              "      <td>233.833333</td>\n",
              "      <td>394.416667</td>\n",
              "      <td>511.555556</td>\n",
              "      <td>712.055556</td>\n",
              "      <td>1042.666667</td>\n",
              "    </tr>\n",
              "    <tr>\n",
              "      <th>nbVoitures</th>\n",
              "      <td>149.0</td>\n",
              "      <td>1.073826</td>\n",
              "      <td>0.668742</td>\n",
              "      <td>0.000000</td>\n",
              "      <td>1.000000</td>\n",
              "      <td>1.000000</td>\n",
              "      <td>1.000000</td>\n",
              "      <td>3.000000</td>\n",
              "    </tr>\n",
              "  </tbody>\n",
              "</table>\n",
              "</div>\n",
              "      <button class=\"colab-df-convert\" onclick=\"convertToInteractive('df-4a532d03-d8db-4cca-923c-88fd75b08485')\"\n",
              "              title=\"Convert this dataframe to an interactive table.\"\n",
              "              style=\"display:none;\">\n",
              "        \n",
              "  <svg xmlns=\"http://www.w3.org/2000/svg\" height=\"24px\"viewBox=\"0 0 24 24\"\n",
              "       width=\"24px\">\n",
              "    <path d=\"M0 0h24v24H0V0z\" fill=\"none\"/>\n",
              "    <path d=\"M18.56 5.44l.94 2.06.94-2.06 2.06-.94-2.06-.94-.94-2.06-.94 2.06-2.06.94zm-11 1L8.5 8.5l.94-2.06 2.06-.94-2.06-.94L8.5 2.5l-.94 2.06-2.06.94zm10 10l.94 2.06.94-2.06 2.06-.94-2.06-.94-.94-2.06-.94 2.06-2.06.94z\"/><path d=\"M17.41 7.96l-1.37-1.37c-.4-.4-.92-.59-1.43-.59-.52 0-1.04.2-1.43.59L10.3 9.45l-7.72 7.72c-.78.78-.78 2.05 0 2.83L4 21.41c.39.39.9.59 1.41.59.51 0 1.02-.2 1.41-.59l7.78-7.78 2.81-2.81c.8-.78.8-2.07 0-2.86zM5.41 20L4 18.59l7.72-7.72 1.47 1.35L5.41 20z\"/>\n",
              "  </svg>\n",
              "      </button>\n",
              "      \n",
              "  <style>\n",
              "    .colab-df-container {\n",
              "      display:flex;\n",
              "      flex-wrap:wrap;\n",
              "      gap: 12px;\n",
              "    }\n",
              "\n",
              "    .colab-df-convert {\n",
              "      background-color: #E8F0FE;\n",
              "      border: none;\n",
              "      border-radius: 50%;\n",
              "      cursor: pointer;\n",
              "      display: none;\n",
              "      fill: #1967D2;\n",
              "      height: 32px;\n",
              "      padding: 0 0 0 0;\n",
              "      width: 32px;\n",
              "    }\n",
              "\n",
              "    .colab-df-convert:hover {\n",
              "      background-color: #E2EBFA;\n",
              "      box-shadow: 0px 1px 2px rgba(60, 64, 67, 0.3), 0px 1px 3px 1px rgba(60, 64, 67, 0.15);\n",
              "      fill: #174EA6;\n",
              "    }\n",
              "\n",
              "    [theme=dark] .colab-df-convert {\n",
              "      background-color: #3B4455;\n",
              "      fill: #D2E3FC;\n",
              "    }\n",
              "\n",
              "    [theme=dark] .colab-df-convert:hover {\n",
              "      background-color: #434B5C;\n",
              "      box-shadow: 0px 1px 3px 1px rgba(0, 0, 0, 0.15);\n",
              "      filter: drop-shadow(0px 1px 2px rgba(0, 0, 0, 0.3));\n",
              "      fill: #FFFFFF;\n",
              "    }\n",
              "  </style>\n",
              "\n",
              "      <script>\n",
              "        const buttonEl =\n",
              "          document.querySelector('#df-4a532d03-d8db-4cca-923c-88fd75b08485 button.colab-df-convert');\n",
              "        buttonEl.style.display =\n",
              "          google.colab.kernel.accessAllowed ? 'block' : 'none';\n",
              "\n",
              "        async function convertToInteractive(key) {\n",
              "          const element = document.querySelector('#df-4a532d03-d8db-4cca-923c-88fd75b08485');\n",
              "          const dataTable =\n",
              "            await google.colab.kernel.invokeFunction('convertToInteractive',\n",
              "                                                     [key], {});\n",
              "          if (!dataTable) return;\n",
              "\n",
              "          const docLinkHtml = 'Like what you see? Visit the ' +\n",
              "            '<a target=\"_blank\" href=https://colab.research.google.com/notebooks/data_table.ipynb>data table notebook</a>'\n",
              "            + ' to learn more about interactive tables.';\n",
              "          element.innerHTML = '';\n",
              "          dataTable['output_type'] = 'display_data';\n",
              "          await google.colab.output.renderOutput(dataTable, element);\n",
              "          const docLink = document.createElement('div');\n",
              "          docLink.innerHTML = docLinkHtml;\n",
              "          element.appendChild(docLink);\n",
              "        }\n",
              "      </script>\n",
              "    </div>\n",
              "  </div>\n",
              "  "
            ]
          },
          "metadata": {},
          "execution_count": 128
        }
      ]
    },
    {
      "cell_type": "code",
      "source": [
        "credits.head() # Afficher les 5 premieres  lignes de l'entrepôt de données"
      ],
      "metadata": {
        "colab": {
          "base_uri": "https://localhost:8080/"
        },
        "id": "S-FjeEpGYzP4",
        "outputId": "7b3ff56a-fa8a-4261-e84a-0e63887eb25f"
      },
      "execution_count": null,
      "outputs": [
        {
          "output_type": "execute_result",
          "data": {
            "text/plain": [
              "   revenuAnnuel  autreRevenu      salaire  age  anneeTravaillee  \\\n",
              "0       29921.0            0  2493.416667   51               10   \n",
              "1       22912.0          530  1379.333333   32                5   \n",
              "2       15780.0            0  1315.000000   30                5   \n",
              "3       31293.0          848  1759.750000   29                5   \n",
              "4       14312.0            0  1192.666667   36               10   \n",
              "\n",
              "   nbDernierCreditRefuse  nbDernierCreditQccepte  PersonnesEnCharge  \\\n",
              "0                      0                       1                  1   \n",
              "1                      3                       2                  1   \n",
              "2                      3                       0                  2   \n",
              "3                      2                       2                  0   \n",
              "4                      2                       2                  2   \n",
              "\n",
              "   RevenuNetMoyen  nbVoitures catgSocialePro statutSocial  \\\n",
              "0      831.138889           2        Titular       Single   \n",
              "1      636.444444           1        Titular       Single   \n",
              "2      438.333333           0        Titular       Single   \n",
              "3      869.250000           1    Contractual       Single   \n",
              "4      397.555556           1        Titular       Single   \n",
              "\n",
              "             Residence secteurTravail   Decision  \n",
              "0          House Owner         Others   Accepted  \n",
              "1  Living with parents  Developpement   Accepted  \n",
              "2  Living with parents    Agriculture    Refused  \n",
              "3  Living with parents         Others   Accepted  \n",
              "4          House Owner       Handwork  Tolerated  "
            ],
            "text/html": [
              "\n",
              "  <div id=\"df-5f5b335a-a3f2-4d04-ba59-8975b454b18f\">\n",
              "    <div class=\"colab-df-container\">\n",
              "      <div>\n",
              "<style scoped>\n",
              "    .dataframe tbody tr th:only-of-type {\n",
              "        vertical-align: middle;\n",
              "    }\n",
              "\n",
              "    .dataframe tbody tr th {\n",
              "        vertical-align: top;\n",
              "    }\n",
              "\n",
              "    .dataframe thead th {\n",
              "        text-align: right;\n",
              "    }\n",
              "</style>\n",
              "<table border=\"1\" class=\"dataframe\">\n",
              "  <thead>\n",
              "    <tr style=\"text-align: right;\">\n",
              "      <th></th>\n",
              "      <th>revenuAnnuel</th>\n",
              "      <th>autreRevenu</th>\n",
              "      <th>salaire</th>\n",
              "      <th>age</th>\n",
              "      <th>anneeTravaillee</th>\n",
              "      <th>nbDernierCreditRefuse</th>\n",
              "      <th>nbDernierCreditQccepte</th>\n",
              "      <th>PersonnesEnCharge</th>\n",
              "      <th>RevenuNetMoyen</th>\n",
              "      <th>nbVoitures</th>\n",
              "      <th>catgSocialePro</th>\n",
              "      <th>statutSocial</th>\n",
              "      <th>Residence</th>\n",
              "      <th>secteurTravail</th>\n",
              "      <th>Decision</th>\n",
              "    </tr>\n",
              "  </thead>\n",
              "  <tbody>\n",
              "    <tr>\n",
              "      <th>0</th>\n",
              "      <td>29921.0</td>\n",
              "      <td>0</td>\n",
              "      <td>2493.416667</td>\n",
              "      <td>51</td>\n",
              "      <td>10</td>\n",
              "      <td>0</td>\n",
              "      <td>1</td>\n",
              "      <td>1</td>\n",
              "      <td>831.138889</td>\n",
              "      <td>2</td>\n",
              "      <td>Titular</td>\n",
              "      <td>Single</td>\n",
              "      <td>House Owner</td>\n",
              "      <td>Others</td>\n",
              "      <td>Accepted</td>\n",
              "    </tr>\n",
              "    <tr>\n",
              "      <th>1</th>\n",
              "      <td>22912.0</td>\n",
              "      <td>530</td>\n",
              "      <td>1379.333333</td>\n",
              "      <td>32</td>\n",
              "      <td>5</td>\n",
              "      <td>3</td>\n",
              "      <td>2</td>\n",
              "      <td>1</td>\n",
              "      <td>636.444444</td>\n",
              "      <td>1</td>\n",
              "      <td>Titular</td>\n",
              "      <td>Single</td>\n",
              "      <td>Living with parents</td>\n",
              "      <td>Developpement</td>\n",
              "      <td>Accepted</td>\n",
              "    </tr>\n",
              "    <tr>\n",
              "      <th>2</th>\n",
              "      <td>15780.0</td>\n",
              "      <td>0</td>\n",
              "      <td>1315.000000</td>\n",
              "      <td>30</td>\n",
              "      <td>5</td>\n",
              "      <td>3</td>\n",
              "      <td>0</td>\n",
              "      <td>2</td>\n",
              "      <td>438.333333</td>\n",
              "      <td>0</td>\n",
              "      <td>Titular</td>\n",
              "      <td>Single</td>\n",
              "      <td>Living with parents</td>\n",
              "      <td>Agriculture</td>\n",
              "      <td>Refused</td>\n",
              "    </tr>\n",
              "    <tr>\n",
              "      <th>3</th>\n",
              "      <td>31293.0</td>\n",
              "      <td>848</td>\n",
              "      <td>1759.750000</td>\n",
              "      <td>29</td>\n",
              "      <td>5</td>\n",
              "      <td>2</td>\n",
              "      <td>2</td>\n",
              "      <td>0</td>\n",
              "      <td>869.250000</td>\n",
              "      <td>1</td>\n",
              "      <td>Contractual</td>\n",
              "      <td>Single</td>\n",
              "      <td>Living with parents</td>\n",
              "      <td>Others</td>\n",
              "      <td>Accepted</td>\n",
              "    </tr>\n",
              "    <tr>\n",
              "      <th>4</th>\n",
              "      <td>14312.0</td>\n",
              "      <td>0</td>\n",
              "      <td>1192.666667</td>\n",
              "      <td>36</td>\n",
              "      <td>10</td>\n",
              "      <td>2</td>\n",
              "      <td>2</td>\n",
              "      <td>2</td>\n",
              "      <td>397.555556</td>\n",
              "      <td>1</td>\n",
              "      <td>Titular</td>\n",
              "      <td>Single</td>\n",
              "      <td>House Owner</td>\n",
              "      <td>Handwork</td>\n",
              "      <td>Tolerated</td>\n",
              "    </tr>\n",
              "  </tbody>\n",
              "</table>\n",
              "</div>\n",
              "      <button class=\"colab-df-convert\" onclick=\"convertToInteractive('df-5f5b335a-a3f2-4d04-ba59-8975b454b18f')\"\n",
              "              title=\"Convert this dataframe to an interactive table.\"\n",
              "              style=\"display:none;\">\n",
              "        \n",
              "  <svg xmlns=\"http://www.w3.org/2000/svg\" height=\"24px\"viewBox=\"0 0 24 24\"\n",
              "       width=\"24px\">\n",
              "    <path d=\"M0 0h24v24H0V0z\" fill=\"none\"/>\n",
              "    <path d=\"M18.56 5.44l.94 2.06.94-2.06 2.06-.94-2.06-.94-.94-2.06-.94 2.06-2.06.94zm-11 1L8.5 8.5l.94-2.06 2.06-.94-2.06-.94L8.5 2.5l-.94 2.06-2.06.94zm10 10l.94 2.06.94-2.06 2.06-.94-2.06-.94-.94-2.06-.94 2.06-2.06.94z\"/><path d=\"M17.41 7.96l-1.37-1.37c-.4-.4-.92-.59-1.43-.59-.52 0-1.04.2-1.43.59L10.3 9.45l-7.72 7.72c-.78.78-.78 2.05 0 2.83L4 21.41c.39.39.9.59 1.41.59.51 0 1.02-.2 1.41-.59l7.78-7.78 2.81-2.81c.8-.78.8-2.07 0-2.86zM5.41 20L4 18.59l7.72-7.72 1.47 1.35L5.41 20z\"/>\n",
              "  </svg>\n",
              "      </button>\n",
              "      \n",
              "  <style>\n",
              "    .colab-df-container {\n",
              "      display:flex;\n",
              "      flex-wrap:wrap;\n",
              "      gap: 12px;\n",
              "    }\n",
              "\n",
              "    .colab-df-convert {\n",
              "      background-color: #E8F0FE;\n",
              "      border: none;\n",
              "      border-radius: 50%;\n",
              "      cursor: pointer;\n",
              "      display: none;\n",
              "      fill: #1967D2;\n",
              "      height: 32px;\n",
              "      padding: 0 0 0 0;\n",
              "      width: 32px;\n",
              "    }\n",
              "\n",
              "    .colab-df-convert:hover {\n",
              "      background-color: #E2EBFA;\n",
              "      box-shadow: 0px 1px 2px rgba(60, 64, 67, 0.3), 0px 1px 3px 1px rgba(60, 64, 67, 0.15);\n",
              "      fill: #174EA6;\n",
              "    }\n",
              "\n",
              "    [theme=dark] .colab-df-convert {\n",
              "      background-color: #3B4455;\n",
              "      fill: #D2E3FC;\n",
              "    }\n",
              "\n",
              "    [theme=dark] .colab-df-convert:hover {\n",
              "      background-color: #434B5C;\n",
              "      box-shadow: 0px 1px 3px 1px rgba(0, 0, 0, 0.15);\n",
              "      filter: drop-shadow(0px 1px 2px rgba(0, 0, 0, 0.3));\n",
              "      fill: #FFFFFF;\n",
              "    }\n",
              "  </style>\n",
              "\n",
              "      <script>\n",
              "        const buttonEl =\n",
              "          document.querySelector('#df-5f5b335a-a3f2-4d04-ba59-8975b454b18f button.colab-df-convert');\n",
              "        buttonEl.style.display =\n",
              "          google.colab.kernel.accessAllowed ? 'block' : 'none';\n",
              "\n",
              "        async function convertToInteractive(key) {\n",
              "          const element = document.querySelector('#df-5f5b335a-a3f2-4d04-ba59-8975b454b18f');\n",
              "          const dataTable =\n",
              "            await google.colab.kernel.invokeFunction('convertToInteractive',\n",
              "                                                     [key], {});\n",
              "          if (!dataTable) return;\n",
              "\n",
              "          const docLinkHtml = 'Like what you see? Visit the ' +\n",
              "            '<a target=\"_blank\" href=https://colab.research.google.com/notebooks/data_table.ipynb>data table notebook</a>'\n",
              "            + ' to learn more about interactive tables.';\n",
              "          element.innerHTML = '';\n",
              "          dataTable['output_type'] = 'display_data';\n",
              "          await google.colab.output.renderOutput(dataTable, element);\n",
              "          const docLink = document.createElement('div');\n",
              "          docLink.innerHTML = docLinkHtml;\n",
              "          element.appendChild(docLink);\n",
              "        }\n",
              "      </script>\n",
              "    </div>\n",
              "  </div>\n",
              "  "
            ]
          },
          "metadata": {},
          "execution_count": 129
        }
      ]
    },
    {
      "cell_type": "code",
      "source": [
        "credits.tail() # Afficher les 5 dernieres  lignes de l'entrepôt de données"
      ],
      "metadata": {
        "colab": {
          "base_uri": "https://localhost:8080/"
        },
        "id": "oQfuUUHuY-Lv",
        "outputId": "6208e45f-49a3-447f-a3cd-8174184d316e"
      },
      "execution_count": null,
      "outputs": [
        {
          "output_type": "execute_result",
          "data": {
            "text/plain": [
              "     revenuAnnuel  autreRevenu      salaire  age  anneeTravaillee  \\\n",
              "144       25264.0            0  2105.333333   20                5   \n",
              "145        9251.0            0   770.916667   68               20   \n",
              "146       16901.0            0  1408.416667   50                2   \n",
              "147       28862.0            0  2405.166667   33                5   \n",
              "148       13560.0            0  1130.000000   23               10   \n",
              "\n",
              "     nbDernierCreditRefuse  nbDernierCreditQccepte  PersonnesEnCharge  \\\n",
              "144                      4                       0                  0   \n",
              "145                      2                       1                  1   \n",
              "146                      3                       0                  3   \n",
              "147                      2                       1                  1   \n",
              "148                      3                       1                  2   \n",
              "\n",
              "     RevenuNetMoyen  nbVoitures catgSocialePro statutSocial  \\\n",
              "144      701.777778           2        Titular       Single   \n",
              "145      256.972222           1        Retired      Married   \n",
              "146      469.472222           0    Contractual       Single   \n",
              "147      801.722222           0    Contractual       Single   \n",
              "148      376.666667           1        Titular      Married   \n",
              "\n",
              "               Residence     secteurTravail   Decision  \n",
              "144          House Owner          Education  Tolerated  \n",
              "145          House Owner             Others    Refused  \n",
              "146          Float Owner      Manufacturing    Refused  \n",
              "147  Living with parents    Public Services   Accepted  \n",
              "148          Float Owner  Telecommunication  Tolerated  "
            ],
            "text/html": [
              "\n",
              "  <div id=\"df-c3a89c00-cb2a-4c7b-9504-c5ec1b079b49\">\n",
              "    <div class=\"colab-df-container\">\n",
              "      <div>\n",
              "<style scoped>\n",
              "    .dataframe tbody tr th:only-of-type {\n",
              "        vertical-align: middle;\n",
              "    }\n",
              "\n",
              "    .dataframe tbody tr th {\n",
              "        vertical-align: top;\n",
              "    }\n",
              "\n",
              "    .dataframe thead th {\n",
              "        text-align: right;\n",
              "    }\n",
              "</style>\n",
              "<table border=\"1\" class=\"dataframe\">\n",
              "  <thead>\n",
              "    <tr style=\"text-align: right;\">\n",
              "      <th></th>\n",
              "      <th>revenuAnnuel</th>\n",
              "      <th>autreRevenu</th>\n",
              "      <th>salaire</th>\n",
              "      <th>age</th>\n",
              "      <th>anneeTravaillee</th>\n",
              "      <th>nbDernierCreditRefuse</th>\n",
              "      <th>nbDernierCreditQccepte</th>\n",
              "      <th>PersonnesEnCharge</th>\n",
              "      <th>RevenuNetMoyen</th>\n",
              "      <th>nbVoitures</th>\n",
              "      <th>catgSocialePro</th>\n",
              "      <th>statutSocial</th>\n",
              "      <th>Residence</th>\n",
              "      <th>secteurTravail</th>\n",
              "      <th>Decision</th>\n",
              "    </tr>\n",
              "  </thead>\n",
              "  <tbody>\n",
              "    <tr>\n",
              "      <th>144</th>\n",
              "      <td>25264.0</td>\n",
              "      <td>0</td>\n",
              "      <td>2105.333333</td>\n",
              "      <td>20</td>\n",
              "      <td>5</td>\n",
              "      <td>4</td>\n",
              "      <td>0</td>\n",
              "      <td>0</td>\n",
              "      <td>701.777778</td>\n",
              "      <td>2</td>\n",
              "      <td>Titular</td>\n",
              "      <td>Single</td>\n",
              "      <td>House Owner</td>\n",
              "      <td>Education</td>\n",
              "      <td>Tolerated</td>\n",
              "    </tr>\n",
              "    <tr>\n",
              "      <th>145</th>\n",
              "      <td>9251.0</td>\n",
              "      <td>0</td>\n",
              "      <td>770.916667</td>\n",
              "      <td>68</td>\n",
              "      <td>20</td>\n",
              "      <td>2</td>\n",
              "      <td>1</td>\n",
              "      <td>1</td>\n",
              "      <td>256.972222</td>\n",
              "      <td>1</td>\n",
              "      <td>Retired</td>\n",
              "      <td>Married</td>\n",
              "      <td>House Owner</td>\n",
              "      <td>Others</td>\n",
              "      <td>Refused</td>\n",
              "    </tr>\n",
              "    <tr>\n",
              "      <th>146</th>\n",
              "      <td>16901.0</td>\n",
              "      <td>0</td>\n",
              "      <td>1408.416667</td>\n",
              "      <td>50</td>\n",
              "      <td>2</td>\n",
              "      <td>3</td>\n",
              "      <td>0</td>\n",
              "      <td>3</td>\n",
              "      <td>469.472222</td>\n",
              "      <td>0</td>\n",
              "      <td>Contractual</td>\n",
              "      <td>Single</td>\n",
              "      <td>Float Owner</td>\n",
              "      <td>Manufacturing</td>\n",
              "      <td>Refused</td>\n",
              "    </tr>\n",
              "    <tr>\n",
              "      <th>147</th>\n",
              "      <td>28862.0</td>\n",
              "      <td>0</td>\n",
              "      <td>2405.166667</td>\n",
              "      <td>33</td>\n",
              "      <td>5</td>\n",
              "      <td>2</td>\n",
              "      <td>1</td>\n",
              "      <td>1</td>\n",
              "      <td>801.722222</td>\n",
              "      <td>0</td>\n",
              "      <td>Contractual</td>\n",
              "      <td>Single</td>\n",
              "      <td>Living with parents</td>\n",
              "      <td>Public Services</td>\n",
              "      <td>Accepted</td>\n",
              "    </tr>\n",
              "    <tr>\n",
              "      <th>148</th>\n",
              "      <td>13560.0</td>\n",
              "      <td>0</td>\n",
              "      <td>1130.000000</td>\n",
              "      <td>23</td>\n",
              "      <td>10</td>\n",
              "      <td>3</td>\n",
              "      <td>1</td>\n",
              "      <td>2</td>\n",
              "      <td>376.666667</td>\n",
              "      <td>1</td>\n",
              "      <td>Titular</td>\n",
              "      <td>Married</td>\n",
              "      <td>Float Owner</td>\n",
              "      <td>Telecommunication</td>\n",
              "      <td>Tolerated</td>\n",
              "    </tr>\n",
              "  </tbody>\n",
              "</table>\n",
              "</div>\n",
              "      <button class=\"colab-df-convert\" onclick=\"convertToInteractive('df-c3a89c00-cb2a-4c7b-9504-c5ec1b079b49')\"\n",
              "              title=\"Convert this dataframe to an interactive table.\"\n",
              "              style=\"display:none;\">\n",
              "        \n",
              "  <svg xmlns=\"http://www.w3.org/2000/svg\" height=\"24px\"viewBox=\"0 0 24 24\"\n",
              "       width=\"24px\">\n",
              "    <path d=\"M0 0h24v24H0V0z\" fill=\"none\"/>\n",
              "    <path d=\"M18.56 5.44l.94 2.06.94-2.06 2.06-.94-2.06-.94-.94-2.06-.94 2.06-2.06.94zm-11 1L8.5 8.5l.94-2.06 2.06-.94-2.06-.94L8.5 2.5l-.94 2.06-2.06.94zm10 10l.94 2.06.94-2.06 2.06-.94-2.06-.94-.94-2.06-.94 2.06-2.06.94z\"/><path d=\"M17.41 7.96l-1.37-1.37c-.4-.4-.92-.59-1.43-.59-.52 0-1.04.2-1.43.59L10.3 9.45l-7.72 7.72c-.78.78-.78 2.05 0 2.83L4 21.41c.39.39.9.59 1.41.59.51 0 1.02-.2 1.41-.59l7.78-7.78 2.81-2.81c.8-.78.8-2.07 0-2.86zM5.41 20L4 18.59l7.72-7.72 1.47 1.35L5.41 20z\"/>\n",
              "  </svg>\n",
              "      </button>\n",
              "      \n",
              "  <style>\n",
              "    .colab-df-container {\n",
              "      display:flex;\n",
              "      flex-wrap:wrap;\n",
              "      gap: 12px;\n",
              "    }\n",
              "\n",
              "    .colab-df-convert {\n",
              "      background-color: #E8F0FE;\n",
              "      border: none;\n",
              "      border-radius: 50%;\n",
              "      cursor: pointer;\n",
              "      display: none;\n",
              "      fill: #1967D2;\n",
              "      height: 32px;\n",
              "      padding: 0 0 0 0;\n",
              "      width: 32px;\n",
              "    }\n",
              "\n",
              "    .colab-df-convert:hover {\n",
              "      background-color: #E2EBFA;\n",
              "      box-shadow: 0px 1px 2px rgba(60, 64, 67, 0.3), 0px 1px 3px 1px rgba(60, 64, 67, 0.15);\n",
              "      fill: #174EA6;\n",
              "    }\n",
              "\n",
              "    [theme=dark] .colab-df-convert {\n",
              "      background-color: #3B4455;\n",
              "      fill: #D2E3FC;\n",
              "    }\n",
              "\n",
              "    [theme=dark] .colab-df-convert:hover {\n",
              "      background-color: #434B5C;\n",
              "      box-shadow: 0px 1px 3px 1px rgba(0, 0, 0, 0.15);\n",
              "      filter: drop-shadow(0px 1px 2px rgba(0, 0, 0, 0.3));\n",
              "      fill: #FFFFFF;\n",
              "    }\n",
              "  </style>\n",
              "\n",
              "      <script>\n",
              "        const buttonEl =\n",
              "          document.querySelector('#df-c3a89c00-cb2a-4c7b-9504-c5ec1b079b49 button.colab-df-convert');\n",
              "        buttonEl.style.display =\n",
              "          google.colab.kernel.accessAllowed ? 'block' : 'none';\n",
              "\n",
              "        async function convertToInteractive(key) {\n",
              "          const element = document.querySelector('#df-c3a89c00-cb2a-4c7b-9504-c5ec1b079b49');\n",
              "          const dataTable =\n",
              "            await google.colab.kernel.invokeFunction('convertToInteractive',\n",
              "                                                     [key], {});\n",
              "          if (!dataTable) return;\n",
              "\n",
              "          const docLinkHtml = 'Like what you see? Visit the ' +\n",
              "            '<a target=\"_blank\" href=https://colab.research.google.com/notebooks/data_table.ipynb>data table notebook</a>'\n",
              "            + ' to learn more about interactive tables.';\n",
              "          element.innerHTML = '';\n",
              "          dataTable['output_type'] = 'display_data';\n",
              "          await google.colab.output.renderOutput(dataTable, element);\n",
              "          const docLink = document.createElement('div');\n",
              "          docLink.innerHTML = docLinkHtml;\n",
              "          element.appendChild(docLink);\n",
              "        }\n",
              "      </script>\n",
              "    </div>\n",
              "  </div>\n",
              "  "
            ]
          },
          "metadata": {},
          "execution_count": 130
        }
      ]
    },
    {
      "cell_type": "code",
      "source": [
        "credits.shape #Explorer les dimensions de l'entrepôt de données."
      ],
      "metadata": {
        "colab": {
          "base_uri": "https://localhost:8080/"
        },
        "id": "AkbgYHwiZACd",
        "outputId": "46514cfb-cbaa-4c43-fbf7-e265cf0f7081"
      },
      "execution_count": null,
      "outputs": [
        {
          "output_type": "execute_result",
          "data": {
            "text/plain": [
              "(149, 15)"
            ]
          },
          "metadata": {},
          "execution_count": 131
        }
      ]
    },
    {
      "cell_type": "code",
      "source": [
        "credits.columns # Afficher les noms des variables (“feature+LABEL”) "
      ],
      "metadata": {
        "colab": {
          "base_uri": "https://localhost:8080/"
        },
        "id": "5MsePA24ZCX5",
        "outputId": "8e3ac99e-4d7a-4ebe-aa0f-709c77c9b1fa"
      },
      "execution_count": null,
      "outputs": [
        {
          "output_type": "execute_result",
          "data": {
            "text/plain": [
              "Index(['revenuAnnuel', 'autreRevenu', 'salaire', 'age', 'anneeTravaillee',\n",
              "       'nbDernierCreditRefuse', 'nbDernierCreditQccepte', 'PersonnesEnCharge',\n",
              "       'RevenuNetMoyen', 'nbVoitures', 'catgSocialePro', 'statutSocial',\n",
              "       'Residence', 'secteurTravail', 'Decision'],\n",
              "      dtype='object')"
            ]
          },
          "metadata": {},
          "execution_count": 132
        }
      ]
    },
    {
      "cell_type": "code",
      "source": [
        "print(credits['Decision'].unique()) # Sélectionnez les valeurs possibles de la colonne Decision."
      ],
      "metadata": {
        "colab": {
          "base_uri": "https://localhost:8080/"
        },
        "id": "A-tBSPVdZEg0",
        "outputId": "18f3a2c4-6e02-475a-c76c-0e7ad5fab7d2"
      },
      "execution_count": null,
      "outputs": [
        {
          "output_type": "stream",
          "name": "stdout",
          "text": [
            "['Accepted' 'Refused' 'Tolerated']\n"
          ]
        }
      ]
    },
    {
      "cell_type": "code",
      "source": [
        "print(credits.groupby('Decision').size())"
      ],
      "metadata": {
        "colab": {
          "base_uri": "https://localhost:8080/"
        },
        "id": "28MMbtkDZHer",
        "outputId": "3d0307f9-3ba5-4cfe-9724-88794e100f6d"
      },
      "execution_count": null,
      "outputs": [
        {
          "output_type": "stream",
          "name": "stdout",
          "text": [
            "Decision\n",
            "Accepted     44\n",
            "Refused      75\n",
            "Tolerated    30\n",
            "dtype: int64\n"
          ]
        }
      ]
    },
    {
      "cell_type": "code",
      "source": [
        "sns.countplot(x=credits['Decision'])\n",
        "plt.show()"
      ],
      "metadata": {
        "colab": {
          "base_uri": "https://localhost:8080/"
        },
        "id": "-sAOjmaMZJQg",
        "outputId": "ef79afa5-8301-45d4-e188-ec677feb4ea1"
      },
      "execution_count": null,
      "outputs": [
        {
          "output_type": "display_data",
          "data": {
            "text/plain": [
              "<Figure size 576x396 with 1 Axes>"
            ],
            "image/png": "[encoded data removed]"
          },
          "metadata": {}
        }
      ]
    },
    {
      "cell_type": "code",
      "source": [],
      "metadata": {
        "id": "i8cLa2DeZLvP"
      },
      "execution_count": null,
      "outputs": []
    },
    {
      "cell_type": "markdown",
      "source": [
        "### **La méthodologie CRISP-DM**"
      ],
      "metadata": {
        "id": "F6T1J_6AZc3N"
      }
    },
    {
      "cell_type": "code",
      "source": [
        "Image(filename='/content/drive/MyDrive/Machine_learning/Projet/CRISP-DM-Model-Taylor-2017.png')"
      ],
      "metadata": {
        "colab": {
          "base_uri": "https://localhost:8080/",
          "height": 511
        },
        "id": "EmLWSZRsZfRo",
        "outputId": "430a635b-d9c4-497b-b8c3-bdc1a67c7e00"
      },
      "execution_count": null,
      "outputs": [
        {
          "output_type": "execute_result",
          "data": {
            "image/png": "[encoded data removed]",
            "text/plain": [
              "<IPython.core.display.Image object>"
            ]
          },
          "metadata": {},
          "execution_count": 136
        }
      ]
    },
    {
      "cell_type": "markdown",
      "source": [
        "**1- La compréhension du problème métier**\n",
        "\n",
        "---\n",
        "\n",
        "\n"
      ],
      "metadata": {
        "id": "M1i_qvSvZ5ty"
      }
    },
    {
      "cell_type": "markdown",
      "source": [
        "Notre objectif est de pouvoir prendre la décison pour accepté une demande d'un crédit ou de la réfusé.\n",
        "\n",
        "A partir des caractéristique fournit le systéme doit évaluer le risque pour pouvoir prendre la meilleur décision.\n",
        "\n",
        "->  Améliorer l'expéricence de prise de décision\n"
      ],
      "metadata": {
        "id": "bEnLb9QqEDFn"
      }
    },
    {
      "cell_type": "markdown",
      "source": [
        "**2- La compréhension des données**\n",
        "\n",
        "---\n",
        "\n",
        "\n"
      ],
      "metadata": {
        "id": "1QdC2Xc11eZ6"
      }
    },
    {
      "cell_type": "markdown",
      "source": [
        "\n",
        "*   revenuAnnuel : le revenu annuel du demandant, son salaire declaré * 12 + autre revenu si existe * 12.\n",
        "*   autreRevenu : Un revenu autre que le salaire.\n",
        "*   salaire : le salaire du demandeur.\n",
        "*   age : L'age du demandeur.\n",
        "*   annéeTravaillee : Les années d'xpérience du demandeur.\n",
        "*   nbDernierCreditRefuse : nombre des dérniers crédits réfusé s'il a demandé d'avant.\n",
        "*   nbDernierCreditQccepte : nombre des dérniers accepté réfusé s'il a demandé d'avant.\n",
        "*   PersonnesEnCharge : Si le demandeur a des personnes sous sa responsabilité.\n",
        "*   RevenuNetMoyen : Revenue net à partir de sons salaire brut.\n",
        "*   nbVoitures : nombre des voitures du demandeur.\n",
        "*   catgSocialePro : Le type du contrat professionnel du demandeur.\n",
        "*   statutSocial : Le demandeur est marié ou celibataire.\n",
        "*   Residence : Le lieu où le demandeur habite.\n",
        "*   secteurTravail : le domaine d'activité du demandeur."
      ],
      "metadata": {
        "id": "iYQdkvczGSeW"
      }
    },
    {
      "cell_type": "markdown",
      "source": [
        "**3- La préparation des données**\n",
        "\n",
        "---\n",
        "\n",
        "\n"
      ],
      "metadata": {
        "id": "KvXnOZcR1fQ4"
      }
    },
    {
      "cell_type": "markdown",
      "source": [
        "Les données brutes doivent être prétraitées avant d'être utilisées pour ajuster et évaluer un modèle d'apprentissage automatique."
      ],
      "metadata": {
        "id": "zViciKK_6tF6"
      }
    },
    {
      "cell_type": "markdown",
      "source": [
        "**3.1- Netoyage des données**"
      ],
      "metadata": {
        "id": "O3TdddgX2CHQ"
      }
    },
    {
      "cell_type": "markdown",
      "source": [
        "**3.1.1- Identifier les valeurs aburentes :**\n",
        "\n",
        "Pour détecter ces valeurs est de réaliser un box-plot pour chacune des variables. Les bornes du graphique délimitent les valeurs selon la distribution de la variable. Au-delà de ces extrémités, ces valeurs sont considérées comme des valeurs aberrantes."
      ],
      "metadata": {
        "id": "4h3X2UyrXcUN"
      }
    },
    {
      "cell_type": "code",
      "source": [
        "sns.boxplot(credits['revenuAnnuel'])"
      ],
      "metadata": {
        "colab": {
          "base_uri": "https://localhost:8080/",
          "height": 378
        },
        "id": "BkT1IIteadub",
        "outputId": "e4d703c8-aea9-4420-dc86-850f1a0773c4"
      },
      "execution_count": null,
      "outputs": [
        {
          "output_type": "execute_result",
          "data": {
            "text/plain": [
              "<matplotlib.axes._subplots.AxesSubplot at 0x7f4580f96bb0>"
            ]
          },
          "metadata": {},
          "execution_count": 137
        },
        {
          "output_type": "display_data",
          "data": {
            "text/plain": [
              "<Figure size 576x396 with 1 Axes>"
            ],
            "image/png": "[encoded data removed]"
          },
          "metadata": {}
        }
      ]
    },
    {
      "cell_type": "markdown",
      "source": [
        "-> Pas de valeur aburentes."
      ],
      "metadata": {
        "id": "SXmZCf3uajES"
      }
    },
    {
      "cell_type": "markdown",
      "source": [
        "**3.1.2- Supprimer les colonnes qui ont les meme valeurs :**"
      ],
      "metadata": {
        "id": "L_OlvqcvYXz9"
      }
    },
    {
      "cell_type": "markdown",
      "source": [
        "-> Pas de colonnes redondates"
      ],
      "metadata": {
        "id": "UH_v-l7ofIX7"
      }
    },
    {
      "cell_type": "markdown",
      "source": [
        "**3.1.3- Supprimer les lignes en double :**"
      ],
      "metadata": {
        "id": "cxGBnBtLbFYT"
      }
    },
    {
      "cell_type": "code",
      "source": [
        "credits.loc[credits['revenuAnnuel'].duplicated(keep=False),:]"
      ],
      "metadata": {
        "colab": {
          "base_uri": "https://localhost:8080/",
          "height": 113
        },
        "id": "eM3S5wV-bKym",
        "outputId": "bd23942e-a963-4cb7-892b-cd24575c06f6"
      },
      "execution_count": null,
      "outputs": [
        {
          "output_type": "execute_result",
          "data": {
            "text/plain": [
              "Empty DataFrame\n",
              "Columns: [revenuAnnuel, autreRevenu, salaire, age, anneeTravaillee, nbDernierCreditRefuse, nbDernierCreditQccepte, PersonnesEnCharge, RevenuNetMoyen, nbVoitures, catgSocialePro, statutSocial, Residence, secteurTravail, Decision]\n",
              "Index: []"
            ],
            "text/html": [
              "\n",
              "  <div id=\"df-ca346614-d059-4bfe-bc30-7556641e46f2\">\n",
              "    <div class=\"colab-df-container\">\n",
              "      <div>\n",
              "<style scoped>\n",
              "    .dataframe tbody tr th:only-of-type {\n",
              "        vertical-align: middle;\n",
              "    }\n",
              "\n",
              "    .dataframe tbody tr th {\n",
              "        vertical-align: top;\n",
              "    }\n",
              "\n",
              "    .dataframe thead th {\n",
              "        text-align: right;\n",
              "    }\n",
              "</style>\n",
              "<table border=\"1\" class=\"dataframe\">\n",
              "  <thead>\n",
              "    <tr style=\"text-align: right;\">\n",
              "      <th></th>\n",
              "      <th>revenuAnnuel</th>\n",
              "      <th>autreRevenu</th>\n",
              "      <th>salaire</th>\n",
              "      <th>age</th>\n",
              "      <th>anneeTravaillee</th>\n",
              "      <th>nbDernierCreditRefuse</th>\n",
              "      <th>nbDernierCreditQccepte</th>\n",
              "      <th>PersonnesEnCharge</th>\n",
              "      <th>RevenuNetMoyen</th>\n",
              "      <th>nbVoitures</th>\n",
              "      <th>catgSocialePro</th>\n",
              "      <th>statutSocial</th>\n",
              "      <th>Residence</th>\n",
              "      <th>secteurTravail</th>\n",
              "      <th>Decision</th>\n",
              "    </tr>\n",
              "  </thead>\n",
              "  <tbody>\n",
              "  </tbody>\n",
              "</table>\n",
              "</div>\n",
              "      <button class=\"colab-df-convert\" onclick=\"convertToInteractive('df-ca346614-d059-4bfe-bc30-7556641e46f2')\"\n",
              "              title=\"Convert this dataframe to an interactive table.\"\n",
              "              style=\"display:none;\">\n",
              "        \n",
              "  <svg xmlns=\"http://www.w3.org/2000/svg\" height=\"24px\"viewBox=\"0 0 24 24\"\n",
              "       width=\"24px\">\n",
              "    <path d=\"M0 0h24v24H0V0z\" fill=\"none\"/>\n",
              "    <path d=\"M18.56 5.44l.94 2.06.94-2.06 2.06-.94-2.06-.94-.94-2.06-.94 2.06-2.06.94zm-11 1L8.5 8.5l.94-2.06 2.06-.94-2.06-.94L8.5 2.5l-.94 2.06-2.06.94zm10 10l.94 2.06.94-2.06 2.06-.94-2.06-.94-.94-2.06-.94 2.06-2.06.94z\"/><path d=\"M17.41 7.96l-1.37-1.37c-.4-.4-.92-.59-1.43-.59-.52 0-1.04.2-1.43.59L10.3 9.45l-7.72 7.72c-.78.78-.78 2.05 0 2.83L4 21.41c.39.39.9.59 1.41.59.51 0 1.02-.2 1.41-.59l7.78-7.78 2.81-2.81c.8-.78.8-2.07 0-2.86zM5.41 20L4 18.59l7.72-7.72 1.47 1.35L5.41 20z\"/>\n",
              "  </svg>\n",
              "      </button>\n",
              "      \n",
              "  <style>\n",
              "    .colab-df-container {\n",
              "      display:flex;\n",
              "      flex-wrap:wrap;\n",
              "      gap: 12px;\n",
              "    }\n",
              "\n",
              "    .colab-df-convert {\n",
              "      background-color: #E8F0FE;\n",
              "      border: none;\n",
              "      border-radius: 50%;\n",
              "      cursor: pointer;\n",
              "      display: none;\n",
              "      fill: #1967D2;\n",
              "      height: 32px;\n",
              "      padding: 0 0 0 0;\n",
              "      width: 32px;\n",
              "    }\n",
              "\n",
              "    .colab-df-convert:hover {\n",
              "      background-color: #E2EBFA;\n",
              "      box-shadow: 0px 1px 2px rgba(60, 64, 67, 0.3), 0px 1px 3px 1px rgba(60, 64, 67, 0.15);\n",
              "      fill: #174EA6;\n",
              "    }\n",
              "\n",
              "    [theme=dark] .colab-df-convert {\n",
              "      background-color: #3B4455;\n",
              "      fill: #D2E3FC;\n",
              "    }\n",
              "\n",
              "    [theme=dark] .colab-df-convert:hover {\n",
              "      background-color: #434B5C;\n",
              "      box-shadow: 0px 1px 3px 1px rgba(0, 0, 0, 0.15);\n",
              "      filter: drop-shadow(0px 1px 2px rgba(0, 0, 0, 0.3));\n",
              "      fill: #FFFFFF;\n",
              "    }\n",
              "  </style>\n",
              "\n",
              "      <script>\n",
              "        const buttonEl =\n",
              "          document.querySelector('#df-ca346614-d059-4bfe-bc30-7556641e46f2 button.colab-df-convert');\n",
              "        buttonEl.style.display =\n",
              "          google.colab.kernel.accessAllowed ? 'block' : 'none';\n",
              "\n",
              "        async function convertToInteractive(key) {\n",
              "          const element = document.querySelector('#df-ca346614-d059-4bfe-bc30-7556641e46f2');\n",
              "          const dataTable =\n",
              "            await google.colab.kernel.invokeFunction('convertToInteractive',\n",
              "                                                     [key], {});\n",
              "          if (!dataTable) return;\n",
              "\n",
              "          const docLinkHtml = 'Like what you see? Visit the ' +\n",
              "            '<a target=\"_blank\" href=https://colab.research.google.com/notebooks/data_table.ipynb>data table notebook</a>'\n",
              "            + ' to learn more about interactive tables.';\n",
              "          element.innerHTML = '';\n",
              "          dataTable['output_type'] = 'display_data';\n",
              "          await google.colab.output.renderOutput(dataTable, element);\n",
              "          const docLink = document.createElement('div');\n",
              "          docLink.innerHTML = docLinkHtml;\n",
              "          element.appendChild(docLink);\n",
              "        }\n",
              "      </script>\n",
              "    </div>\n",
              "  </div>\n",
              "  "
            ]
          },
          "metadata": {},
          "execution_count": 138
        }
      ]
    },
    {
      "cell_type": "code",
      "source": [
        "credits.duplicated().sum() "
      ],
      "metadata": {
        "colab": {
          "base_uri": "https://localhost:8080/"
        },
        "id": "ecu2rOyfbrwE",
        "outputId": "7986de97-f95a-47d6-f0f5-3d1d9b9cddca"
      },
      "execution_count": null,
      "outputs": [
        {
          "output_type": "execute_result",
          "data": {
            "text/plain": [
              "0"
            ]
          },
          "metadata": {},
          "execution_count": 139
        }
      ]
    },
    {
      "cell_type": "code",
      "source": [
        "credits.drop_duplicates()"
      ],
      "metadata": {
        "colab": {
          "base_uri": "https://localhost:8080/",
          "height": 661
        },
        "id": "v9fc4gpXbx28",
        "outputId": "c53f7c7a-fd7d-41bc-8c6b-1ec58cd76181"
      },
      "execution_count": null,
      "outputs": [
        {
          "output_type": "execute_result",
          "data": {
            "text/plain": [
              "     revenuAnnuel  autreRevenu      salaire  age  anneeTravaillee  \\\n",
              "0         29921.0            0  2493.416667   51               10   \n",
              "1         22912.0          530  1379.333333   32                5   \n",
              "2         15780.0            0  1315.000000   30                5   \n",
              "3         31293.0          848  1759.750000   29                5   \n",
              "4         14312.0            0  1192.666667   36               10   \n",
              "..            ...          ...          ...  ...              ...   \n",
              "144       25264.0            0  2105.333333   20                5   \n",
              "145        9251.0            0   770.916667   68               20   \n",
              "146       16901.0            0  1408.416667   50                2   \n",
              "147       28862.0            0  2405.166667   33                5   \n",
              "148       13560.0            0  1130.000000   23               10   \n",
              "\n",
              "     nbDernierCreditRefuse  nbDernierCreditQccepte  PersonnesEnCharge  \\\n",
              "0                        0                       1                  1   \n",
              "1                        3                       2                  1   \n",
              "2                        3                       0                  2   \n",
              "3                        2                       2                  0   \n",
              "4                        2                       2                  2   \n",
              "..                     ...                     ...                ...   \n",
              "144                      4                       0                  0   \n",
              "145                      2                       1                  1   \n",
              "146                      3                       0                  3   \n",
              "147                      2                       1                  1   \n",
              "148                      3                       1                  2   \n",
              "\n",
              "     RevenuNetMoyen  nbVoitures catgSocialePro statutSocial  \\\n",
              "0        831.138889           2        Titular       Single   \n",
              "1        636.444444           1        Titular       Single   \n",
              "2        438.333333           0        Titular       Single   \n",
              "3        869.250000           1    Contractual       Single   \n",
              "4        397.555556           1        Titular       Single   \n",
              "..              ...         ...            ...          ...   \n",
              "144      701.777778           2        Titular       Single   \n",
              "145      256.972222           1        Retired      Married   \n",
              "146      469.472222           0    Contractual       Single   \n",
              "147      801.722222           0    Contractual       Single   \n",
              "148      376.666667           1        Titular      Married   \n",
              "\n",
              "               Residence     secteurTravail   Decision  \n",
              "0            House Owner             Others   Accepted  \n",
              "1    Living with parents      Developpement   Accepted  \n",
              "2    Living with parents        Agriculture    Refused  \n",
              "3    Living with parents             Others   Accepted  \n",
              "4            House Owner           Handwork  Tolerated  \n",
              "..                   ...                ...        ...  \n",
              "144          House Owner          Education  Tolerated  \n",
              "145          House Owner             Others    Refused  \n",
              "146          Float Owner      Manufacturing    Refused  \n",
              "147  Living with parents    Public Services   Accepted  \n",
              "148          Float Owner  Telecommunication  Tolerated  \n",
              "\n",
              "[149 rows x 15 columns]"
            ],
            "text/html": [
              "\n",
              "  <div id=\"df-f46344a1-ebe3-4463-baed-1814e4858925\">\n",
              "    <div class=\"colab-df-container\">\n",
              "      <div>\n",
              "<style scoped>\n",
              "    .dataframe tbody tr th:only-of-type {\n",
              "        vertical-align: middle;\n",
              "    }\n",
              "\n",
              "    .dataframe tbody tr th {\n",
              "        vertical-align: top;\n",
              "    }\n",
              "\n",
              "    .dataframe thead th {\n",
              "        text-align: right;\n",
              "    }\n",
              "</style>\n",
              "<table border=\"1\" class=\"dataframe\">\n",
              "  <thead>\n",
              "    <tr style=\"text-align: right;\">\n",
              "      <th></th>\n",
              "      <th>revenuAnnuel</th>\n",
              "      <th>autreRevenu</th>\n",
              "      <th>salaire</th>\n",
              "      <th>age</th>\n",
              "      <th>anneeTravaillee</th>\n",
              "      <th>nbDernierCreditRefuse</th>\n",
              "      <th>nbDernierCreditQccepte</th>\n",
              "      <th>PersonnesEnCharge</th>\n",
              "      <th>RevenuNetMoyen</th>\n",
              "      <th>nbVoitures</th>\n",
              "      <th>catgSocialePro</th>\n",
              "      <th>statutSocial</th>\n",
              "      <th>Residence</th>\n",
              "      <th>secteurTravail</th>\n",
              "      <th>Decision</th>\n",
              "    </tr>\n",
              "  </thead>\n",
              "  <tbody>\n",
              "    <tr>\n",
              "      <th>0</th>\n",
              "      <td>29921.0</td>\n",
              "      <td>0</td>\n",
              "      <td>2493.416667</td>\n",
              "      <td>51</td>\n",
              "      <td>10</td>\n",
              "      <td>0</td>\n",
              "      <td>1</td>\n",
              "      <td>1</td>\n",
              "      <td>831.138889</td>\n",
              "      <td>2</td>\n",
              "      <td>Titular</td>\n",
              "      <td>Single</td>\n",
              "      <td>House Owner</td>\n",
              "      <td>Others</td>\n",
              "      <td>Accepted</td>\n",
              "    </tr>\n",
              "    <tr>\n",
              "      <th>1</th>\n",
              "      <td>22912.0</td>\n",
              "      <td>530</td>\n",
              "      <td>1379.333333</td>\n",
              "      <td>32</td>\n",
              "      <td>5</td>\n",
              "      <td>3</td>\n",
              "      <td>2</td>\n",
              "      <td>1</td>\n",
              "      <td>636.444444</td>\n",
              "      <td>1</td>\n",
              "      <td>Titular</td>\n",
              "      <td>Single</td>\n",
              "      <td>Living with parents</td>\n",
              "      <td>Developpement</td>\n",
              "      <td>Accepted</td>\n",
              "    </tr>\n",
              "    <tr>\n",
              "      <th>2</th>\n",
              "      <td>15780.0</td>\n",
              "      <td>0</td>\n",
              "      <td>1315.000000</td>\n",
              "      <td>30</td>\n",
              "      <td>5</td>\n",
              "      <td>3</td>\n",
              "      <td>0</td>\n",
              "      <td>2</td>\n",
              "      <td>438.333333</td>\n",
              "      <td>0</td>\n",
              "      <td>Titular</td>\n",
              "      <td>Single</td>\n",
              "      <td>Living with parents</td>\n",
              "      <td>Agriculture</td>\n",
              "      <td>Refused</td>\n",
              "    </tr>\n",
              "    <tr>\n",
              "      <th>3</th>\n",
              "      <td>31293.0</td>\n",
              "      <td>848</td>\n",
              "      <td>1759.750000</td>\n",
              "      <td>29</td>\n",
              "      <td>5</td>\n",
              "      <td>2</td>\n",
              "      <td>2</td>\n",
              "      <td>0</td>\n",
              "      <td>869.250000</td>\n",
              "      <td>1</td>\n",
              "      <td>Contractual</td>\n",
              "      <td>Single</td>\n",
              "      <td>Living with parents</td>\n",
              "      <td>Others</td>\n",
              "      <td>Accepted</td>\n",
              "    </tr>\n",
              "    <tr>\n",
              "      <th>4</th>\n",
              "      <td>14312.0</td>\n",
              "      <td>0</td>\n",
              "      <td>1192.666667</td>\n",
              "      <td>36</td>\n",
              "      <td>10</td>\n",
              "      <td>2</td>\n",
              "      <td>2</td>\n",
              "      <td>2</td>\n",
              "      <td>397.555556</td>\n",
              "      <td>1</td>\n",
              "      <td>Titular</td>\n",
              "      <td>Single</td>\n",
              "      <td>House Owner</td>\n",
              "      <td>Handwork</td>\n",
              "      <td>Tolerated</td>\n",
              "    </tr>\n",
              "    <tr>\n",
              "      <th>...</th>\n",
              "      <td>...</td>\n",
              "      <td>...</td>\n",
              "      <td>...</td>\n",
              "      <td>...</td>\n",
              "      <td>...</td>\n",
              "      <td>...</td>\n",
              "      <td>...</td>\n",
              "      <td>...</td>\n",
              "      <td>...</td>\n",
              "      <td>...</td>\n",
              "      <td>...</td>\n",
              "      <td>...</td>\n",
              "      <td>...</td>\n",
              "      <td>...</td>\n",
              "      <td>...</td>\n",
              "    </tr>\n",
              "    <tr>\n",
              "      <th>144</th>\n",
              "      <td>25264.0</td>\n",
              "      <td>0</td>\n",
              "      <td>2105.333333</td>\n",
              "      <td>20</td>\n",
              "      <td>5</td>\n",
              "      <td>4</td>\n",
              "      <td>0</td>\n",
              "      <td>0</td>\n",
              "      <td>701.777778</td>\n",
              "      <td>2</td>\n",
              "      <td>Titular</td>\n",
              "      <td>Single</td>\n",
              "      <td>House Owner</td>\n",
              "      <td>Education</td>\n",
              "      <td>Tolerated</td>\n",
              "    </tr>\n",
              "    <tr>\n",
              "      <th>145</th>\n",
              "      <td>9251.0</td>\n",
              "      <td>0</td>\n",
              "      <td>770.916667</td>\n",
              "      <td>68</td>\n",
              "      <td>20</td>\n",
              "      <td>2</td>\n",
              "      <td>1</td>\n",
              "      <td>1</td>\n",
              "      <td>256.972222</td>\n",
              "      <td>1</td>\n",
              "      <td>Retired</td>\n",
              "      <td>Married</td>\n",
              "      <td>House Owner</td>\n",
              "      <td>Others</td>\n",
              "      <td>Refused</td>\n",
              "    </tr>\n",
              "    <tr>\n",
              "      <th>146</th>\n",
              "      <td>16901.0</td>\n",
              "      <td>0</td>\n",
              "      <td>1408.416667</td>\n",
              "      <td>50</td>\n",
              "      <td>2</td>\n",
              "      <td>3</td>\n",
              "      <td>0</td>\n",
              "      <td>3</td>\n",
              "      <td>469.472222</td>\n",
              "      <td>0</td>\n",
              "      <td>Contractual</td>\n",
              "      <td>Single</td>\n",
              "      <td>Float Owner</td>\n",
              "      <td>Manufacturing</td>\n",
              "      <td>Refused</td>\n",
              "    </tr>\n",
              "    <tr>\n",
              "      <th>147</th>\n",
              "      <td>28862.0</td>\n",
              "      <td>0</td>\n",
              "      <td>2405.166667</td>\n",
              "      <td>33</td>\n",
              "      <td>5</td>\n",
              "      <td>2</td>\n",
              "      <td>1</td>\n",
              "      <td>1</td>\n",
              "      <td>801.722222</td>\n",
              "      <td>0</td>\n",
              "      <td>Contractual</td>\n",
              "      <td>Single</td>\n",
              "      <td>Living with parents</td>\n",
              "      <td>Public Services</td>\n",
              "      <td>Accepted</td>\n",
              "    </tr>\n",
              "    <tr>\n",
              "      <th>148</th>\n",
              "      <td>13560.0</td>\n",
              "      <td>0</td>\n",
              "      <td>1130.000000</td>\n",
              "      <td>23</td>\n",
              "      <td>10</td>\n",
              "      <td>3</td>\n",
              "      <td>1</td>\n",
              "      <td>2</td>\n",
              "      <td>376.666667</td>\n",
              "      <td>1</td>\n",
              "      <td>Titular</td>\n",
              "      <td>Married</td>\n",
              "      <td>Float Owner</td>\n",
              "      <td>Telecommunication</td>\n",
              "      <td>Tolerated</td>\n",
              "    </tr>\n",
              "  </tbody>\n",
              "</table>\n",
              "<p>149 rows × 15 columns</p>\n",
              "</div>\n",
              "      <button class=\"colab-df-convert\" onclick=\"convertToInteractive('df-f46344a1-ebe3-4463-baed-1814e4858925')\"\n",
              "              title=\"Convert this dataframe to an interactive table.\"\n",
              "              style=\"display:none;\">\n",
              "        \n",
              "  <svg xmlns=\"http://www.w3.org/2000/svg\" height=\"24px\"viewBox=\"0 0 24 24\"\n",
              "       width=\"24px\">\n",
              "    <path d=\"M0 0h24v24H0V0z\" fill=\"none\"/>\n",
              "    <path d=\"M18.56 5.44l.94 2.06.94-2.06 2.06-.94-2.06-.94-.94-2.06-.94 2.06-2.06.94zm-11 1L8.5 8.5l.94-2.06 2.06-.94-2.06-.94L8.5 2.5l-.94 2.06-2.06.94zm10 10l.94 2.06.94-2.06 2.06-.94-2.06-.94-.94-2.06-.94 2.06-2.06.94z\"/><path d=\"M17.41 7.96l-1.37-1.37c-.4-.4-.92-.59-1.43-.59-.52 0-1.04.2-1.43.59L10.3 9.45l-7.72 7.72c-.78.78-.78 2.05 0 2.83L4 21.41c.39.39.9.59 1.41.59.51 0 1.02-.2 1.41-.59l7.78-7.78 2.81-2.81c.8-.78.8-2.07 0-2.86zM5.41 20L4 18.59l7.72-7.72 1.47 1.35L5.41 20z\"/>\n",
              "  </svg>\n",
              "      </button>\n",
              "      \n",
              "  <style>\n",
              "    .colab-df-container {\n",
              "      display:flex;\n",
              "      flex-wrap:wrap;\n",
              "      gap: 12px;\n",
              "    }\n",
              "\n",
              "    .colab-df-convert {\n",
              "      background-color: #E8F0FE;\n",
              "      border: none;\n",
              "      border-radius: 50%;\n",
              "      cursor: pointer;\n",
              "      display: none;\n",
              "      fill: #1967D2;\n",
              "      height: 32px;\n",
              "      padding: 0 0 0 0;\n",
              "      width: 32px;\n",
              "    }\n",
              "\n",
              "    .colab-df-convert:hover {\n",
              "      background-color: #E2EBFA;\n",
              "      box-shadow: 0px 1px 2px rgba(60, 64, 67, 0.3), 0px 1px 3px 1px rgba(60, 64, 67, 0.15);\n",
              "      fill: #174EA6;\n",
              "    }\n",
              "\n",
              "    [theme=dark] .colab-df-convert {\n",
              "      background-color: #3B4455;\n",
              "      fill: #D2E3FC;\n",
              "    }\n",
              "\n",
              "    [theme=dark] .colab-df-convert:hover {\n",
              "      background-color: #434B5C;\n",
              "      box-shadow: 0px 1px 3px 1px rgba(0, 0, 0, 0.15);\n",
              "      filter: drop-shadow(0px 1px 2px rgba(0, 0, 0, 0.3));\n",
              "      fill: #FFFFFF;\n",
              "    }\n",
              "  </style>\n",
              "\n",
              "      <script>\n",
              "        const buttonEl =\n",
              "          document.querySelector('#df-f46344a1-ebe3-4463-baed-1814e4858925 button.colab-df-convert');\n",
              "        buttonEl.style.display =\n",
              "          google.colab.kernel.accessAllowed ? 'block' : 'none';\n",
              "\n",
              "        async function convertToInteractive(key) {\n",
              "          const element = document.querySelector('#df-f46344a1-ebe3-4463-baed-1814e4858925');\n",
              "          const dataTable =\n",
              "            await google.colab.kernel.invokeFunction('convertToInteractive',\n",
              "                                                     [key], {});\n",
              "          if (!dataTable) return;\n",
              "\n",
              "          const docLinkHtml = 'Like what you see? Visit the ' +\n",
              "            '<a target=\"_blank\" href=https://colab.research.google.com/notebooks/data_table.ipynb>data table notebook</a>'\n",
              "            + ' to learn more about interactive tables.';\n",
              "          element.innerHTML = '';\n",
              "          dataTable['output_type'] = 'display_data';\n",
              "          await google.colab.output.renderOutput(dataTable, element);\n",
              "          const docLink = document.createElement('div');\n",
              "          docLink.innerHTML = docLinkHtml;\n",
              "          element.appendChild(docLink);\n",
              "        }\n",
              "      </script>\n",
              "    </div>\n",
              "  </div>\n",
              "  "
            ]
          },
          "metadata": {},
          "execution_count": 140
        }
      ]
    },
    {
      "cell_type": "markdown",
      "source": [
        "-> Pas des lignes en double."
      ],
      "metadata": {
        "id": "Mu8yGYZLbMH9"
      }
    },
    {
      "cell_type": "markdown",
      "source": [
        "**3.1.4- Marquer les valeurs vides comme manquantes :**"
      ],
      "metadata": {
        "id": "D0SelYLHb8kL"
      }
    },
    {
      "cell_type": "code",
      "source": [
        "credits.isnull().values.any() # Identification des valeurs null"
      ],
      "metadata": {
        "colab": {
          "base_uri": "https://localhost:8080/"
        },
        "id": "7GB9YhgHcHVj",
        "outputId": "c11d5447-d4a0-4ab9-8114-e91eecf65098"
      },
      "execution_count": null,
      "outputs": [
        {
          "output_type": "execute_result",
          "data": {
            "text/plain": [
              "False"
            ]
          },
          "metadata": {},
          "execution_count": 141
        }
      ]
    },
    {
      "cell_type": "code",
      "source": [
        "credits.isnull().sum() # Nombre total de valeurs manquantes pour chaque caractéristique"
      ],
      "metadata": {
        "colab": {
          "base_uri": "https://localhost:8080/"
        },
        "id": "vMpYSEyGcLvL",
        "outputId": "06661ff0-0f89-4594-ef23-fba7cf24b50d"
      },
      "execution_count": null,
      "outputs": [
        {
          "output_type": "execute_result",
          "data": {
            "text/plain": [
              "revenuAnnuel              0\n",
              "autreRevenu               0\n",
              "salaire                   0\n",
              "age                       0\n",
              "anneeTravaillee           0\n",
              "nbDernierCreditRefuse     0\n",
              "nbDernierCreditQccepte    0\n",
              "PersonnesEnCharge         0\n",
              "RevenuNetMoyen            0\n",
              "nbVoitures                0\n",
              "catgSocialePro            0\n",
              "statutSocial              0\n",
              "Residence                 0\n",
              "secteurTravail            0\n",
              "Decision                  0\n",
              "dtype: int64"
            ]
          },
          "metadata": {},
          "execution_count": 142
        }
      ]
    },
    {
      "cell_type": "code",
      "source": [
        "credits.isnull().sum().sum() # Nombre total de valeurs manquantes"
      ],
      "metadata": {
        "colab": {
          "base_uri": "https://localhost:8080/"
        },
        "id": "R2PAiekXcQU8",
        "outputId": "438771ad-d182-40ea-8159-6b76aff5fe98"
      },
      "execution_count": null,
      "outputs": [
        {
          "output_type": "execute_result",
          "data": {
            "text/plain": [
              "0"
            ]
          },
          "metadata": {},
          "execution_count": 143
        }
      ]
    },
    {
      "cell_type": "code",
      "source": [
        "credits.notnull().values.any() # Identification des valeurs not null"
      ],
      "metadata": {
        "colab": {
          "base_uri": "https://localhost:8080/"
        },
        "id": "_bk-acX0cUcL",
        "outputId": "394e99ed-ddff-42fa-f82c-e19c4f7896f5"
      },
      "execution_count": null,
      "outputs": [
        {
          "output_type": "execute_result",
          "data": {
            "text/plain": [
              "True"
            ]
          },
          "metadata": {},
          "execution_count": 144
        }
      ]
    },
    {
      "cell_type": "code",
      "source": [
        "credits.notna().sum().sum() # 149 individus * 15 colonnes"
      ],
      "metadata": {
        "colab": {
          "base_uri": "https://localhost:8080/"
        },
        "id": "dVxYhlCpcZTU",
        "outputId": "6a0d6117-c94b-4c74-afb4-9d0e5b150cb3"
      },
      "execution_count": null,
      "outputs": [
        {
          "output_type": "execute_result",
          "data": {
            "text/plain": [
              "2235"
            ]
          },
          "metadata": {},
          "execution_count": 145
        }
      ]
    },
    {
      "cell_type": "code",
      "source": [
        "credits = credits.replace('', np.nan)"
      ],
      "metadata": {
        "id": "q4kqTUJKb-Bf"
      },
      "execution_count": null,
      "outputs": []
    },
    {
      "cell_type": "markdown",
      "source": [
        "-> Pas des colonnes vides.\n",
        "\n",
        "Si il y a des valeurs null, une imputation des données sera necessaire:\n",
        "* Mean  **credits.fillna(credits.mean())**\n",
        "* Median **credits.fillna(credits.median())**\n",
        "* Most Frequent Value **credits.fillna(credits.mode())**\n",
        "* Constant **credits.fillna(constatnt)**"
      ],
      "metadata": {
        "id": "7TyLsbzDb_s7"
      }
    },
    {
      "cell_type": "markdown",
      "source": [
        "**3.2- Transformation de données**"
      ],
      "metadata": {
        "id": "Dxpnj4Lzm6Is"
      }
    },
    {
      "cell_type": "markdown",
      "source": [
        "**3.2.1- Encodage**\n",
        "\n",
        "Caractéristique Nominale : chaque caractéristique catégorique avec n catégories est transformée en n caractéristiques binaires."
      ],
      "metadata": {
        "id": "diZufqdWyjlI"
      }
    },
    {
      "cell_type": "code",
      "source": [
        "#Training Data\n",
        "credits['catgSocialePro'] = credits['catgSocialePro'].map({'Retired': 1, 'Titular': 2, 'Contractual': 3})\n",
        "credits['statutSocial'] = credits['statutSocial'].map({'Single': 1, 'Married': 2})\n",
        "credits['Residence'] = credits['Residence'].map({'Living with parents': 1, 'House Owner': 2,'Float Owner': 3})\n",
        "credits['secteurTravail'] = credits['secteurTravail'].map({'Others': 1, 'Developpement': 2,'Agriculture': 3,'Handwork': 4,'Telecommunication': 5 ,'Education': 6 ,'Public Services': 7,'Manufacturing': 8,'Commerce': 9})\n",
        "credits['Decision'] = credits['Decision'].map({'Refused': 1, 'Accepted': 2,'Tolerated':3})"
      ],
      "metadata": {
        "id": "mMDKmTD6fyMK"
      },
      "execution_count": null,
      "outputs": []
    },
    {
      "cell_type": "code",
      "source": [
        "#Test Data\n",
        "creditsT['cat soci pro'] = creditsT['cat soci pro'].map({'Retired': 1, 'Titular': 2, 'Contractual': 3})\n",
        "creditsT['social state(matrial)'] = creditsT['social state(matrial)'].map({'Single': 1, 'Married': 2})\n",
        "creditsT['Residental Staut'] = creditsT['Residental Staut'].map({'Living with parents': 1, 'House Owner': 2,'Float Owner': 3})\n",
        "creditsT['secteur de travail'] = creditsT['secteur de travail'].map({'Others': 1, 'Developpement': 2,'Agriculture': 3,'Handwork': 4,'Telecommunication': 5 ,'Education': 6 ,'Public Services': 7,'Manufacturing': 8,'Commerce': 9})\n",
        "creditsT['Decision'] = creditsT['Decision'].map({'Refused': 1, 'Accepted': 2,'Tolerated':3})"
      ],
      "metadata": {
        "id": "W1_kq10vggQD"
      },
      "execution_count": null,
      "outputs": []
    },
    {
      "cell_type": "code",
      "source": [
        "#Rename Columns\n",
        "creditsT.rename(columns={'annual revenue':'revenuAnnuel'}, inplace=True)\n",
        "creditsT.rename(columns={'Salaire':'salaire'}, inplace=True)\n",
        "creditsT.rename(columns={'age':'age'}, inplace=True)\n",
        "creditsT.rename(columns={'Time with employer':'anneeTravaillee'}, inplace=True)\n",
        "creditsT.rename(columns={'nb last crédit refused':'nbDernierCreditRefuse'}, inplace=True)\n",
        "creditsT.rename(columns={'nb last crédit accepted':'nbDernierCreditQccepte'}, inplace=True)\n",
        "creditsT.rename(columns={'Persons in charge':'PersonnesEnCharge'}, inplace=True)\n",
        "creditsT.rename(columns={'Revenu net moyen':'RevenuNetMoyen'}, inplace=True)\n",
        "creditsT.rename(columns={'secteur de travail':'secteurTravail'}, inplace=True)\n",
        "creditsT.rename(columns={'Decision':'Decision'}, inplace=True)"
      ],
      "metadata": {
        "id": "stEthtSistX9"
      },
      "execution_count": null,
      "outputs": []
    },
    {
      "cell_type": "markdown",
      "source": [
        "**3.3- Feature Selection**"
      ],
      "metadata": {
        "id": "oUhI585heA2E"
      }
    },
    {
      "cell_type": "markdown",
      "source": [
        "**3.3.1- Removing features with low variance :**\n",
        "\n",
        "Il supprime toutes les caractéristiques dont la variance n'atteint pas un certain seuil. Par défaut, il supprime toutes les caractéristiques à variance nulle, c'est-à-dire les caractéristiques qui ont la même valeur dans tous les échantillons."
      ],
      "metadata": {
        "id": "--er9lSnejbb"
      }
    },
    {
      "cell_type": "code",
      "source": [
        "#149 nombre totale des lignes\n",
        "(credits['autreRevenu'] == 0).sum() *100 / 149\n",
        "#Resultat 83% -> delete\n",
        "del credits[\"autreRevenu\"] \n",
        "del creditsT[\"autre revenue\"] "
      ],
      "metadata": {
        "id": "qMr4ypilcBze"
      },
      "execution_count": null,
      "outputs": []
    },
    {
      "cell_type": "code",
      "source": [
        "#VarianceThreshold\n",
        "x=credits.drop(['Decision'],axis=1)\n",
        "s = VarianceThreshold(threshold=(0.6))\n",
        "s.fit(x)\n",
        "print(\"séléction des variables : \", s.get_support())\n",
        "print(\"variables selectionnées : \", list(x.columns[s.get_support()]))\n",
        "print(\"variables supprimées : \", list(x.columns[~s.get_support()]))"
      ],
      "metadata": {
        "colab": {
          "base_uri": "https://localhost:8080/"
        },
        "id": "8A3B0PJWoLou",
        "outputId": "9ece4c11-140e-4970-aae2-4f119a950c2c"
      },
      "execution_count": null,
      "outputs": [
        {
          "output_type": "stream",
          "name": "stdout",
          "text": [
            "séléction des variables :  [ True  True  True  True  True  True  True  True False False False False\n",
            "  True]\n",
            "variables selectionnées :  ['revenuAnnuel', 'salaire', 'age', 'anneeTravaillee', 'nbDernierCreditRefuse', 'nbDernierCreditQccepte', 'PersonnesEnCharge', 'RevenuNetMoyen', 'secteurTravail']\n",
            "variables supprimées :  ['nbVoitures', 'catgSocialePro', 'statutSocial', 'Residence']\n"
          ]
        }
      ]
    },
    {
      "cell_type": "markdown",
      "source": [
        "**3.4- Feature engineering**"
      ],
      "metadata": {
        "id": "ifxEG7kV2dYB"
      }
    },
    {
      "cell_type": "markdown",
      "source": [
        "Ce n'est pas notre cas.\n",
        "\n",
        "Si les données fournit peuvent ne pas etre suffisante pour concevoir un bon modèle.\n",
        "* Creation des feautures (Sum, min, max).\n",
        "* Extraction des features  partir d'un texte.\n",
        "* Extraction des feutures à partir d'une image."
      ],
      "metadata": {
        "id": "_IEBoWoADKMV"
      }
    },
    {
      "cell_type": "markdown",
      "source": [
        "**3.5- Réduction de dimensionnalité**"
      ],
      "metadata": {
        "id": "RLapmyLO2drq"
      }
    },
    {
      "cell_type": "markdown",
      "source": [
        "**Méthode ACP**"
      ],
      "metadata": {
        "id": "iAMFRdebDxP-"
      }
    },
    {
      "cell_type": "code",
      "source": [
        "x = credits.drop(['Decision'],axis=1)\n",
        "y = credits.loc[:,['Decision']].values"
      ],
      "metadata": {
        "id": "YXGgB4xtMHb9"
      },
      "execution_count": null,
      "outputs": []
    },
    {
      "cell_type": "code",
      "source": [
        "pca = PCA(n_components=2)\n",
        "principalComponents = pca.fit_transform(x)\n",
        "principalDf = pd.DataFrame(data = principalComponents,\n",
        "                           columns = ['principal 1','principal 2' ])\n",
        "\n",
        "target_names = {\n",
        "    1:'Refused',\n",
        "    2:'Accepted', \n",
        "    3:'Tolerated'\n",
        "}\n",
        " \n",
        "principalDf['Decision'] = y\n",
        "principalDf['Decision'] = principalDf['Decision'].map(target_names)\n",
        " \n",
        "principalDf\n"
      ],
      "metadata": {
        "colab": {
          "base_uri": "https://localhost:8080/",
          "height": 424
        },
        "id": "no5OeaanMY08",
        "outputId": "bd8682c0-bae3-4da9-a194-117bba94223a"
      },
      "execution_count": null,
      "outputs": [
        {
          "output_type": "execute_result",
          "data": {
            "text/plain": [
              "      principal 1  principal 2   Decision\n",
              "0    10494.531945  -240.438162   Accepted\n",
              "1     3422.605502   386.556441   Accepted\n",
              "2    -3699.535969   -42.269346    Refused\n",
              "3    11813.084356   586.423505   Accepted\n",
              "4    -5173.045645   -21.754529  Tolerated\n",
              "..            ...          ...        ...\n",
              "144   5820.057518  -175.055349  Tolerated\n",
              "145 -10253.041774    48.949699    Refused\n",
              "146  -2574.330611   -58.052466    Refused\n",
              "147   9431.559304  -225.505954   Accepted\n",
              "148  -5927.866666   -11.162862  Tolerated\n",
              "\n",
              "[149 rows x 3 columns]"
            ],
            "text/html": [
              "\n",
              "  <div id=\"df-ad78acef-f2ae-45c8-8d82-a4e7090cb34b\">\n",
              "    <div class=\"colab-df-container\">\n",
              "      <div>\n",
              "<style scoped>\n",
              "    .dataframe tbody tr th:only-of-type {\n",
              "        vertical-align: middle;\n",
              "    }\n",
              "\n",
              "    .dataframe tbody tr th {\n",
              "        vertical-align: top;\n",
              "    }\n",
              "\n",
              "    .dataframe thead th {\n",
              "        text-align: right;\n",
              "    }\n",
              "</style>\n",
              "<table border=\"1\" class=\"dataframe\">\n",
              "  <thead>\n",
              "    <tr style=\"text-align: right;\">\n",
              "      <th></th>\n",
              "      <th>principal 1</th>\n",
              "      <th>principal 2</th>\n",
              "      <th>Decision</th>\n",
              "    </tr>\n",
              "  </thead>\n",
              "  <tbody>\n",
              "    <tr>\n",
              "      <th>0</th>\n",
              "      <td>10494.531945</td>\n",
              "      <td>-240.438162</td>\n",
              "      <td>Accepted</td>\n",
              "    </tr>\n",
              "    <tr>\n",
              "      <th>1</th>\n",
              "      <td>3422.605502</td>\n",
              "      <td>386.556441</td>\n",
              "      <td>Accepted</td>\n",
              "    </tr>\n",
              "    <tr>\n",
              "      <th>2</th>\n",
              "      <td>-3699.535969</td>\n",
              "      <td>-42.269346</td>\n",
              "      <td>Refused</td>\n",
              "    </tr>\n",
              "    <tr>\n",
              "      <th>3</th>\n",
              "      <td>11813.084356</td>\n",
              "      <td>586.423505</td>\n",
              "      <td>Accepted</td>\n",
              "    </tr>\n",
              "    <tr>\n",
              "      <th>4</th>\n",
              "      <td>-5173.045645</td>\n",
              "      <td>-21.754529</td>\n",
              "      <td>Tolerated</td>\n",
              "    </tr>\n",
              "    <tr>\n",
              "      <th>...</th>\n",
              "      <td>...</td>\n",
              "      <td>...</td>\n",
              "      <td>...</td>\n",
              "    </tr>\n",
              "    <tr>\n",
              "      <th>144</th>\n",
              "      <td>5820.057518</td>\n",
              "      <td>-175.055349</td>\n",
              "      <td>Tolerated</td>\n",
              "    </tr>\n",
              "    <tr>\n",
              "      <th>145</th>\n",
              "      <td>-10253.041774</td>\n",
              "      <td>48.949699</td>\n",
              "      <td>Refused</td>\n",
              "    </tr>\n",
              "    <tr>\n",
              "      <th>146</th>\n",
              "      <td>-2574.330611</td>\n",
              "      <td>-58.052466</td>\n",
              "      <td>Refused</td>\n",
              "    </tr>\n",
              "    <tr>\n",
              "      <th>147</th>\n",
              "      <td>9431.559304</td>\n",
              "      <td>-225.505954</td>\n",
              "      <td>Accepted</td>\n",
              "    </tr>\n",
              "    <tr>\n",
              "      <th>148</th>\n",
              "      <td>-5927.866666</td>\n",
              "      <td>-11.162862</td>\n",
              "      <td>Tolerated</td>\n",
              "    </tr>\n",
              "  </tbody>\n",
              "</table>\n",
              "<p>149 rows × 3 columns</p>\n",
              "</div>\n",
              "      <button class=\"colab-df-convert\" onclick=\"convertToInteractive('df-ad78acef-f2ae-45c8-8d82-a4e7090cb34b')\"\n",
              "              title=\"Convert this dataframe to an interactive table.\"\n",
              "              style=\"display:none;\">\n",
              "        \n",
              "  <svg xmlns=\"http://www.w3.org/2000/svg\" height=\"24px\"viewBox=\"0 0 24 24\"\n",
              "       width=\"24px\">\n",
              "    <path d=\"M0 0h24v24H0V0z\" fill=\"none\"/>\n",
              "    <path d=\"M18.56 5.44l.94 2.06.94-2.06 2.06-.94-2.06-.94-.94-2.06-.94 2.06-2.06.94zm-11 1L8.5 8.5l.94-2.06 2.06-.94-2.06-.94L8.5 2.5l-.94 2.06-2.06.94zm10 10l.94 2.06.94-2.06 2.06-.94-2.06-.94-.94-2.06-.94 2.06-2.06.94z\"/><path d=\"M17.41 7.96l-1.37-1.37c-.4-.4-.92-.59-1.43-.59-.52 0-1.04.2-1.43.59L10.3 9.45l-7.72 7.72c-.78.78-.78 2.05 0 2.83L4 21.41c.39.39.9.59 1.41.59.51 0 1.02-.2 1.41-.59l7.78-7.78 2.81-2.81c.8-.78.8-2.07 0-2.86zM5.41 20L4 18.59l7.72-7.72 1.47 1.35L5.41 20z\"/>\n",
              "  </svg>\n",
              "      </button>\n",
              "      \n",
              "  <style>\n",
              "    .colab-df-container {\n",
              "      display:flex;\n",
              "      flex-wrap:wrap;\n",
              "      gap: 12px;\n",
              "    }\n",
              "\n",
              "    .colab-df-convert {\n",
              "      background-color: #E8F0FE;\n",
              "      border: none;\n",
              "      border-radius: 50%;\n",
              "      cursor: pointer;\n",
              "      display: none;\n",
              "      fill: #1967D2;\n",
              "      height: 32px;\n",
              "      padding: 0 0 0 0;\n",
              "      width: 32px;\n",
              "    }\n",
              "\n",
              "    .colab-df-convert:hover {\n",
              "      background-color: #E2EBFA;\n",
              "      box-shadow: 0px 1px 2px rgba(60, 64, 67, 0.3), 0px 1px 3px 1px rgba(60, 64, 67, 0.15);\n",
              "      fill: #174EA6;\n",
              "    }\n",
              "\n",
              "    [theme=dark] .colab-df-convert {\n",
              "      background-color: #3B4455;\n",
              "      fill: #D2E3FC;\n",
              "    }\n",
              "\n",
              "    [theme=dark] .colab-df-convert:hover {\n",
              "      background-color: #434B5C;\n",
              "      box-shadow: 0px 1px 3px 1px rgba(0, 0, 0, 0.15);\n",
              "      filter: drop-shadow(0px 1px 2px rgba(0, 0, 0, 0.3));\n",
              "      fill: #FFFFFF;\n",
              "    }\n",
              "  </style>\n",
              "\n",
              "      <script>\n",
              "        const buttonEl =\n",
              "          document.querySelector('#df-ad78acef-f2ae-45c8-8d82-a4e7090cb34b button.colab-df-convert');\n",
              "        buttonEl.style.display =\n",
              "          google.colab.kernel.accessAllowed ? 'block' : 'none';\n",
              "\n",
              "        async function convertToInteractive(key) {\n",
              "          const element = document.querySelector('#df-ad78acef-f2ae-45c8-8d82-a4e7090cb34b');\n",
              "          const dataTable =\n",
              "            await google.colab.kernel.invokeFunction('convertToInteractive',\n",
              "                                                     [key], {});\n",
              "          if (!dataTable) return;\n",
              "\n",
              "          const docLinkHtml = 'Like what you see? Visit the ' +\n",
              "            '<a target=\"_blank\" href=https://colab.research.google.com/notebooks/data_table.ipynb>data table notebook</a>'\n",
              "            + ' to learn more about interactive tables.';\n",
              "          element.innerHTML = '';\n",
              "          dataTable['output_type'] = 'display_data';\n",
              "          await google.colab.output.renderOutput(dataTable, element);\n",
              "          const docLink = document.createElement('div');\n",
              "          docLink.innerHTML = docLinkHtml;\n",
              "          element.appendChild(docLink);\n",
              "        }\n",
              "      </script>\n",
              "    </div>\n",
              "  </div>\n",
              "  "
            ]
          },
          "metadata": {},
          "execution_count": 153
        }
      ]
    },
    {
      "cell_type": "code",
      "source": [
        "fig = plt.figure(figsize = (8,8))\n",
        "ax = fig.add_subplot(1,1,1)\n",
        "ax.set_xlabel('principal 1', fontsize = 15)\n",
        "ax.set_ylabel('principal 2', fontsize = 15)\n",
        "ax.set_title('2 Component PCA', fontsize = 20)\n",
        "\n",
        "targets = ['Accepted', 'Tolerated', 'Redused']\n",
        "colors = ['r', 'g', 'b']\n",
        "for target, color in zip(targets, colors):\n",
        "  indicesTokeep = principalDf['Decision'] == target\n",
        "  ax.scatter(principalDf.loc[indicesTokeep, 'principal 1']\n",
        "            , principalDf.loc[indicesTokeep, 'principal 2']\n",
        "            , c = color\n",
        "            , s = 50)\n",
        "ax.legend(targets)\n",
        "ax.grid()"
      ],
      "metadata": {
        "colab": {
          "base_uri": "https://localhost:8080/",
          "height": 522
        },
        "id": "CqfjFfPcMh9U",
        "outputId": "dcb8cd5a-ab8a-4c05-c53e-36a50908d486"
      },
      "execution_count": null,
      "outputs": [
        {
          "output_type": "display_data",
          "data": {
            "text/plain": [
              "<Figure size 576x576 with 1 Axes>"
            ],
            "image/png": "[encoded data removed]"
          },
          "metadata": {}
        }
      ]
    },
    {
      "cell_type": "code",
      "source": [
        "pca.explained_variance_ratio_"
      ],
      "metadata": {
        "colab": {
          "base_uri": "https://localhost:8080/"
        },
        "id": "oG5bGpjjM3PH",
        "outputId": "c4aec853-294b-4236-d1f4-95321629e781"
      },
      "execution_count": null,
      "outputs": [
        {
          "output_type": "execute_result",
          "data": {
            "text/plain": [
              "array([9.99131253e-01, 8.63306149e-04])"
            ]
          },
          "metadata": {},
          "execution_count": 155
        }
      ]
    },
    {
      "cell_type": "code",
      "source": [
        "percent_variance = np.round(pca.explained_variance_ratio_*100)\n",
        "columns = ['principal 1','principal 2']\n",
        "plt.bar(x=range(1,3),height=percent_variance, tick_label=columns)\n",
        "#The x coordinates of the bars.\n",
        "\n",
        "plt.ylabel=('Percentage of explained variances')\n",
        "plt.ylabel=('Principal Components')\n",
        "plt.title=('PCA Scree Plot')\n",
        "plt.show"
      ],
      "metadata": {
        "colab": {
          "base_uri": "https://localhost:8080/",
          "height": 364
        },
        "id": "RORnn7EqM6xk",
        "outputId": "6468d40d-07c3-41a8-8560-e4e3eda008fc"
      },
      "execution_count": null,
      "outputs": [
        {
          "output_type": "execute_result",
          "data": {
            "text/plain": [
              "<function matplotlib.pyplot.show(*args, **kw)>"
            ]
          },
          "metadata": {},
          "execution_count": 156
        },
        {
          "output_type": "display_data",
          "data": {
            "text/plain": [
              "<Figure size 576x396 with 1 Axes>"
            ],
            "image/png": "[encoded data removed]"
          },
          "metadata": {}
        }
      ]
    },
    {
      "cell_type": "code",
      "source": [
        "#Using Pearson Correlation\n",
        "plt.figure(figsize=(12,10))\n",
        "cor = principalDf.corr()\n",
        "sns.heatmap(cor, annot=True, cmap=plt.cm.Reds)\n",
        "plt.show()"
      ],
      "metadata": {
        "colab": {
          "base_uri": "https://localhost:8080/",
          "height": 596
        },
        "id": "cXdBmiwjirm_",
        "outputId": "b7968448-3cc3-4491-f8f8-8b02ae3d9f13"
      },
      "execution_count": null,
      "outputs": [
        {
          "output_type": "display_data",
          "data": {
            "text/plain": [
              "<Figure size 864x720 with 2 Axes>"
            ],
            "image/png": "[encoded data removed]"
          },
          "metadata": {}
        }
      ]
    },
    {
      "cell_type": "markdown",
      "source": [
        "**4- La mosélisation** / **5- L'évaluation**\n",
        "\n",
        "---\n",
        "\n",
        "\n"
      ],
      "metadata": {
        "id": "pFSnvBwp1fd3"
      }
    },
    {
      "cell_type": "markdown",
      "source": [
        "**Apprentissage Supervicé (Predectif)**"
      ],
      "metadata": {
        "id": "bl2Qb8Lf8LLd"
      }
    },
    {
      "cell_type": "markdown",
      "source": [
        "***Classification***"
      ],
      "metadata": {
        "id": "5K5yjBQj-1KV"
      }
    },
    {
      "cell_type": "code",
      "source": [
        "X_train= credits.drop(['Decision'],axis=1)\n",
        "Y_train= credits['Decision']\n",
        "\n",
        "X_test= creditsT.drop(['Decision'],axis=1)\n",
        "Y_test= creditsT['Decision']"
      ],
      "metadata": {
        "id": "jeaKvxz3w3of"
      },
      "execution_count": null,
      "outputs": []
    },
    {
      "cell_type": "code",
      "source": [
        "#Normalisation -> Feature scaling\n",
        "scaler = StandardScaler()\n",
        "X_train = scaler.fit_transform(X_train)\n",
        "X_test = scaler.transform(X_test)"
      ],
      "metadata": {
        "id": "m4Y9PPVqxPYt"
      },
      "execution_count": null,
      "outputs": []
    },
    {
      "cell_type": "markdown",
      "source": [
        "```\n",
        "# kNN (k-Nearest Neighbors)\n",
        "```"
      ],
      "metadata": {
        "id": "UzMOfwCy9kSD"
      }
    },
    {
      "cell_type": "code",
      "source": [
        "# A plot to see the k-value for which we have high accuracy.\n",
        "neighbors = np.arange(1, 9)\n",
        "train_accuracy = np.empty(len(neighbors))\n",
        "test_accuracy = np.empty(len(neighbors))\n",
        "plt=reload(plt) \n",
        "# Loop over K values\n",
        "for i, k in enumerate(neighbors):\n",
        "    knn = KNeighborsClassifier(n_neighbors=k)\n",
        "    knn.fit(X_train, Y_train)\n",
        "      \n",
        "    # Compute training and test data accuracy\n",
        "    train_accuracy[i] = knn.score(X_train, Y_train)\n",
        "    test_accuracy[i] = knn.score(X_test, Y_test)\n",
        "  \n",
        "# Generate plot\n",
        "plt.plot(neighbors, test_accuracy, label = 'Testing dataset Accuracy')\n",
        "plt.plot(neighbors, train_accuracy, label = 'Training dataset Accuracy')\n",
        "  \n",
        "plt.legend()\n",
        "plt.xlabel('n_neighbors')\n",
        "plt.ylabel('Accuracy')\n",
        "plt.show()"
      ],
      "metadata": {
        "colab": {
          "base_uri": "https://localhost:8080/",
          "height": 361
        },
        "id": "ap09-nuwt5qm",
        "outputId": "2328dbca-875e-4358-d908-9517fed761c1"
      },
      "execution_count": null,
      "outputs": [
        {
          "output_type": "display_data",
          "data": {
            "text/plain": [
              "<Figure size 576x396 with 1 Axes>"
            ],
            "image/png": "[encoded data removed]"
          },
          "metadata": {}
        }
      ]
    },
    {
      "cell_type": "code",
      "source": [
        "# Choisir le nombre de voisins optimal\n",
        "error = []\n",
        "plt=reload(plt)\n",
        "# Calculer l'erreur pour k entre 1 et 40 \n",
        "#Pour chaque itération, l'erreur moyenne pour les valeurs prédites \n",
        "#de l'ensemble de test est calculée et sauvegardée ds la liste Erreur.\n",
        "for i in range(1, 40):\n",
        "    knn = KNeighborsClassifier(i)\n",
        "    knn_model = knn.fit(X_train, Y_train)\n",
        "    pred_i = knn_model.predict(X_test)\n",
        "    error.append(np.mean(pred_i != Y_test))\n",
        "plt.figure(figsize=(12, 6))\n",
        "plt.plot(range(1, 40), error, color='red', linestyle='dashed', marker='o', markerfacecolor='blue', markersize=10)\n",
        "plt.title('Taux Erreur pour les differentes valeurs de k')\n",
        "plt.xlabel('K')\n",
        "plt.ylabel('Erreur')"
      ],
      "metadata": {
        "colab": {
          "base_uri": "https://localhost:8080/",
          "height": 420
        },
        "id": "Z0n3BQQByO9I",
        "outputId": "ae4b32db-1fb5-4249-c0c4-644134885c1b"
      },
      "execution_count": null,
      "outputs": [
        {
          "output_type": "execute_result",
          "data": {
            "text/plain": [
              "Text(0, 0.5, 'Erreur')"
            ]
          },
          "metadata": {},
          "execution_count": 161
        },
        {
          "output_type": "display_data",
          "data": {
            "text/plain": [
              "<Figure size 864x432 with 1 Axes>"
            ],
            "image/png": "[encoded data removed]"
          },
          "metadata": {}
        }
      ]
    },
    {
      "cell_type": "code",
      "source": [
        "#Le meilleur nombre de voisins k=11 ou K=12\n",
        "knn = KNeighborsClassifier(11)\n",
        "knn_model = knn.fit(X_train, Y_train)\n",
        "y_pred_knn =knn_model.predict(X_test)"
      ],
      "metadata": {
        "id": "M1OqrzAkybEn"
      },
      "execution_count": null,
      "outputs": []
    },
    {
      "cell_type": "code",
      "source": [
        "#########################\n",
        "#Evaluation\n",
        "#########################"
      ],
      "metadata": {
        "id": "5mUPzFg58LEL"
      },
      "execution_count": null,
      "outputs": []
    },
    {
      "cell_type": "code",
      "source": [
        "# Matrice de confusion \n",
        "print('Accuracy of K-NN classifier on training set: {:.2f}'\n",
        "     .format(knn.score(X_train, Y_train)))\n",
        "print('Accuracy of K-NN classifier on test set: {:.2f}'\n",
        "     .format(knn.score(X_test, Y_test)))\n",
        "\n",
        "print(confusion_matrix(Y_test, y_pred_knn))\n",
        "print(classification_report(Y_test, y_pred_knn))"
      ],
      "metadata": {
        "colab": {
          "base_uri": "https://localhost:8080/"
        },
        "id": "34IvSYEBymvm",
        "outputId": "58e23e2a-5726-48a8-bcd1-67e865562810"
      },
      "execution_count": null,
      "outputs": [
        {
          "output_type": "stream",
          "name": "stdout",
          "text": [
            "Accuracy of K-NN classifier on training set: 0.74\n",
            "Accuracy of K-NN classifier on test set: 0.76\n",
            "[[15  0  0]\n",
            " [ 0 19  0]\n",
            " [10  2  3]]\n",
            "              precision    recall  f1-score   support\n",
            "\n",
            "           1       0.60      1.00      0.75        15\n",
            "           2       0.90      1.00      0.95        19\n",
            "           3       1.00      0.20      0.33        15\n",
            "\n",
            "    accuracy                           0.76        49\n",
            "   macro avg       0.83      0.73      0.68        49\n",
            "weighted avg       0.84      0.76      0.70        49\n",
            "\n"
          ]
        }
      ]
    },
    {
      "cell_type": "code",
      "source": [
        "plot_confusion_matrix(knn_model, X_test, Y_test,display_labels=['1','2','3'],cmap=plt.cm.Blues)  \n",
        "plt.show()"
      ],
      "metadata": {
        "colab": {
          "base_uri": "https://localhost:8080/",
          "height": 361
        },
        "id": "u_ZaqhrW0PIU",
        "outputId": "82d79f7c-6b76-4310-c286-460074bec7ca"
      },
      "execution_count": null,
      "outputs": [
        {
          "output_type": "display_data",
          "data": {
            "text/plain": [
              "<Figure size 576x396 with 2 Axes>"
            ],
            "image/png": "[encoded data removed]"
          },
          "metadata": {}
        }
      ]
    },
    {
      "cell_type": "markdown",
      "source": [
        "```\n",
        "# SVM (Support Vector Machine)\n",
        "```"
      ],
      "metadata": {
        "id": "K2YEz0xU-k3S"
      }
    },
    {
      "cell_type": "code",
      "source": [
        "svm = SVC()\n",
        "\n",
        "# svm = SVC(kernel=\"linear\") -> Kernel linéaire\n",
        "# svm = SVC(kernel=\"poly\") -> Noyeau polynomial\n",
        "# svm = SVC(kernel=\"sigmoid\") -> Noyeau Sigmoide\n",
        "# svm = SVC(kernel=\"rbf\") -> Noyeau Gaussien RBF\n",
        "\n",
        "svm.fit(X_train, Y_train)\n",
        "y_pred_svm = svm.predict(X_test)"
      ],
      "metadata": {
        "id": "qEmwp-II2rNv"
      },
      "execution_count": null,
      "outputs": []
    },
    {
      "cell_type": "code",
      "source": [
        "#########################\n",
        "#Evaluation\n",
        "#########################"
      ],
      "metadata": {
        "id": "DY_FyFNzRiG3"
      },
      "execution_count": null,
      "outputs": []
    },
    {
      "cell_type": "code",
      "source": [
        "# Matrice de confusion \n",
        "accuracy = accuracy_score(Y_test, y_pred_svm)\n",
        "print('Accuracy of SVM: {:.2f}' .format(accuracy))\n",
        "\n",
        "print(confusion_matrix(Y_test, y_pred_svm))\n",
        "print(classification_report(y_pred_svm, Y_test))"
      ],
      "metadata": {
        "id": "N_B0p6UNRklL",
        "colab": {
          "base_uri": "https://localhost:8080/"
        },
        "outputId": "33fd62d0-e1f5-421b-b841-c7aaf8564e1a"
      },
      "execution_count": null,
      "outputs": [
        {
          "output_type": "stream",
          "name": "stdout",
          "text": [
            "Accuracy of SVM: 0.71\n",
            "[[15  0  0]\n",
            " [ 0 19  0]\n",
            " [11  3  1]]\n",
            "              precision    recall  f1-score   support\n",
            "\n",
            "           1       1.00      0.58      0.73        26\n",
            "           2       1.00      0.86      0.93        22\n",
            "           3       0.07      1.00      0.12         1\n",
            "\n",
            "    accuracy                           0.71        49\n",
            "   macro avg       0.69      0.81      0.59        49\n",
            "weighted avg       0.98      0.71      0.81        49\n",
            "\n"
          ]
        }
      ]
    },
    {
      "cell_type": "code",
      "source": [
        "plot_confusion_matrix(knn_model, X_test, Y_test,display_labels=['1','2','3'],cmap=plt.cm.Blues)  \n",
        "plt.show()"
      ],
      "metadata": {
        "colab": {
          "base_uri": "https://localhost:8080/",
          "height": 361
        },
        "id": "UigJxS1r3KoL",
        "outputId": "5c59f096-0391-4eb8-e98c-0ff81a938595"
      },
      "execution_count": null,
      "outputs": [
        {
          "output_type": "display_data",
          "data": {
            "text/plain": [
              "<Figure size 576x396 with 2 Axes>"
            ],
            "image/png": "[encoded data removed]"
          },
          "metadata": {}
        }
      ]
    },
    {
      "cell_type": "code",
      "source": [
        "#########################\n",
        "#Evaluation KNN VS SVM\n",
        "#########################"
      ],
      "metadata": {
        "id": "DY7Lmg_OSIRW"
      },
      "execution_count": null,
      "outputs": []
    },
    {
      "cell_type": "markdown",
      "source": [
        "Courbe ROC (ROC curves can only be applied to binary classification problems)\n",
        "\n",
        "L’idée de la courbe ROC est de faire varier le « seuil » de 1 à 0 et, pour chaque cas, calculer le TVP et le TFP que l’on reporte dans un graphique : en abscisse le FPR, en ordonnée le TPR\n",
        "\n",
        "TPR = Rappel = Sensibilité = TP/TP+FN\n",
        "\n",
        "FPR = Spécificité = TN/TN+FP\n",
        "\n",
        "-> Ce n'est appliquable dans notre cas"
      ],
      "metadata": {
        "id": "nBrqhAaYSN8b"
      }
    },
    {
      "cell_type": "markdown",
      "source": [
        "```\n",
        "# Decision Tree\n",
        "```"
      ],
      "metadata": {
        "id": "FXrgErrUVjST"
      }
    },
    {
      "cell_type": "code",
      "source": [
        "param_grid={'criterion':['gini','entropy'],'max_depth':np.arange(1,19),'splitter': ['best','random']}\n",
        "#Créer une instance de recherche par grille appliquée sur l'algorithme de classification par arbre de décision.\n",
        "grid=GridSearchCV(DecisionTreeClassifier(),param_grid,cv=5)\n",
        "# entrainer le modele\n",
        "grid.fit(X_train,Y_train)\n",
        "grid.best_params_\n",
        "final_model_dt = DecisionTreeClassifier(splitter='best',max_depth=3,criterion='gini')\n",
        "final_model_dt.fit(X_train,Y_train)"
      ],
      "metadata": {
        "colab": {
          "base_uri": "https://localhost:8080/"
        },
        "id": "pWhBF00BswpN",
        "outputId": "702c7762-e0c1-4c3f-8673-5caa191ab8f9"
      },
      "execution_count": null,
      "outputs": [
        {
          "output_type": "execute_result",
          "data": {
            "text/plain": [
              "DecisionTreeClassifier(max_depth=3)"
            ]
          },
          "metadata": {},
          "execution_count": 171
        }
      ]
    },
    {
      "cell_type": "code",
      "source": [
        "features = credits.columns\n",
        "plt.figure(figsize=(20, 10))\n",
        "plot_tree(final_model_dt, feature_names=features,class_names= ['1','0','2'], filled=True)\n",
        "plt.show()"
      ],
      "metadata": {
        "colab": {
          "base_uri": "https://localhost:8080/",
          "height": 575
        },
        "id": "HcpsStU_te8S",
        "outputId": "27afd3dc-6bf8-47c1-c338-73b249728502"
      },
      "execution_count": null,
      "outputs": [
        {
          "output_type": "display_data",
          "data": {
            "text/plain": [
              "<Figure size 1440x720 with 1 Axes>"
            ],
            "image/png": "[encoded data removed]"
          },
          "metadata": {}
        }
      ]
    },
    {
      "cell_type": "code",
      "source": [
        "#########################\n",
        "#Evaluation\n",
        "#########################"
      ],
      "metadata": {
        "id": "_My0KOysuPxJ"
      },
      "execution_count": null,
      "outputs": []
    },
    {
      "cell_type": "code",
      "source": [
        "pred_tree_decision=final_model_dt.predict(X_test)\n",
        "accuracy = accuracy_score(Y_test, pred_tree_decision)\n",
        "print('Accuracy of SVM: {:.2f}' .format(accuracy))\n",
        "\n",
        "print(classification_report(Y_test,pred_tree_decision,digits=8))"
      ],
      "metadata": {
        "colab": {
          "base_uri": "https://localhost:8080/"
        },
        "id": "FZ9xtT4st5So",
        "outputId": "ba34a1e3-6ad9-4463-a07a-8c8c42751982"
      },
      "execution_count": null,
      "outputs": [
        {
          "output_type": "stream",
          "name": "stdout",
          "text": [
            "Accuracy of SVM: 0.76\n",
            "              precision    recall  f1-score   support\n",
            "\n",
            "           1  0.66666667 0.80000000 0.72727273        15\n",
            "           2  0.86363636 1.00000000 0.92682927        19\n",
            "           3  0.66666667 0.40000000 0.50000000        15\n",
            "\n",
            "    accuracy                      0.75510204        49\n",
            "   macro avg  0.73232323 0.73333333 0.71803400        49\n",
            "weighted avg  0.74304267 0.75510204 0.73507851        49\n",
            "\n"
          ]
        }
      ]
    },
    {
      "cell_type": "code",
      "source": [
        "plot_confusion_matrix(final_model_dt, X_test, Y_test,display_labels=['0','1','2'],cmap=plt.cm.Blues)  \n",
        "plt.show()"
      ],
      "metadata": {
        "colab": {
          "base_uri": "https://localhost:8080/",
          "height": 361
        },
        "id": "hRtkslIJtw6Q",
        "outputId": "22d37614-c5ec-4ea5-b9e5-d272d5be760d"
      },
      "execution_count": null,
      "outputs": [
        {
          "output_type": "display_data",
          "data": {
            "text/plain": [
              "<Figure size 576x396 with 2 Axes>"
            ],
            "image/png": "[encoded data removed]"
          },
          "metadata": {}
        }
      ]
    },
    {
      "cell_type": "markdown",
      "source": [
        "```\n",
        "# Random Forest\n",
        "```"
      ],
      "metadata": {
        "id": "mBpiTnAhW0Ed"
      }
    },
    {
      "cell_type": "code",
      "source": [
        "#Create a Gaussian Classifier\n",
        "clf=RandomForestClassifier(n_estimators=100)\n",
        "clf.fit(X_train,Y_train)\n",
        "y_pred_r=clf.predict(X_test)"
      ],
      "metadata": {
        "id": "XzOC-_sjxlHF"
      },
      "execution_count": null,
      "outputs": []
    },
    {
      "cell_type": "code",
      "source": [
        "#########################\n",
        "#Evaluation\n",
        "#########################"
      ],
      "metadata": {
        "id": "1Q23RSG-yr7S"
      },
      "execution_count": null,
      "outputs": []
    },
    {
      "cell_type": "code",
      "source": [
        "# Model Accuracy, how often is the classifier correct?\n",
        "print(\"Accuracy:\",metrics.accuracy_score(Y_test, y_pred_r))"
      ],
      "metadata": {
        "colab": {
          "base_uri": "https://localhost:8080/"
        },
        "id": "LdZ2zU7mxqDi",
        "outputId": "98f902a5-a45c-4deb-8aac-da46516becc2"
      },
      "execution_count": null,
      "outputs": [
        {
          "output_type": "stream",
          "name": "stdout",
          "text": [
            "Accuracy: 0.7346938775510204\n"
          ]
        }
      ]
    },
    {
      "cell_type": "code",
      "source": [
        "plot_confusion_matrix(clf, X_test, Y_test,display_labels=['0','1','2'],cmap=plt.cm.Blues)  \n",
        "plt.show()"
      ],
      "metadata": {
        "colab": {
          "base_uri": "https://localhost:8080/",
          "height": 361
        },
        "id": "KN0_l8TgyvGK",
        "outputId": "bee3eefc-6c28-4a2e-db80-49de2a8df59a"
      },
      "execution_count": null,
      "outputs": [
        {
          "output_type": "display_data",
          "data": {
            "text/plain": [
              "<Figure size 576x396 with 2 Axes>"
            ],
            "image/png": "[encoded data removed]"
          },
          "metadata": {}
        }
      ]
    },
    {
      "cell_type": "markdown",
      "source": [
        "```\n",
        "# GaussianNB (Gaussian Naive Bayes)\n",
        "```"
      ],
      "metadata": {
        "id": "th04ey_yW67o"
      }
    },
    {
      "cell_type": "code",
      "source": [
        "modelGaus=GaussianNB()\n",
        "modelGaus.fit(X_train,Y_train)\n",
        "\n",
        "#Les prédictions\n",
        "y_pred_gauss = modelGaus.predict(X_test)"
      ],
      "metadata": {
        "id": "Z_HgndWkv9Jm"
      },
      "execution_count": null,
      "outputs": []
    },
    {
      "cell_type": "code",
      "source": [
        "#########################\n",
        "#Evaluation\n",
        "#########################"
      ],
      "metadata": {
        "id": "AIHqnB5Kxdxr"
      },
      "execution_count": null,
      "outputs": []
    },
    {
      "cell_type": "code",
      "source": [
        "print (\"Accuracy: \", accuracy_score(Y_test, y_pred_gauss))\n",
        "# matrice de confusion\n",
        "print(confusion_matrix(Y_test,y_pred_gauss))\n",
        "print(classification_report(Y_test,y_pred_gauss,digits=8))"
      ],
      "metadata": {
        "colab": {
          "base_uri": "https://localhost:8080/"
        },
        "id": "JZI6uPjWwVOC",
        "outputId": "5980b307-904b-4e52-c147-629f5c21c5a3"
      },
      "execution_count": null,
      "outputs": [
        {
          "output_type": "stream",
          "name": "stdout",
          "text": [
            "Accuracy:  0.673469387755102\n",
            "[[11  1  3]\n",
            " [ 0 19  0]\n",
            " [ 4  8  3]]\n",
            "              precision    recall  f1-score   support\n",
            "\n",
            "           1  0.73333333 0.73333333 0.73333333        15\n",
            "           2  0.67857143 1.00000000 0.80851064        19\n",
            "           3  0.50000000 0.20000000 0.28571429        15\n",
            "\n",
            "    accuracy                      0.67346939        49\n",
            "   macro avg  0.63730159 0.64444444 0.60918609        49\n",
            "weighted avg  0.64067055 0.67346939 0.62545748        49\n",
            "\n"
          ]
        }
      ]
    },
    {
      "cell_type": "code",
      "source": [
        "plot_confusion_matrix(modelGaus, X_test, Y_test,display_labels=['0','1','2'],cmap=plt.cm.Blues)  \n",
        "plt.show()"
      ],
      "metadata": {
        "colab": {
          "base_uri": "https://localhost:8080/",
          "height": 361
        },
        "id": "tFQPH83jxD9i",
        "outputId": "f221b99f-e2b2-4159-baa0-91354a0c224f"
      },
      "execution_count": null,
      "outputs": [
        {
          "output_type": "display_data",
          "data": {
            "text/plain": [
              "<Figure size 576x396 with 2 Axes>"
            ],
            "image/png": "[encoded data removed]"
          },
          "metadata": {}
        }
      ]
    },
    {
      "cell_type": "markdown",
      "source": [
        "```\n",
        "# XGBoost\n",
        "```"
      ],
      "metadata": {
        "id": "V1qdCc-aXDoG"
      }
    },
    {
      "cell_type": "code",
      "source": [
        "#Créer une instance instancier  XGBC de la classe LogisticRegression en fixant à zéro random_state\n",
        "XGBC=XGBClassifier(random_state=43)\n",
        "# entrainer ligreg\n",
        "XGBC.fit(X_train,Y_train)"
      ],
      "metadata": {
        "colab": {
          "base_uri": "https://localhost:8080/"
        },
        "id": "1nzPz5dP04Y3",
        "outputId": "833b034c-cab2-49b9-e1c1-334d8b1168d2"
      },
      "execution_count": null,
      "outputs": [
        {
          "output_type": "execute_result",
          "data": {
            "text/plain": [
              "XGBClassifier(objective='multi:softprob', random_state=43)"
            ]
          },
          "metadata": {},
          "execution_count": 184
        }
      ]
    },
    {
      "cell_type": "code",
      "source": [
        "#Predict\n",
        "y_pred_boost=XGBC.predict(X_test)"
      ],
      "metadata": {
        "id": "yDbgn0gP1HVB"
      },
      "execution_count": null,
      "outputs": []
    },
    {
      "cell_type": "code",
      "source": [
        "#########################\n",
        "#Evaluation\n",
        "#########################"
      ],
      "metadata": {
        "id": "52xV74_a1o7e"
      },
      "execution_count": null,
      "outputs": []
    },
    {
      "cell_type": "code",
      "source": [
        "print(\"Accuracy: \", accuracy_score(Y_test, y_pred_boost))\n",
        "print(classification_report(Y_test,y_pred_boost,digits=8))"
      ],
      "metadata": {
        "colab": {
          "base_uri": "https://localhost:8080/"
        },
        "id": "o96w1BW91Oql",
        "outputId": "0857938a-7221-4361-ea55-f4dc3e6b74ba"
      },
      "execution_count": null,
      "outputs": [
        {
          "output_type": "stream",
          "name": "stdout",
          "text": [
            "Accuracy:  0.7755102040816326\n",
            "              precision    recall  f1-score   support\n",
            "\n",
            "           1  0.66666667 0.93333333 0.77777778        15\n",
            "           2  0.86363636 1.00000000 0.92682927        19\n",
            "           3  0.83333333 0.33333333 0.47619048        15\n",
            "\n",
            "    accuracy                      0.77551020        49\n",
            "   macro avg  0.78787879 0.75555556 0.72693251        49\n",
            "weighted avg  0.79406308 0.77551020 0.74325061        49\n",
            "\n"
          ]
        }
      ]
    },
    {
      "cell_type": "code",
      "source": [
        "plot_confusion_matrix(XGBC, X_test, Y_test,display_labels=['0','1','2'],cmap=plt.cm.Blues)  \n",
        "plt.show()"
      ],
      "metadata": {
        "colab": {
          "base_uri": "https://localhost:8080/",
          "height": 361
        },
        "id": "YVmM_DpR2WzI",
        "outputId": "b25b40bb-bc3f-49f1-d131-2dd1a1bb5082"
      },
      "execution_count": null,
      "outputs": [
        {
          "output_type": "display_data",
          "data": {
            "text/plain": [
              "<Figure size 576x396 with 2 Axes>"
            ],
            "image/png": "[encoded data removed]"
          },
          "metadata": {}
        }
      ]
    },
    {
      "cell_type": "markdown",
      "source": [
        "***Regression***"
      ],
      "metadata": {
        "id": "iP25mUlVXuD7"
      }
    },
    {
      "cell_type": "markdown",
      "source": [
        "```\n",
        "# XGBOOST for Regression\n",
        "```"
      ],
      "metadata": {
        "id": "XAvgaqBB4Xga"
      }
    },
    {
      "cell_type": "code",
      "source": [
        "from xgboost import XGBRegressor\n",
        "regressor = XGBRegressor(n_estimators=20, random_state=43)\n",
        "regressor.fit(X_train, Y_train)"
      ],
      "metadata": {
        "colab": {
          "base_uri": "https://localhost:8080/"
        },
        "id": "5MnQdDAx4Tth",
        "outputId": "101abefe-e35e-4cd9-cb30-9ca965a13802"
      },
      "execution_count": null,
      "outputs": [
        {
          "output_type": "stream",
          "name": "stdout",
          "text": [
            "[18:22:48] WARNING: /workspace/src/objective/regression_obj.cu:152: reg:linear is now deprecated in favor of reg:squarederror.\n"
          ]
        },
        {
          "output_type": "execute_result",
          "data": {
            "text/plain": [
              "XGBRegressor(n_estimators=20, random_state=43)"
            ]
          },
          "metadata": {},
          "execution_count": 189
        }
      ]
    },
    {
      "cell_type": "code",
      "source": [
        "#Predict\n",
        "y_pred_regressor = regressor.predict(X_test)"
      ],
      "metadata": {
        "id": "C3Fa_X5F5lpc"
      },
      "execution_count": null,
      "outputs": []
    },
    {
      "cell_type": "code",
      "source": [
        "#########################\n",
        "#Evaluation\n",
        "#########################"
      ],
      "metadata": {
        "id": "kDvGNqoi6RB5"
      },
      "execution_count": null,
      "outputs": []
    },
    {
      "cell_type": "code",
      "source": [
        "print('Mean Absolute Error:', metrics.mean_absolute_error(Y_test, y_pred_regressor))\n",
        "print('Mean Squared Error:', metrics.mean_squared_error(Y_test, y_pred_regressor))\n",
        "print('Root Mean Squared Error:', np.sqrt(metrics.mean_squared_error(Y_test, y_pred_regressor)))"
      ],
      "metadata": {
        "colab": {
          "base_uri": "https://localhost:8080/"
        },
        "id": "GyUoa-3w6SuP",
        "outputId": "f159a6a1-9755-4b31-e138-8f958b1012a5"
      },
      "execution_count": null,
      "outputs": [
        {
          "output_type": "stream",
          "name": "stdout",
          "text": [
            "Mean Absolute Error: 0.5995349859704777\n",
            "Mean Squared Error: 0.7395666736878848\n",
            "Root Mean Squared Error: 0.8599806240188699\n"
          ]
        }
      ]
    },
    {
      "cell_type": "code",
      "source": [
        "        #########################\n",
        "######## Etude Comparative       #######\n",
        "        #########################"
      ],
      "metadata": {
        "id": "vYReBw-b6jwZ"
      },
      "execution_count": null,
      "outputs": []
    },
    {
      "cell_type": "code",
      "source": [
        "from tabulate import tabulate\n",
        "#create data\n",
        "data = [[\"Knn\", round(knn.score(X_test, Y_test), 2)], \n",
        "        [\"SVM\", round(accuracy_score(Y_test, y_pred_svm), 2)], \n",
        "        [\"Decision Tree\", round(accuracy_score(Y_test, pred_tree_decision), 2)], \n",
        "        [\"Random Forest\", round(metrics.accuracy_score(Y_test, y_pred_r),2)],\n",
        "        [\"GaussianNB\", round(accuracy_score(Y_test, y_pred_gauss),2)],\n",
        "        [\"XGBoost\", round(accuracy_score(Y_test, y_pred_boost),2)]]\n",
        "  \n",
        "#define header names\n",
        "col_names = [\"Model\", \"Accuracy\"]\n",
        "  \n",
        "#display table\n",
        "print(tabulate(data, headers=col_names))"
      ],
      "metadata": {
        "colab": {
          "base_uri": "https://localhost:8080/"
        },
        "id": "R7CJAuEq8iY8",
        "outputId": "88400655-f491-4fe8-eb0b-e1e62a1ecc67"
      },
      "execution_count": null,
      "outputs": [
        {
          "output_type": "stream",
          "name": "stdout",
          "text": [
            "Model            Accuracy\n",
            "-------------  ----------\n",
            "Knn                  0.76\n",
            "SVM                  0.71\n",
            "Decision Tree        0.76\n",
            "Random Forest        0.73\n",
            "GaussianNB           0.67\n",
            "XGBoost              0.78\n"
          ]
        }
      ]
    },
    {
      "cell_type": "markdown",
      "source": [
        "**Apprentissage non Supervisé (Descriptif)**"
      ],
      "metadata": {
        "id": "5yp0berH8Lcj"
      }
    },
    {
      "cell_type": "markdown",
      "source": [
        "***Clustering***"
      ],
      "metadata": {
        "id": "j78RebAM_Wae"
      }
    },
    {
      "cell_type": "markdown",
      "source": [
        "```\n",
        "# K-Means (Méthode des centres mobiles)\n",
        "```"
      ],
      "metadata": {
        "id": "qcssViwQ_bEf"
      }
    },
    {
      "cell_type": "code",
      "source": [
        "#The Elbow Method\n",
        "data = credits.drop(['Decision'],axis=1).copy()\n",
        "data = ((data - data.min()) / (data.max() - data.min())) * 10 + 1\n",
        "\n",
        "model = KMeans()\n",
        "visualizer = KElbowVisualizer(model, k=(1,10))\n",
        "\n",
        "visualizer.fit(data)        # Fit the data to the visualizer\n",
        "visualizer.show()        # Finalize and render the figure"
      ],
      "metadata": {
        "colab": {
          "base_uri": "https://localhost:8080/",
          "height": 393
        },
        "id": "cUA9MUa15s-g",
        "outputId": "8e9e7003-bee6-4dee-8c35-c0d4501b2c8c"
      },
      "execution_count": null,
      "outputs": [
        {
          "output_type": "display_data",
          "data": {
            "text/plain": [
              "<Figure size 576x396 with 2 Axes>"
            ],
            "image/png": "[encoded data removed]"
          },
          "metadata": {}
        },
        {
          "output_type": "execute_result",
          "data": {
            "text/plain": [
              "<matplotlib.axes._subplots.AxesSubplot at 0x7f4580f8aa30>"
            ]
          },
          "metadata": {},
          "execution_count": 195
        }
      ]
    },
    {
      "cell_type": "code",
      "source": [
        "# Remplir le nombre de clusters à passer pour l'algorithme k-means\n",
        "kmeans = KMeans(3)\n",
        "kmeans.fit(data)"
      ],
      "metadata": {
        "colab": {
          "base_uri": "https://localhost:8080/"
        },
        "id": "rEXMC4_q6ayv",
        "outputId": "68968b98-edce-4e8e-eb11-599b57fbe2d8"
      },
      "execution_count": null,
      "outputs": [
        {
          "output_type": "execute_result",
          "data": {
            "text/plain": [
              "KMeans(n_clusters=3)"
            ]
          },
          "metadata": {},
          "execution_count": 196
        }
      ]
    },
    {
      "cell_type": "code",
      "source": [
        "# Afiicher les centroides finaux\n",
        "pd.DataFrame(kmeans.cluster_centers_, columns=data.columns)"
      ],
      "metadata": {
        "colab": {
          "base_uri": "https://localhost:8080/",
          "height": 207
        },
        "id": "7ddD_FWrCMBM",
        "outputId": "b9e4d322-999d-4103-8594-f8923fbaff54"
      },
      "execution_count": null,
      "outputs": [
        {
          "output_type": "execute_result",
          "data": {
            "text/plain": [
              "   revenuAnnuel   salaire       age  anneeTravaillee  nbDernierCreditRefuse  \\\n",
              "0      4.659711  5.473884  5.541161         2.831984               5.807692   \n",
              "1      5.098998  5.946400  3.635858         3.041078               6.548780   \n",
              "2      3.615496  4.289494  9.140351        11.000000               6.666667   \n",
              "\n",
              "   nbDernierCreditQccepte  PersonnesEnCharge  RevenuNetMoyen  nbVoitures  \\\n",
              "0                6.865385           5.567308        4.659711    4.397436   \n",
              "1                5.451220           5.695122        5.098998    4.617886   \n",
              "2                7.000000           5.500000        3.615496    5.000000   \n",
              "\n",
              "   catgSocialePro  statutSocial  Residence  secteurTravail  \n",
              "0        7.634615          11.0   8.211538        6.264423  \n",
              "1        7.829268           1.0   4.902439        6.320122  \n",
              "2        1.000000          11.0   7.333333        5.333333  "
            ],
            "text/html": [
              "\n",
              "  <div id=\"df-a57dad7d-993b-4c57-8243-bba9fa78c7a9\">\n",
              "    <div class=\"colab-df-container\">\n",
              "      <div>\n",
              "<style scoped>\n",
              "    .dataframe tbody tr th:only-of-type {\n",
              "        vertical-align: middle;\n",
              "    }\n",
              "\n",
              "    .dataframe tbody tr th {\n",
              "        vertical-align: top;\n",
              "    }\n",
              "\n",
              "    .dataframe thead th {\n",
              "        text-align: right;\n",
              "    }\n",
              "</style>\n",
              "<table border=\"1\" class=\"dataframe\">\n",
              "  <thead>\n",
              "    <tr style=\"text-align: right;\">\n",
              "      <th></th>\n",
              "      <th>revenuAnnuel</th>\n",
              "      <th>salaire</th>\n",
              "      <th>age</th>\n",
              "      <th>anneeTravaillee</th>\n",
              "      <th>nbDernierCreditRefuse</th>\n",
              "      <th>nbDernierCreditQccepte</th>\n",
              "      <th>PersonnesEnCharge</th>\n",
              "      <th>RevenuNetMoyen</th>\n",
              "      <th>nbVoitures</th>\n",
              "      <th>catgSocialePro</th>\n",
              "      <th>statutSocial</th>\n",
              "      <th>Residence</th>\n",
              "      <th>secteurTravail</th>\n",
              "    </tr>\n",
              "  </thead>\n",
              "  <tbody>\n",
              "    <tr>\n",
              "      <th>0</th>\n",
              "      <td>4.659711</td>\n",
              "      <td>5.473884</td>\n",
              "      <td>5.541161</td>\n",
              "      <td>2.831984</td>\n",
              "      <td>5.807692</td>\n",
              "      <td>6.865385</td>\n",
              "      <td>5.567308</td>\n",
              "      <td>4.659711</td>\n",
              "      <td>4.397436</td>\n",
              "      <td>7.634615</td>\n",
              "      <td>11.0</td>\n",
              "      <td>8.211538</td>\n",
              "      <td>6.264423</td>\n",
              "    </tr>\n",
              "    <tr>\n",
              "      <th>1</th>\n",
              "      <td>5.098998</td>\n",
              "      <td>5.946400</td>\n",
              "      <td>3.635858</td>\n",
              "      <td>3.041078</td>\n",
              "      <td>6.548780</td>\n",
              "      <td>5.451220</td>\n",
              "      <td>5.695122</td>\n",
              "      <td>5.098998</td>\n",
              "      <td>4.617886</td>\n",
              "      <td>7.829268</td>\n",
              "      <td>1.0</td>\n",
              "      <td>4.902439</td>\n",
              "      <td>6.320122</td>\n",
              "    </tr>\n",
              "    <tr>\n",
              "      <th>2</th>\n",
              "      <td>3.615496</td>\n",
              "      <td>4.289494</td>\n",
              "      <td>9.140351</td>\n",
              "      <td>11.000000</td>\n",
              "      <td>6.666667</td>\n",
              "      <td>7.000000</td>\n",
              "      <td>5.500000</td>\n",
              "      <td>3.615496</td>\n",
              "      <td>5.000000</td>\n",
              "      <td>1.000000</td>\n",
              "      <td>11.0</td>\n",
              "      <td>7.333333</td>\n",
              "      <td>5.333333</td>\n",
              "    </tr>\n",
              "  </tbody>\n",
              "</table>\n",
              "</div>\n",
              "      <button class=\"colab-df-convert\" onclick=\"convertToInteractive('df-a57dad7d-993b-4c57-8243-bba9fa78c7a9')\"\n",
              "              title=\"Convert this dataframe to an interactive table.\"\n",
              "              style=\"display:none;\">\n",
              "        \n",
              "  <svg xmlns=\"http://www.w3.org/2000/svg\" height=\"24px\"viewBox=\"0 0 24 24\"\n",
              "       width=\"24px\">\n",
              "    <path d=\"M0 0h24v24H0V0z\" fill=\"none\"/>\n",
              "    <path d=\"M18.56 5.44l.94 2.06.94-2.06 2.06-.94-2.06-.94-.94-2.06-.94 2.06-2.06.94zm-11 1L8.5 8.5l.94-2.06 2.06-.94-2.06-.94L8.5 2.5l-.94 2.06-2.06.94zm10 10l.94 2.06.94-2.06 2.06-.94-2.06-.94-.94-2.06-.94 2.06-2.06.94z\"/><path d=\"M17.41 7.96l-1.37-1.37c-.4-.4-.92-.59-1.43-.59-.52 0-1.04.2-1.43.59L10.3 9.45l-7.72 7.72c-.78.78-.78 2.05 0 2.83L4 21.41c.39.39.9.59 1.41.59.51 0 1.02-.2 1.41-.59l7.78-7.78 2.81-2.81c.8-.78.8-2.07 0-2.86zM5.41 20L4 18.59l7.72-7.72 1.47 1.35L5.41 20z\"/>\n",
              "  </svg>\n",
              "      </button>\n",
              "      \n",
              "  <style>\n",
              "    .colab-df-container {\n",
              "      display:flex;\n",
              "      flex-wrap:wrap;\n",
              "      gap: 12px;\n",
              "    }\n",
              "\n",
              "    .colab-df-convert {\n",
              "      background-color: #E8F0FE;\n",
              "      border: none;\n",
              "      border-radius: 50%;\n",
              "      cursor: pointer;\n",
              "      display: none;\n",
              "      fill: #1967D2;\n",
              "      height: 32px;\n",
              "      padding: 0 0 0 0;\n",
              "      width: 32px;\n",
              "    }\n",
              "\n",
              "    .colab-df-convert:hover {\n",
              "      background-color: #E2EBFA;\n",
              "      box-shadow: 0px 1px 2px rgba(60, 64, 67, 0.3), 0px 1px 3px 1px rgba(60, 64, 67, 0.15);\n",
              "      fill: #174EA6;\n",
              "    }\n",
              "\n",
              "    [theme=dark] .colab-df-convert {\n",
              "      background-color: #3B4455;\n",
              "      fill: #D2E3FC;\n",
              "    }\n",
              "\n",
              "    [theme=dark] .colab-df-convert:hover {\n",
              "      background-color: #434B5C;\n",
              "      box-shadow: 0px 1px 3px 1px rgba(0, 0, 0, 0.15);\n",
              "      filter: drop-shadow(0px 1px 2px rgba(0, 0, 0, 0.3));\n",
              "      fill: #FFFFFF;\n",
              "    }\n",
              "  </style>\n",
              "\n",
              "      <script>\n",
              "        const buttonEl =\n",
              "          document.querySelector('#df-a57dad7d-993b-4c57-8243-bba9fa78c7a9 button.colab-df-convert');\n",
              "        buttonEl.style.display =\n",
              "          google.colab.kernel.accessAllowed ? 'block' : 'none';\n",
              "\n",
              "        async function convertToInteractive(key) {\n",
              "          const element = document.querySelector('#df-a57dad7d-993b-4c57-8243-bba9fa78c7a9');\n",
              "          const dataTable =\n",
              "            await google.colab.kernel.invokeFunction('convertToInteractive',\n",
              "                                                     [key], {});\n",
              "          if (!dataTable) return;\n",
              "\n",
              "          const docLinkHtml = 'Like what you see? Visit the ' +\n",
              "            '<a target=\"_blank\" href=https://colab.research.google.com/notebooks/data_table.ipynb>data table notebook</a>'\n",
              "            + ' to learn more about interactive tables.';\n",
              "          element.innerHTML = '';\n",
              "          dataTable['output_type'] = 'display_data';\n",
              "          await google.colab.output.renderOutput(dataTable, element);\n",
              "          const docLink = document.createElement('div');\n",
              "          docLink.innerHTML = docLinkHtml;\n",
              "          element.appendChild(docLink);\n",
              "        }\n",
              "      </script>\n",
              "    </div>\n",
              "  </div>\n",
              "  "
            ]
          },
          "metadata": {},
          "execution_count": 197
        }
      ]
    },
    {
      "cell_type": "code",
      "source": [
        "labels= kmeans.labels_"
      ],
      "metadata": {
        "id": "IEDS-frjDLdW"
      },
      "execution_count": null,
      "outputs": []
    },
    {
      "cell_type": "code",
      "source": [
        "def random_centroids(data, k):\n",
        "    centroids = []\n",
        "    for i in range(k):\n",
        "        centroid = data.apply(lambda x: float(x.sample()))\n",
        "        centroids.append(centroid)\n",
        "    return pd.concat(centroids, axis=1)"
      ],
      "metadata": {
        "id": "46jjhFSjlhbT"
      },
      "execution_count": null,
      "outputs": []
    },
    {
      "cell_type": "code",
      "source": [
        "# Initialize random 3 centroids => we want 3 clusters\n",
        "centroids = random_centroids(data, 3)\n",
        "centroids"
      ],
      "metadata": {
        "colab": {
          "base_uri": "https://localhost:8080/",
          "height": 457
        },
        "id": "8JxwLEJFljIr",
        "outputId": "26bb3e0c-a837-4fae-83e8-7d08f577f6e0"
      },
      "execution_count": null,
      "outputs": [
        {
          "output_type": "execute_result",
          "data": {
            "text/plain": [
              "                                0          1          2\n",
              "revenuAnnuel             1.113675   5.649701   4.599835\n",
              "salaire                  2.138911   5.035251   1.018602\n",
              "age                      2.052632   1.877193   2.578947\n",
              "anneeTravaillee          3.105263   5.736842   3.105263\n",
              "nbDernierCreditRefuse    8.500000   6.000000   6.000000\n",
              "nbDernierCreditQccepte  11.000000  11.000000  11.000000\n",
              "PersonnesEnCharge       11.000000   8.500000   8.500000\n",
              "RevenuNetMoyen           8.038945   5.335463   2.487053\n",
              "nbVoitures               1.000000   7.666667   4.333333\n",
              "catgSocialePro           6.000000   6.000000  11.000000\n",
              "statutSocial            11.000000   1.000000  11.000000\n",
              "Residence                1.000000   1.000000   1.000000\n",
              "secteurTravail           2.250000  11.000000   6.000000"
            ],
            "text/html": [
              "\n",
              "  <div id=\"df-ef1c0b65-1221-4883-82f0-72a584e50178\">\n",
              "    <div class=\"colab-df-container\">\n",
              "      <div>\n",
              "<style scoped>\n",
              "    .dataframe tbody tr th:only-of-type {\n",
              "        vertical-align: middle;\n",
              "    }\n",
              "\n",
              "    .dataframe tbody tr th {\n",
              "        vertical-align: top;\n",
              "    }\n",
              "\n",
              "    .dataframe thead th {\n",
              "        text-align: right;\n",
              "    }\n",
              "</style>\n",
              "<table border=\"1\" class=\"dataframe\">\n",
              "  <thead>\n",
              "    <tr style=\"text-align: right;\">\n",
              "      <th></th>\n",
              "      <th>0</th>\n",
              "      <th>1</th>\n",
              "      <th>2</th>\n",
              "    </tr>\n",
              "  </thead>\n",
              "  <tbody>\n",
              "    <tr>\n",
              "      <th>revenuAnnuel</th>\n",
              "      <td>1.113675</td>\n",
              "      <td>5.649701</td>\n",
              "      <td>4.599835</td>\n",
              "    </tr>\n",
              "    <tr>\n",
              "      <th>salaire</th>\n",
              "      <td>2.138911</td>\n",
              "      <td>5.035251</td>\n",
              "      <td>1.018602</td>\n",
              "    </tr>\n",
              "    <tr>\n",
              "      <th>age</th>\n",
              "      <td>2.052632</td>\n",
              "      <td>1.877193</td>\n",
              "      <td>2.578947</td>\n",
              "    </tr>\n",
              "    <tr>\n",
              "      <th>anneeTravaillee</th>\n",
              "      <td>3.105263</td>\n",
              "      <td>5.736842</td>\n",
              "      <td>3.105263</td>\n",
              "    </tr>\n",
              "    <tr>\n",
              "      <th>nbDernierCreditRefuse</th>\n",
              "      <td>8.500000</td>\n",
              "      <td>6.000000</td>\n",
              "      <td>6.000000</td>\n",
              "    </tr>\n",
              "    <tr>\n",
              "      <th>nbDernierCreditQccepte</th>\n",
              "      <td>11.000000</td>\n",
              "      <td>11.000000</td>\n",
              "      <td>11.000000</td>\n",
              "    </tr>\n",
              "    <tr>\n",
              "      <th>PersonnesEnCharge</th>\n",
              "      <td>11.000000</td>\n",
              "      <td>8.500000</td>\n",
              "      <td>8.500000</td>\n",
              "    </tr>\n",
              "    <tr>\n",
              "      <th>RevenuNetMoyen</th>\n",
              "      <td>8.038945</td>\n",
              "      <td>5.335463</td>\n",
              "      <td>2.487053</td>\n",
              "    </tr>\n",
              "    <tr>\n",
              "      <th>nbVoitures</th>\n",
              "      <td>1.000000</td>\n",
              "      <td>7.666667</td>\n",
              "      <td>4.333333</td>\n",
              "    </tr>\n",
              "    <tr>\n",
              "      <th>catgSocialePro</th>\n",
              "      <td>6.000000</td>\n",
              "      <td>6.000000</td>\n",
              "      <td>11.000000</td>\n",
              "    </tr>\n",
              "    <tr>\n",
              "      <th>statutSocial</th>\n",
              "      <td>11.000000</td>\n",
              "      <td>1.000000</td>\n",
              "      <td>11.000000</td>\n",
              "    </tr>\n",
              "    <tr>\n",
              "      <th>Residence</th>\n",
              "      <td>1.000000</td>\n",
              "      <td>1.000000</td>\n",
              "      <td>1.000000</td>\n",
              "    </tr>\n",
              "    <tr>\n",
              "      <th>secteurTravail</th>\n",
              "      <td>2.250000</td>\n",
              "      <td>11.000000</td>\n",
              "      <td>6.000000</td>\n",
              "    </tr>\n",
              "  </tbody>\n",
              "</table>\n",
              "</div>\n",
              "      <button class=\"colab-df-convert\" onclick=\"convertToInteractive('df-ef1c0b65-1221-4883-82f0-72a584e50178')\"\n",
              "              title=\"Convert this dataframe to an interactive table.\"\n",
              "              style=\"display:none;\">\n",
              "        \n",
              "  <svg xmlns=\"http://www.w3.org/2000/svg\" height=\"24px\"viewBox=\"0 0 24 24\"\n",
              "       width=\"24px\">\n",
              "    <path d=\"M0 0h24v24H0V0z\" fill=\"none\"/>\n",
              "    <path d=\"M18.56 5.44l.94 2.06.94-2.06 2.06-.94-2.06-.94-.94-2.06-.94 2.06-2.06.94zm-11 1L8.5 8.5l.94-2.06 2.06-.94-2.06-.94L8.5 2.5l-.94 2.06-2.06.94zm10 10l.94 2.06.94-2.06 2.06-.94-2.06-.94-.94-2.06-.94 2.06-2.06.94z\"/><path d=\"M17.41 7.96l-1.37-1.37c-.4-.4-.92-.59-1.43-.59-.52 0-1.04.2-1.43.59L10.3 9.45l-7.72 7.72c-.78.78-.78 2.05 0 2.83L4 21.41c.39.39.9.59 1.41.59.51 0 1.02-.2 1.41-.59l7.78-7.78 2.81-2.81c.8-.78.8-2.07 0-2.86zM5.41 20L4 18.59l7.72-7.72 1.47 1.35L5.41 20z\"/>\n",
              "  </svg>\n",
              "      </button>\n",
              "      \n",
              "  <style>\n",
              "    .colab-df-container {\n",
              "      display:flex;\n",
              "      flex-wrap:wrap;\n",
              "      gap: 12px;\n",
              "    }\n",
              "\n",
              "    .colab-df-convert {\n",
              "      background-color: #E8F0FE;\n",
              "      border: none;\n",
              "      border-radius: 50%;\n",
              "      cursor: pointer;\n",
              "      display: none;\n",
              "      fill: #1967D2;\n",
              "      height: 32px;\n",
              "      padding: 0 0 0 0;\n",
              "      width: 32px;\n",
              "    }\n",
              "\n",
              "    .colab-df-convert:hover {\n",
              "      background-color: #E2EBFA;\n",
              "      box-shadow: 0px 1px 2px rgba(60, 64, 67, 0.3), 0px 1px 3px 1px rgba(60, 64, 67, 0.15);\n",
              "      fill: #174EA6;\n",
              "    }\n",
              "\n",
              "    [theme=dark] .colab-df-convert {\n",
              "      background-color: #3B4455;\n",
              "      fill: #D2E3FC;\n",
              "    }\n",
              "\n",
              "    [theme=dark] .colab-df-convert:hover {\n",
              "      background-color: #434B5C;\n",
              "      box-shadow: 0px 1px 3px 1px rgba(0, 0, 0, 0.15);\n",
              "      filter: drop-shadow(0px 1px 2px rgba(0, 0, 0, 0.3));\n",
              "      fill: #FFFFFF;\n",
              "    }\n",
              "  </style>\n",
              "\n",
              "      <script>\n",
              "        const buttonEl =\n",
              "          document.querySelector('#df-ef1c0b65-1221-4883-82f0-72a584e50178 button.colab-df-convert');\n",
              "        buttonEl.style.display =\n",
              "          google.colab.kernel.accessAllowed ? 'block' : 'none';\n",
              "\n",
              "        async function convertToInteractive(key) {\n",
              "          const element = document.querySelector('#df-ef1c0b65-1221-4883-82f0-72a584e50178');\n",
              "          const dataTable =\n",
              "            await google.colab.kernel.invokeFunction('convertToInteractive',\n",
              "                                                     [key], {});\n",
              "          if (!dataTable) return;\n",
              "\n",
              "          const docLinkHtml = 'Like what you see? Visit the ' +\n",
              "            '<a target=\"_blank\" href=https://colab.research.google.com/notebooks/data_table.ipynb>data table notebook</a>'\n",
              "            + ' to learn more about interactive tables.';\n",
              "          element.innerHTML = '';\n",
              "          dataTable['output_type'] = 'display_data';\n",
              "          await google.colab.output.renderOutput(dataTable, element);\n",
              "          const docLink = document.createElement('div');\n",
              "          docLink.innerHTML = docLinkHtml;\n",
              "          element.appendChild(docLink);\n",
              "        }\n",
              "      </script>\n",
              "    </div>\n",
              "  </div>\n",
              "  "
            ]
          },
          "metadata": {},
          "execution_count": 200
        }
      ]
    },
    {
      "cell_type": "code",
      "source": [
        "# Distance entre chaque joueur et chaque cluster \n",
        "distances = centroids.apply(lambda x: np.sqrt(((data - x) ** 2).sum(axis=1)))\n",
        "distances"
      ],
      "metadata": {
        "colab": {
          "base_uri": "https://localhost:8080/",
          "height": 424
        },
        "id": "oyZCsWX9lm3q",
        "outputId": "9243dc68-73b1-4904-e4a0-f95fead7f275"
      },
      "execution_count": null,
      "outputs": [
        {
          "output_type": "execute_result",
          "data": {
            "text/plain": [
              "             0          1          2\n",
              "0    21.591116  16.527662  20.776682\n",
              "1    14.260654  11.311090  14.101101\n",
              "2    16.076425  15.133705  16.392651\n",
              "3    18.097883  15.031679  16.570621\n",
              "4    14.662156   9.952804  13.282642\n",
              "..         ...        ...        ...\n",
              "144  21.917349  15.679026  20.754612\n",
              "145  17.691519  21.082395  17.936014\n",
              "146  20.987013  17.868067  19.115765\n",
              "147  19.256603  13.318076  17.326957\n",
              "148  14.645102  17.069141  13.401639\n",
              "\n",
              "[149 rows x 3 columns]"
            ],
            "text/html": [
              "\n",
              "  <div id=\"df-39f32edd-a428-41f4-aad9-d657b9b6d93f\">\n",
              "    <div class=\"colab-df-container\">\n",
              "      <div>\n",
              "<style scoped>\n",
              "    .dataframe tbody tr th:only-of-type {\n",
              "        vertical-align: middle;\n",
              "    }\n",
              "\n",
              "    .dataframe tbody tr th {\n",
              "        vertical-align: top;\n",
              "    }\n",
              "\n",
              "    .dataframe thead th {\n",
              "        text-align: right;\n",
              "    }\n",
              "</style>\n",
              "<table border=\"1\" class=\"dataframe\">\n",
              "  <thead>\n",
              "    <tr style=\"text-align: right;\">\n",
              "      <th></th>\n",
              "      <th>0</th>\n",
              "      <th>1</th>\n",
              "      <th>2</th>\n",
              "    </tr>\n",
              "  </thead>\n",
              "  <tbody>\n",
              "    <tr>\n",
              "      <th>0</th>\n",
              "      <td>21.591116</td>\n",
              "      <td>16.527662</td>\n",
              "      <td>20.776682</td>\n",
              "    </tr>\n",
              "    <tr>\n",
              "      <th>1</th>\n",
              "      <td>14.260654</td>\n",
              "      <td>11.311090</td>\n",
              "      <td>14.101101</td>\n",
              "    </tr>\n",
              "    <tr>\n",
              "      <th>2</th>\n",
              "      <td>16.076425</td>\n",
              "      <td>15.133705</td>\n",
              "      <td>16.392651</td>\n",
              "    </tr>\n",
              "    <tr>\n",
              "      <th>3</th>\n",
              "      <td>18.097883</td>\n",
              "      <td>15.031679</td>\n",
              "      <td>16.570621</td>\n",
              "    </tr>\n",
              "    <tr>\n",
              "      <th>4</th>\n",
              "      <td>14.662156</td>\n",
              "      <td>9.952804</td>\n",
              "      <td>13.282642</td>\n",
              "    </tr>\n",
              "    <tr>\n",
              "      <th>...</th>\n",
              "      <td>...</td>\n",
              "      <td>...</td>\n",
              "      <td>...</td>\n",
              "    </tr>\n",
              "    <tr>\n",
              "      <th>144</th>\n",
              "      <td>21.917349</td>\n",
              "      <td>15.679026</td>\n",
              "      <td>20.754612</td>\n",
              "    </tr>\n",
              "    <tr>\n",
              "      <th>145</th>\n",
              "      <td>17.691519</td>\n",
              "      <td>21.082395</td>\n",
              "      <td>17.936014</td>\n",
              "    </tr>\n",
              "    <tr>\n",
              "      <th>146</th>\n",
              "      <td>20.987013</td>\n",
              "      <td>17.868067</td>\n",
              "      <td>19.115765</td>\n",
              "    </tr>\n",
              "    <tr>\n",
              "      <th>147</th>\n",
              "      <td>19.256603</td>\n",
              "      <td>13.318076</td>\n",
              "      <td>17.326957</td>\n",
              "    </tr>\n",
              "    <tr>\n",
              "      <th>148</th>\n",
              "      <td>14.645102</td>\n",
              "      <td>17.069141</td>\n",
              "      <td>13.401639</td>\n",
              "    </tr>\n",
              "  </tbody>\n",
              "</table>\n",
              "<p>149 rows × 3 columns</p>\n",
              "</div>\n",
              "      <button class=\"colab-df-convert\" onclick=\"convertToInteractive('df-39f32edd-a428-41f4-aad9-d657b9b6d93f')\"\n",
              "              title=\"Convert this dataframe to an interactive table.\"\n",
              "              style=\"display:none;\">\n",
              "        \n",
              "  <svg xmlns=\"http://www.w3.org/2000/svg\" height=\"24px\"viewBox=\"0 0 24 24\"\n",
              "       width=\"24px\">\n",
              "    <path d=\"M0 0h24v24H0V0z\" fill=\"none\"/>\n",
              "    <path d=\"M18.56 5.44l.94 2.06.94-2.06 2.06-.94-2.06-.94-.94-2.06-.94 2.06-2.06.94zm-11 1L8.5 8.5l.94-2.06 2.06-.94-2.06-.94L8.5 2.5l-.94 2.06-2.06.94zm10 10l.94 2.06.94-2.06 2.06-.94-2.06-.94-.94-2.06-.94 2.06-2.06.94z\"/><path d=\"M17.41 7.96l-1.37-1.37c-.4-.4-.92-.59-1.43-.59-.52 0-1.04.2-1.43.59L10.3 9.45l-7.72 7.72c-.78.78-.78 2.05 0 2.83L4 21.41c.39.39.9.59 1.41.59.51 0 1.02-.2 1.41-.59l7.78-7.78 2.81-2.81c.8-.78.8-2.07 0-2.86zM5.41 20L4 18.59l7.72-7.72 1.47 1.35L5.41 20z\"/>\n",
              "  </svg>\n",
              "      </button>\n",
              "      \n",
              "  <style>\n",
              "    .colab-df-container {\n",
              "      display:flex;\n",
              "      flex-wrap:wrap;\n",
              "      gap: 12px;\n",
              "    }\n",
              "\n",
              "    .colab-df-convert {\n",
              "      background-color: #E8F0FE;\n",
              "      border: none;\n",
              "      border-radius: 50%;\n",
              "      cursor: pointer;\n",
              "      display: none;\n",
              "      fill: #1967D2;\n",
              "      height: 32px;\n",
              "      padding: 0 0 0 0;\n",
              "      width: 32px;\n",
              "    }\n",
              "\n",
              "    .colab-df-convert:hover {\n",
              "      background-color: #E2EBFA;\n",
              "      box-shadow: 0px 1px 2px rgba(60, 64, 67, 0.3), 0px 1px 3px 1px rgba(60, 64, 67, 0.15);\n",
              "      fill: #174EA6;\n",
              "    }\n",
              "\n",
              "    [theme=dark] .colab-df-convert {\n",
              "      background-color: #3B4455;\n",
              "      fill: #D2E3FC;\n",
              "    }\n",
              "\n",
              "    [theme=dark] .colab-df-convert:hover {\n",
              "      background-color: #434B5C;\n",
              "      box-shadow: 0px 1px 3px 1px rgba(0, 0, 0, 0.15);\n",
              "      filter: drop-shadow(0px 1px 2px rgba(0, 0, 0, 0.3));\n",
              "      fill: #FFFFFF;\n",
              "    }\n",
              "  </style>\n",
              "\n",
              "      <script>\n",
              "        const buttonEl =\n",
              "          document.querySelector('#df-39f32edd-a428-41f4-aad9-d657b9b6d93f button.colab-df-convert');\n",
              "        buttonEl.style.display =\n",
              "          google.colab.kernel.accessAllowed ? 'block' : 'none';\n",
              "\n",
              "        async function convertToInteractive(key) {\n",
              "          const element = document.querySelector('#df-39f32edd-a428-41f4-aad9-d657b9b6d93f');\n",
              "          const dataTable =\n",
              "            await google.colab.kernel.invokeFunction('convertToInteractive',\n",
              "                                                     [key], {});\n",
              "          if (!dataTable) return;\n",
              "\n",
              "          const docLinkHtml = 'Like what you see? Visit the ' +\n",
              "            '<a target=\"_blank\" href=https://colab.research.google.com/notebooks/data_table.ipynb>data table notebook</a>'\n",
              "            + ' to learn more about interactive tables.';\n",
              "          element.innerHTML = '';\n",
              "          dataTable['output_type'] = 'display_data';\n",
              "          await google.colab.output.renderOutput(dataTable, element);\n",
              "          const docLink = document.createElement('div');\n",
              "          docLink.innerHTML = docLinkHtml;\n",
              "          element.appendChild(docLink);\n",
              "        }\n",
              "      </script>\n",
              "    </div>\n",
              "  </div>\n",
              "  "
            ]
          },
          "metadata": {},
          "execution_count": 201
        }
      ]
    },
    {
      "cell_type": "code",
      "source": [
        "def get_labels(data, centroids):\n",
        "    distances = centroids.apply(lambda x: np.sqrt(((data - x) ** 2).sum(axis=1)))\n",
        "    return distances.idxmin(axis=1)"
      ],
      "metadata": {
        "id": "86OSFmkPlpgk"
      },
      "execution_count": null,
      "outputs": []
    },
    {
      "cell_type": "code",
      "source": [
        "# Obtenir les labels pour chaque point de données\n",
        "labels = get_labels(data, centroids)\n",
        "labels.value_counts()"
      ],
      "metadata": {
        "colab": {
          "base_uri": "https://localhost:8080/"
        },
        "id": "jqWoeymOlrSD",
        "outputId": "08720f1c-bcb4-45a9-979f-f3c1da968ca6"
      },
      "execution_count": null,
      "outputs": [
        {
          "output_type": "execute_result",
          "data": {
            "text/plain": [
              "1    78\n",
              "2    58\n",
              "0    13\n",
              "dtype: int64"
            ]
          },
          "metadata": {},
          "execution_count": 203
        }
      ]
    },
    {
      "cell_type": "code",
      "source": [
        "# Créer de nouveaux centroïdes\n",
        "def new_centroids(data, labels, k):\n",
        "    centroids = data.groupby(labels).apply(lambda x: np.exp(np.log(x).mean())).T\n",
        "    return centroids"
      ],
      "metadata": {
        "id": "Enx_zkAwlwv0"
      },
      "execution_count": null,
      "outputs": []
    },
    {
      "cell_type": "code",
      "source": [
        "# Tracer les centroïdes en 2D après avoir utilisé PCA\n",
        "def plot_clusters(data, labels, centroids, iteration):\n",
        "    pca = PCA(n_components=2)\n",
        "    data_2d = pca.fit_transform(data)\n",
        "    centroids_2d = pca.transform(centroids.T)\n",
        "    clear_output(wait=True)\n",
        "    plt.title(f'Iteration {iteration}')\n",
        "    plt.scatter(x=data_2d[:,0], y=data_2d[:,1], c=labels)\n",
        "    plt.scatter(x=centroids_2d[:,0], y=centroids_2d[:,1])\n",
        "    plt.show()"
      ],
      "metadata": {
        "id": "vkXf6mCRlzNg"
      },
      "execution_count": null,
      "outputs": []
    },
    {
      "cell_type": "code",
      "source": [
        "# Tout mettre ensemble pour l'algorithme K-means\n",
        "max_iterations = 100\n",
        "centroid_count = 3\n",
        "\n",
        "centroids = random_centroids(data, centroid_count)\n",
        "old_centroids = pd.DataFrame()\n",
        "iteration = 1\n",
        "\n",
        "while iteration < max_iterations and not centroids.equals(old_centroids):\n",
        "    old_centroids = centroids\n",
        "    \n",
        "    labels = get_labels(data, centroids)\n",
        "    centroids = new_centroids(data, labels, centroid_count)\n",
        "    plot_clusters(data, labels, centroids, iteration)\n",
        "    iteration += 1"
      ],
      "metadata": {
        "colab": {
          "base_uri": "https://localhost:8080/",
          "height": 362
        },
        "id": "WzgBC83wl40D",
        "outputId": "00858f82-4a5f-4f23-f0b8-38c31143616d"
      },
      "execution_count": null,
      "outputs": [
        {
          "output_type": "display_data",
          "data": {
            "text/plain": [
              "<Figure size 576x396 with 1 Axes>"
            ],
            "image/png": "[encoded data removed]"
          },
          "metadata": {}
        }
      ]
    },
    {
      "cell_type": "code",
      "source": [
        "centroids"
      ],
      "metadata": {
        "colab": {
          "base_uri": "https://localhost:8080/",
          "height": 457
        },
        "id": "HYuYa_R1l8b0",
        "outputId": "dd953b43-230b-404f-c717-8f03a0ac0169"
      },
      "execution_count": null,
      "outputs": [
        {
          "output_type": "execute_result",
          "data": {
            "text/plain": [
              "                                0         1         2\n",
              "revenuAnnuel             3.769744  3.665355  4.881948\n",
              "salaire                  4.299052  4.182896  5.655052\n",
              "age                      5.625394  3.424006  3.069743\n",
              "anneeTravaillee          3.490440  2.767076  2.656333\n",
              "nbDernierCreditRefuse    4.899045  2.309310  7.795524\n",
              "nbDernierCreditQccepte   5.038896  6.704997  2.535880\n",
              "PersonnesEnCharge        4.448219  2.940149  5.068738\n",
              "RevenuNetMoyen           3.769744  3.665355  4.881948\n",
              "nbVoitures               3.818887  4.239233  3.712396\n",
              "catgSocialePro           4.685230  6.832193  7.855023\n",
              "statutSocial            11.000000  1.000000  1.000000\n",
              "Residence                7.660086  2.729500  3.573598\n",
              "secteurTravail           5.013599  5.855165  5.070338"
            ],
            "text/html": [
              "\n",
              "  <div id=\"df-f06e42da-97e5-4610-a0e5-b78837a61217\">\n",
              "    <div class=\"colab-df-container\">\n",
              "      <div>\n",
              "<style scoped>\n",
              "    .dataframe tbody tr th:only-of-type {\n",
              "        vertical-align: middle;\n",
              "    }\n",
              "\n",
              "    .dataframe tbody tr th {\n",
              "        vertical-align: top;\n",
              "    }\n",
              "\n",
              "    .dataframe thead th {\n",
              "        text-align: right;\n",
              "    }\n",
              "</style>\n",
              "<table border=\"1\" class=\"dataframe\">\n",
              "  <thead>\n",
              "    <tr style=\"text-align: right;\">\n",
              "      <th></th>\n",
              "      <th>0</th>\n",
              "      <th>1</th>\n",
              "      <th>2</th>\n",
              "    </tr>\n",
              "  </thead>\n",
              "  <tbody>\n",
              "    <tr>\n",
              "      <th>revenuAnnuel</th>\n",
              "      <td>3.769744</td>\n",
              "      <td>3.665355</td>\n",
              "      <td>4.881948</td>\n",
              "    </tr>\n",
              "    <tr>\n",
              "      <th>salaire</th>\n",
              "      <td>4.299052</td>\n",
              "      <td>4.182896</td>\n",
              "      <td>5.655052</td>\n",
              "    </tr>\n",
              "    <tr>\n",
              "      <th>age</th>\n",
              "      <td>5.625394</td>\n",
              "      <td>3.424006</td>\n",
              "      <td>3.069743</td>\n",
              "    </tr>\n",
              "    <tr>\n",
              "      <th>anneeTravaillee</th>\n",
              "      <td>3.490440</td>\n",
              "      <td>2.767076</td>\n",
              "      <td>2.656333</td>\n",
              "    </tr>\n",
              "    <tr>\n",
              "      <th>nbDernierCreditRefuse</th>\n",
              "      <td>4.899045</td>\n",
              "      <td>2.309310</td>\n",
              "      <td>7.795524</td>\n",
              "    </tr>\n",
              "    <tr>\n",
              "      <th>nbDernierCreditQccepte</th>\n",
              "      <td>5.038896</td>\n",
              "      <td>6.704997</td>\n",
              "      <td>2.535880</td>\n",
              "    </tr>\n",
              "    <tr>\n",
              "      <th>PersonnesEnCharge</th>\n",
              "      <td>4.448219</td>\n",
              "      <td>2.940149</td>\n",
              "      <td>5.068738</td>\n",
              "    </tr>\n",
              "    <tr>\n",
              "      <th>RevenuNetMoyen</th>\n",
              "      <td>3.769744</td>\n",
              "      <td>3.665355</td>\n",
              "      <td>4.881948</td>\n",
              "    </tr>\n",
              "    <tr>\n",
              "      <th>nbVoitures</th>\n",
              "      <td>3.818887</td>\n",
              "      <td>4.239233</td>\n",
              "      <td>3.712396</td>\n",
              "    </tr>\n",
              "    <tr>\n",
              "      <th>catgSocialePro</th>\n",
              "      <td>4.685230</td>\n",
              "      <td>6.832193</td>\n",
              "      <td>7.855023</td>\n",
              "    </tr>\n",
              "    <tr>\n",
              "      <th>statutSocial</th>\n",
              "      <td>11.000000</td>\n",
              "      <td>1.000000</td>\n",
              "      <td>1.000000</td>\n",
              "    </tr>\n",
              "    <tr>\n",
              "      <th>Residence</th>\n",
              "      <td>7.660086</td>\n",
              "      <td>2.729500</td>\n",
              "      <td>3.573598</td>\n",
              "    </tr>\n",
              "    <tr>\n",
              "      <th>secteurTravail</th>\n",
              "      <td>5.013599</td>\n",
              "      <td>5.855165</td>\n",
              "      <td>5.070338</td>\n",
              "    </tr>\n",
              "  </tbody>\n",
              "</table>\n",
              "</div>\n",
              "      <button class=\"colab-df-convert\" onclick=\"convertToInteractive('df-f06e42da-97e5-4610-a0e5-b78837a61217')\"\n",
              "              title=\"Convert this dataframe to an interactive table.\"\n",
              "              style=\"display:none;\">\n",
              "        \n",
              "  <svg xmlns=\"http://www.w3.org/2000/svg\" height=\"24px\"viewBox=\"0 0 24 24\"\n",
              "       width=\"24px\">\n",
              "    <path d=\"M0 0h24v24H0V0z\" fill=\"none\"/>\n",
              "    <path d=\"M18.56 5.44l.94 2.06.94-2.06 2.06-.94-2.06-.94-.94-2.06-.94 2.06-2.06.94zm-11 1L8.5 8.5l.94-2.06 2.06-.94-2.06-.94L8.5 2.5l-.94 2.06-2.06.94zm10 10l.94 2.06.94-2.06 2.06-.94-2.06-.94-.94-2.06-.94 2.06-2.06.94z\"/><path d=\"M17.41 7.96l-1.37-1.37c-.4-.4-.92-.59-1.43-.59-.52 0-1.04.2-1.43.59L10.3 9.45l-7.72 7.72c-.78.78-.78 2.05 0 2.83L4 21.41c.39.39.9.59 1.41.59.51 0 1.02-.2 1.41-.59l7.78-7.78 2.81-2.81c.8-.78.8-2.07 0-2.86zM5.41 20L4 18.59l7.72-7.72 1.47 1.35L5.41 20z\"/>\n",
              "  </svg>\n",
              "      </button>\n",
              "      \n",
              "  <style>\n",
              "    .colab-df-container {\n",
              "      display:flex;\n",
              "      flex-wrap:wrap;\n",
              "      gap: 12px;\n",
              "    }\n",
              "\n",
              "    .colab-df-convert {\n",
              "      background-color: #E8F0FE;\n",
              "      border: none;\n",
              "      border-radius: 50%;\n",
              "      cursor: pointer;\n",
              "      display: none;\n",
              "      fill: #1967D2;\n",
              "      height: 32px;\n",
              "      padding: 0 0 0 0;\n",
              "      width: 32px;\n",
              "    }\n",
              "\n",
              "    .colab-df-convert:hover {\n",
              "      background-color: #E2EBFA;\n",
              "      box-shadow: 0px 1px 2px rgba(60, 64, 67, 0.3), 0px 1px 3px 1px rgba(60, 64, 67, 0.15);\n",
              "      fill: #174EA6;\n",
              "    }\n",
              "\n",
              "    [theme=dark] .colab-df-convert {\n",
              "      background-color: #3B4455;\n",
              "      fill: #D2E3FC;\n",
              "    }\n",
              "\n",
              "    [theme=dark] .colab-df-convert:hover {\n",
              "      background-color: #434B5C;\n",
              "      box-shadow: 0px 1px 3px 1px rgba(0, 0, 0, 0.15);\n",
              "      filter: drop-shadow(0px 1px 2px rgba(0, 0, 0, 0.3));\n",
              "      fill: #FFFFFF;\n",
              "    }\n",
              "  </style>\n",
              "\n",
              "      <script>\n",
              "        const buttonEl =\n",
              "          document.querySelector('#df-f06e42da-97e5-4610-a0e5-b78837a61217 button.colab-df-convert');\n",
              "        buttonEl.style.display =\n",
              "          google.colab.kernel.accessAllowed ? 'block' : 'none';\n",
              "\n",
              "        async function convertToInteractive(key) {\n",
              "          const element = document.querySelector('#df-f06e42da-97e5-4610-a0e5-b78837a61217');\n",
              "          const dataTable =\n",
              "            await google.colab.kernel.invokeFunction('convertToInteractive',\n",
              "                                                     [key], {});\n",
              "          if (!dataTable) return;\n",
              "\n",
              "          const docLinkHtml = 'Like what you see? Visit the ' +\n",
              "            '<a target=\"_blank\" href=https://colab.research.google.com/notebooks/data_table.ipynb>data table notebook</a>'\n",
              "            + ' to learn more about interactive tables.';\n",
              "          element.innerHTML = '';\n",
              "          dataTable['output_type'] = 'display_data';\n",
              "          await google.colab.output.renderOutput(dataTable, element);\n",
              "          const docLink = document.createElement('div');\n",
              "          docLink.innerHTML = docLinkHtml;\n",
              "          element.appendChild(docLink);\n",
              "        }\n",
              "      </script>\n",
              "    </div>\n",
              "  </div>\n",
              "  "
            ]
          },
          "metadata": {},
          "execution_count": 207
        }
      ]
    },
    {
      "cell_type": "code",
      "source": [
        "labels.value_counts()"
      ],
      "metadata": {
        "colab": {
          "base_uri": "https://localhost:8080/"
        },
        "id": "LUXiwg2Yl-dE",
        "outputId": "eeeb5db2-9ede-4419-c541-7d39027586b4"
      },
      "execution_count": null,
      "outputs": [
        {
          "output_type": "execute_result",
          "data": {
            "text/plain": [
              "0    67\n",
              "2    54\n",
              "1    28\n",
              "dtype: int64"
            ]
          },
          "metadata": {},
          "execution_count": 208
        }
      ]
    },
    {
      "cell_type": "markdown",
      "source": [
        "```\n",
        "# CAH (Classification Ascendante Hiérarchique)\n",
        "```"
      ],
      "metadata": {
        "id": "eHTj2P_-_bH-"
      }
    },
    {
      "cell_type": "code",
      "source": [
        "#générer la matrice des liens\n",
        "Z = linkage(data,method='ward',\n",
        "\n",
        "      metric='euclidean')\n",
        "\n",
        "#affichage du dendrogramme\n",
        "\n",
        "dendrogram(Z, truncate_mode='lastp', p=12, leaf_rotation=45.,leaf_font_size=15., show_contracted=True)\n",
        "plt.title('Truncated Hierarchical Clustering Dendrogram')\n",
        "plt.xlabel('Cluster Size')\n",
        "plt.ylabel('Distance')\n",
        "plt.axhline(y=200)\n",
        "plt.axhline(y=270)\n",
        "plt.show()"
      ],
      "metadata": {
        "colab": {
          "base_uri": "https://localhost:8080/",
          "height": 395
        },
        "id": "aQ-TiOM3Jmt7",
        "outputId": "19adf377-d5b3-45f7-96a7-9c98c17890c6"
      },
      "execution_count": null,
      "outputs": [
        {
          "output_type": "display_data",
          "data": {
            "text/plain": [
              "<Figure size 576x396 with 1 Axes>"
            ],
            "image/png": "[encoded data removed]"
          },
          "metadata": {}
        }
      ]
    },
    {
      "cell_type": "code",
      "source": [
        "k=3\n",
        "Hclustering=AgglomerativeClustering(n_clusters =k, affinity='euclidean', linkage='ward')\n",
        "CAH= Hclustering.fit(data)"
      ],
      "metadata": {
        "id": "tkwcvngIJxAC"
      },
      "execution_count": null,
      "outputs": []
    },
    {
      "cell_type": "code",
      "source": [
        "def plot_clusters_CAH(data, labels):\n",
        "    pca = PCA(n_components=2)\n",
        "    data_2d = pca.fit_transform(data)\n",
        "    clear_output(wait=True)\n",
        "    plt.title('CAH Results')\n",
        "    plt.scatter(x=data_2d[:,0], y=data_2d[:,1], c=labels, cmap='jet_r')\n",
        "    plt.show()"
      ],
      "metadata": {
        "id": "gbTEXs-iJ1aK"
      },
      "execution_count": null,
      "outputs": []
    },
    {
      "cell_type": "code",
      "source": [
        "plot_clusters_CAH(data,labels)"
      ],
      "metadata": {
        "colab": {
          "base_uri": "https://localhost:8080/",
          "height": 362
        },
        "id": "0vSQXtRLJ4ep",
        "outputId": "b7c0f46e-448b-4eac-f823-c0de0323a218"
      },
      "execution_count": null,
      "outputs": [
        {
          "output_type": "display_data",
          "data": {
            "text/plain": [
              "<Figure size 576x396 with 1 Axes>"
            ],
            "image/png": "[encoded data removed]"
          },
          "metadata": {}
        }
      ]
    },
    {
      "cell_type": "markdown",
      "source": [
        "**6- Le déploiement**\n",
        "\n",
        "---\n",
        "\n",
        "\n"
      ],
      "metadata": {
        "id": "jC4Md19C1gen"
      }
    },
    {
      "cell_type": "markdown",
      "source": [
        "Une fois qu'un modèle\n",
        "satisfaisant a été développé et\n",
        "approuvé par les sponsors\n",
        "commerciaux, il est déployé\n",
        "dans l'environnement de\n",
        "production ou dans un\n",
        "environnement de test\n",
        "comparable.\n",
        "\n",
        "L’objectif de cette étapes\n",
        "est de mettre la connaissance obtenue par la\n",
        "modélisation, dans une forme adaptée, et\n",
        "l’intégrer au processus de prise de décision."
      ],
      "metadata": {
        "id": "z0ljV3aGOj3J"
      }
    }
  ]
}